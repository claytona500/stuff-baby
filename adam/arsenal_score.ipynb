{
 "cells": [
  {
   "cell_type": "code",
   "execution_count": 13,
   "metadata": {},
   "outputs": [],
   "source": [
    "import pandas as pd\n",
    "import numpy as np\n",
    "import matplotlib.pyplot as plt"
   ]
  },
  {
   "cell_type": "code",
   "execution_count": 14,
   "metadata": {},
   "outputs": [],
   "source": [
    "# read in pitch category csvs\n",
    "\n",
    "fb = pd.read_csv(r\"Y:\\departments\\research_and_development\\baseball_operations\\clayton_goodiez\\csv\\polished_dfs\\fastball_ready.csv\")\n",
    "bb = pd.read_csv(r\"Y:\\departments\\research_and_development\\baseball_operations\\clayton_goodiez\\csv\\polished_dfs\\breakingball_ready.csv\")\n",
    "os = pd.read_csv(r\"Y:\\departments\\research_and_development\\baseball_operations\\clayton_goodiez\\csv\\polished_dfs\\offspeed_ready.csv\")"
   ]
  },
  {
   "cell_type": "code",
   "execution_count": 15,
   "metadata": {},
   "outputs": [],
   "source": [
    "# combine all 3 dfs\n",
    "\n",
    "all_pitches = pd.concat([fb, bb, os], ignore_index=True)"
   ]
  },
  {
   "cell_type": "code",
   "execution_count": 16,
   "metadata": {},
   "outputs": [],
   "source": [
    "# pare columns, sort by stuff plus, format index\n",
    "\n",
    "all_ready = all_pitches[['player_name', 'pitch_type', 'stuff_plus', 'count']].reset_index(drop=True)\n",
    "all_ready.sort_values(by='stuff_plus', ascending=False, inplace=True)\n",
    "all_ready = all_ready.reset_index(drop=True)\n",
    "all_ready.index = all_ready.index + 1"
   ]
  },
  {
   "cell_type": "code",
   "execution_count": 17,
   "metadata": {},
   "outputs": [],
   "source": [
    "# save to y drive\n",
    "\n",
    "all_ready.to_csv(r\"Y:\\departments\\research_and_development\\baseball_operations\\clayton_goodiez\\csv\\polished_dfs\\all_ready.csv\")"
   ]
  },
  {
   "cell_type": "code",
   "execution_count": 18,
   "metadata": {},
   "outputs": [],
   "source": [
    "# groupby pitch count per player to get total pitch count, filter for players that threw at least 300 pitches this season\n",
    "\n",
    "pitch_counts = all_pitches.groupby('player_name')['count'].sum().reset_index()\n",
    "pitch_counts.rename(columns={'count': 'total_count'}, inplace=True)\n",
    "pitch_counts = pitch_counts[pitch_counts['total_count'] >= 300]"
   ]
  },
  {
   "cell_type": "code",
   "execution_count": 19,
   "metadata": {},
   "outputs": [],
   "source": [
    "# merge all pitches and pitch counts\n",
    "\n",
    "arsenals = pd.merge(all_pitches, pitch_counts, on='player_name', how='left')\n",
    "\n",
    "# divide count by total count to get usage rate\n",
    "\n",
    "arsenals['usage'] = arsenals['count'] / arsenals['total_count']\n",
    "\n",
    "# get the product of usage rate and stuff plus for each pitch and sum per player to get arsenal score (weighted stuff plus avg)\n",
    "\n",
    "arsenals['arsenal_score'] = arsenals['stuff_plus'] * arsenals['usage']\n",
    "arsenal_score = arsenals.groupby('player_name')['arsenal_score'].sum().reset_index()\n",
    "\n",
    "# formatting\n",
    "\n",
    "arsenal_score['arsenal_score'] = arsenal_score['arsenal_score'].astype(int)\n",
    "arsenal_score.sort_values(by='arsenal_score', ascending=False, inplace=True)\n",
    "arsenal_score = arsenal_score.reset_index(drop=True)\n",
    "arsenal_score.index = arsenal_score.index + 1"
   ]
  },
  {
   "cell_type": "code",
   "execution_count": 20,
   "metadata": {},
   "outputs": [],
   "source": [
    "# select top 25 rows\n",
    "\n",
    "top_25_rows = arsenal_score[['player_name', 'arsenal_score']].head(25)\n",
    "\n",
    "# plotting rankings as a table\n",
    "\n",
    "fig, ax = plt.subplots(figsize=(5, 6))\n",
    "ax.axis('tight')\n",
    "ax.axis('off')\n",
    "ax.set_title('Top 25 Offspeed Stuff+')\n",
    "table = ax.table(cellText=top_25_rows.values,\n",
    "                 colLabels=top_25_rows.columns,\n",
    "                 loc='center',\n",
    "                 cellLoc='center',\n",
    "                 colLoc='center',\n",
    "                 colWidths=[0.4, 0.2])\n",
    "plt.tight_layout()\n",
    "\n",
    "# save fig and close\n",
    "\n",
    "plt.savefig('arsenal_rankings.png', dpi=300)\n",
    "plt.close()"
   ]
  },
  {
   "cell_type": "code",
   "execution_count": 21,
   "metadata": {},
   "outputs": [],
   "source": [
    "# save to y drive\n",
    "\n",
    "arsenal_score.to_csv(r\"Y:\\departments\\research_and_development\\baseball_operations\\clayton_goodiez\\csv\\polished_dfs\\arsenal_score.csv\")"
   ]
  },
  {
   "cell_type": "code",
   "execution_count": 22,
   "metadata": {},
   "outputs": [
    {
     "name": "stdout",
     "output_type": "stream",
     "text": [
      "      Unnamed: 0      player_name pitch_type  stuff_plus  count\n",
      "7            573  Spencer Strider         FF         206   1940\n",
      "1219         565  Spencer Strider         SL          83   1107\n",
      "1674         232  Spencer Strider         CH          69    237\n"
     ]
    }
   ],
   "source": [
    "print(all_pitches[all_pitches['player_name'] == 'Spencer Strider'])"
   ]
  },
  {
   "cell_type": "code",
   "execution_count": null,
   "metadata": {},
   "outputs": [],
   "source": []
  }
 ],
 "metadata": {
  "kernelspec": {
   "display_name": "driveline",
   "language": "python",
   "name": "python3"
  },
  "language_info": {
   "codemirror_mode": {
    "name": "ipython",
    "version": 3
   },
   "file_extension": ".py",
   "mimetype": "text/x-python",
   "name": "python",
   "nbconvert_exporter": "python",
   "pygments_lexer": "ipython3",
   "version": "3.11.6"
  }
 },
 "nbformat": 4,
 "nbformat_minor": 2
}
