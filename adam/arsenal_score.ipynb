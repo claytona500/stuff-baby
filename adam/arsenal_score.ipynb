{
 "cells": [
  {
   "cell_type": "code",
   "execution_count": 76,
   "metadata": {},
   "outputs": [],
   "source": [
    "import pandas as pd\n",
    "import numpy as np\n",
    "import matplotlib.pyplot as plt"
   ]
  },
  {
   "cell_type": "code",
   "execution_count": 109,
   "metadata": {},
   "outputs": [],
   "source": [
    "fb = pd.read_csv(r\"Y:\\departments\\research_and_development\\baseball_operations\\clayton_goodiez\\csv\\polished_dfs\\fastball_ready.csv\")\n",
    "bb = pd.read_csv(r\"Y:\\departments\\research_and_development\\baseball_operations\\clayton_goodiez\\csv\\polished_dfs\\breakingball_ready.csv\")\n",
    "#os = pd.read_csv(r\"Y:\\departments\\research_and_development\\baseball_operations\\clayton_goodiez\\csv\\polished_dfs\\offspeed_ready.csv\")"
   ]
  },
  {
   "cell_type": "code",
   "execution_count": 110,
   "metadata": {},
   "outputs": [],
   "source": [
    "#all_pitches = pd.concat([fb, bb, os], ignore_index=True)\n",
    "all_pitches = pd.concat([fb, bb], ignore_index=True)"
   ]
  },
  {
   "cell_type": "code",
   "execution_count": 111,
   "metadata": {},
   "outputs": [],
   "source": [
    "pitch_counts = all_pitches.groupby('player_name')['count'].sum().reset_index()\n",
    "pitch_counts.rename(columns={'count': 'total_count'}, inplace=True)\n",
    "pitch_counts = pitch_counts[pitch_counts['total_count'] >= 300]"
   ]
  },
  {
   "cell_type": "code",
   "execution_count": 112,
   "metadata": {},
   "outputs": [],
   "source": [
    "arsenals = pd.merge(all_pitches, pitch_counts, on='player_name', how='left')\n",
    "arsenals['usage'] = arsenals['count'] / arsenals['total_count']\n",
    "arsenals['arsenal_score'] = arsenals['stuff_plus'] * arsenals['usage']\n",
    "arsenal_score = arsenals.groupby('player_name')['arsenal_score'].sum().reset_index()\n",
    "arsenal_score['arsenal_score'] = arsenal_score['arsenal_score'].astype(int)\n",
    "arsenal_score.sort_values(by='arsenal_score', ascending=False, inplace=True)\n",
    "arsenal_score = arsenal_score.reset_index(drop=True)\n",
    "arsenal_score.index = arsenal_score.index + 1"
   ]
  },
  {
   "cell_type": "code",
   "execution_count": 113,
   "metadata": {},
   "outputs": [
    {
     "data": {
      "text/html": [
       "<div>\n",
       "<style scoped>\n",
       "    .dataframe tbody tr th:only-of-type {\n",
       "        vertical-align: middle;\n",
       "    }\n",
       "\n",
       "    .dataframe tbody tr th {\n",
       "        vertical-align: top;\n",
       "    }\n",
       "\n",
       "    .dataframe thead th {\n",
       "        text-align: right;\n",
       "    }\n",
       "</style>\n",
       "<table border=\"1\" class=\"dataframe\">\n",
       "  <thead>\n",
       "    <tr style=\"text-align: right;\">\n",
       "      <th></th>\n",
       "      <th>player_name</th>\n",
       "      <th>arsenal_score</th>\n",
       "    </tr>\n",
       "  </thead>\n",
       "  <tbody>\n",
       "    <tr>\n",
       "      <th>1</th>\n",
       "      <td>Helsley, Ryan</td>\n",
       "      <td>198</td>\n",
       "    </tr>\n",
       "    <tr>\n",
       "      <th>2</th>\n",
       "      <td>Clase, Emmanuel</td>\n",
       "      <td>182</td>\n",
       "    </tr>\n",
       "    <tr>\n",
       "      <th>3</th>\n",
       "      <td>Jax, Griffin</td>\n",
       "      <td>177</td>\n",
       "    </tr>\n",
       "    <tr>\n",
       "      <th>4</th>\n",
       "      <td>Bautista, Félix</td>\n",
       "      <td>176</td>\n",
       "    </tr>\n",
       "    <tr>\n",
       "      <th>5</th>\n",
       "      <td>Rasmussen, Drew</td>\n",
       "      <td>169</td>\n",
       "    </tr>\n",
       "    <tr>\n",
       "      <th>6</th>\n",
       "      <td>Fairbanks, Pete</td>\n",
       "      <td>168</td>\n",
       "    </tr>\n",
       "    <tr>\n",
       "      <th>7</th>\n",
       "      <td>Megill, Trevor</td>\n",
       "      <td>165</td>\n",
       "    </tr>\n",
       "    <tr>\n",
       "      <th>8</th>\n",
       "      <td>Pressly, Ryan</td>\n",
       "      <td>164</td>\n",
       "    </tr>\n",
       "    <tr>\n",
       "      <th>9</th>\n",
       "      <td>Jackson, Luke</td>\n",
       "      <td>161</td>\n",
       "    </tr>\n",
       "    <tr>\n",
       "      <th>10</th>\n",
       "      <td>Sewald, Paul</td>\n",
       "      <td>161</td>\n",
       "    </tr>\n",
       "  </tbody>\n",
       "</table>\n",
       "</div>"
      ],
      "text/plain": [
       "        player_name  arsenal_score\n",
       "1     Helsley, Ryan            198\n",
       "2   Clase, Emmanuel            182\n",
       "3      Jax, Griffin            177\n",
       "4   Bautista, Félix            176\n",
       "5   Rasmussen, Drew            169\n",
       "6   Fairbanks, Pete            168\n",
       "7    Megill, Trevor            165\n",
       "8     Pressly, Ryan            164\n",
       "9     Jackson, Luke            161\n",
       "10     Sewald, Paul            161"
      ]
     },
     "execution_count": 113,
     "metadata": {},
     "output_type": "execute_result"
    }
   ],
   "source": [
    "arsenal_score.head(10)"
   ]
  },
  {
   "cell_type": "code",
   "execution_count": 114,
   "metadata": {},
   "outputs": [],
   "source": [
    "# select top 25 rows\n",
    "\n",
    "top_25_rows = arsenal_score[['player_name', 'arsenal_score']].head(25)\n",
    "\n",
    "# plotting rankings as a table\n",
    "\n",
    "fig, ax = plt.subplots(figsize=(5, 6))\n",
    "ax.axis('tight')\n",
    "ax.axis('off')\n",
    "ax.set_title('Top 25 Offspeed Stuff+')\n",
    "table = ax.table(cellText=top_25_rows.values,\n",
    "                 colLabels=top_25_rows.columns,\n",
    "                 loc='center',\n",
    "                 cellLoc='center',\n",
    "                 colLoc='center',\n",
    "                 colWidths=[0.4, 0.2])\n",
    "plt.tight_layout()\n",
    "\n",
    "# save fig and close\n",
    "\n",
    "plt.savefig('arsenal_rankings.png', dpi=300)\n",
    "plt.close()"
   ]
  },
  {
   "cell_type": "code",
   "execution_count": 116,
   "metadata": {},
   "outputs": [
    {
     "name": "stdout",
     "output_type": "stream",
     "text": [
      "     Unnamed: 0   player_name pitch_type  stuff_plus  count\n",
      "159         287  Jax, Griffin         FF         117    244\n",
      "657         350  Jax, Griffin         SL         203    576\n",
      "     Unnamed: 0   player_name pitch_type  stuff_plus  count\n",
      "159         287  Jax, Griffin         FF         117    244\n"
     ]
    }
   ],
   "source": [
    "print(all_pitches[all_pitches['player_name'] == 'Jax, Griffin'])"
   ]
  },
  {
   "cell_type": "code",
   "execution_count": 118,
   "metadata": {},
   "outputs": [
    {
     "name": "stdout",
     "output_type": "stream",
     "text": [
      "10\n"
     ]
    }
   ],
   "source": [
    "count = arsenal_score['player_name'].apply(lambda name: len(name.split()) > 2).sum()\n",
    "print(count)\n"
   ]
  }
 ],
 "metadata": {
  "kernelspec": {
   "display_name": "driveline",
   "language": "python",
   "name": "python3"
  },
  "language_info": {
   "codemirror_mode": {
    "name": "ipython",
    "version": 3
   },
   "file_extension": ".py",
   "mimetype": "text/x-python",
   "name": "python",
   "nbconvert_exporter": "python",
   "pygments_lexer": "ipython3",
   "version": "3.11.5"
  }
 },
 "nbformat": 4,
 "nbformat_minor": 2
}
