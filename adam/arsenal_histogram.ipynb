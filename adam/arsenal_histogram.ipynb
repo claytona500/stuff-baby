{
 "cells": [
  {
   "cell_type": "code",
   "execution_count": 2,
   "metadata": {},
   "outputs": [],
   "source": [
    "import numpy as np\n",
    "import pandas as pd\n",
    "import matplotlib.pyplot as plt\n",
    "from scipy.stats import gaussian_kde\n",
    "import seaborn as sns\n",
    "import random"
   ]
  },
  {
   "cell_type": "code",
   "execution_count": 3,
   "metadata": {},
   "outputs": [],
   "source": [
    "df = pd.read_csv(r\"Y:\\departments\\research_and_development\\baseball_operations\\clayton_goodiez\\csv\\polished_dfs\\all_ready.csv\")"
   ]
  },
  {
   "cell_type": "code",
   "execution_count": 69,
   "metadata": {},
   "outputs": [],
   "source": [
    "def arsenal_hist(player_name):\n",
    "    player_pitches = df[df['player_name'] == player_name]\n",
    "\n",
    "    player_values = player_pitches.groupby('pitch_type')['stuff_plus'].mean()\n",
    "\n",
    "    np.random.seed(0)\n",
    "\n",
    "    pitch_types = player_pitches['pitch_type'].unique()\n",
    "\n",
    "    num_pitch_types = len(pitch_types)\n",
    "\n",
    "    fig, axes = plt.subplots(nrows=1, ncols=max(num_pitch_types, 1), figsize=(5 * max(num_pitch_types, 1), 5))\n",
    "\n",
    "    if num_pitch_types == 1:\n",
    "        axes = [axes]\n",
    "\n",
    "    def get_random_color():\n",
    "        return \"#\" + ''.join([random.choice('0123456789ABCDEF') for j in range(6)])\n",
    "\n",
    "    for i, pitch_type in enumerate(pitch_types):\n",
    "        pitch_data = df[df['pitch_type'] == pitch_type]['stuff_plus']\n",
    "        kde = gaussian_kde(pitch_data)\n",
    "        x_grid = np.linspace(min(pitch_data), max(pitch_data), 1000)\n",
    "        color = get_random_color()\n",
    "        #color = 'green'\n",
    "        axes[i].fill_between(x_grid, kde(x_grid), color=color, alpha=0.5)\n",
    "        axes[i].plot(x_grid, kde(x_grid), color=color)\n",
    "        axes[i].set_title(f'{pitch_type}', loc='left')\n",
    "\n",
    "        if pitch_type in player_values:\n",
    "            player_value = player_values[pitch_type]\n",
    "            axes[i].axvline(player_value, color='black', linestyle='dashed', linewidth=1.5)\n",
    "\n",
    "        axes[i].tick_params(axis='y', which='both', left=False, labelleft=False)\n",
    "        axes[i].spines['top'].set_visible(False)\n",
    "        axes[i].spines['right'].set_visible(False)\n",
    "        axes[i].spines['left'].set_visible(True)\n",
    "\n",
    "    plt.suptitle(f\"{player_name} Arsenal Stuff+\", fontsize=16, y=1)\n",
    "    plt.tight_layout()\n",
    "    padding = 0.2\n",
    "\n",
    "    plt.savefig(r'C:\\Users\\adam.bloebaum\\Documents\\GitHub\\stuff-baby\\adam\\arsenal_histogram.png')"
   ]
  },
  {
   "cell_type": "code",
   "execution_count": null,
   "metadata": {},
   "outputs": [],
   "source": [
    "arsenal_hist('Sandy Alcantara')"
   ]
  }
 ],
 "metadata": {
  "kernelspec": {
   "display_name": "driveline",
   "language": "python",
   "name": "python3"
  },
  "language_info": {
   "codemirror_mode": {
    "name": "ipython",
    "version": 3
   },
   "file_extension": ".py",
   "mimetype": "text/x-python",
   "name": "python",
   "nbconvert_exporter": "python",
   "pygments_lexer": "ipython3",
   "version": "3.11.5"
  }
 },
 "nbformat": 4,
 "nbformat_minor": 2
}
