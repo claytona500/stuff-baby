{
 "cells": [
  {
   "cell_type": "code",
   "execution_count": null,
   "metadata": {},
   "outputs": [],
   "source": [
    "# outcome probability model for fastballs"
   ]
  },
  {
   "cell_type": "code",
   "execution_count": 120,
   "metadata": {},
   "outputs": [],
   "source": [
    "import xgboost as xgb\n",
    "import numpy as np\n",
    "import matplotlib.pyplot as plt\n",
    "import pandas as pd\n",
    "from sklearn.model_selection import train_test_split\n",
    "from sklearn.preprocessing import LabelEncoder\n",
    "import mysql.connector\n",
    "import pybaseball\n",
    "from sklearn.metrics import accuracy_score, confusion_matrix"
   ]
  },
  {
   "cell_type": "code",
   "execution_count": 196,
   "metadata": {},
   "outputs": [],
   "source": [
    "# load in 2022 mlb season data\n",
    "\n",
    "df = pd.read_csv(r'C:\\Users\\adam.bloebaum\\.vscode\\driveline\\2022_MLB_Season.csv')\n",
    "\n",
    "# load in 2023 mlb season data\n",
    "\n",
    "df_2023 = pd.read_csv(r\"C:\\Users\\adam.bloebaum\\.vscode\\driveline\\2023_MLB_Season.csv\")"
   ]
  },
  {
   "cell_type": "code",
   "execution_count": 197,
   "metadata": {},
   "outputs": [],
   "source": [
    "linear_weights = pd.read_csv(r\"Y:\\departments\\research_and_development\\baseball_operations\\clayton_goodiez\\csv\\linear_weights.csv\")"
   ]
  },
  {
   "cell_type": "code",
   "execution_count": 198,
   "metadata": {},
   "outputs": [],
   "source": [
    "xpfx_x = pd.read_csv(r\"Y:\\departments\\research_and_development\\baseball_operations\\clayton_goodiez\\csv\\2022&3_pfx_x_predictions.csv\")\n",
    "xpfx_z = pd.read_csv(r\"Y:\\departments\\research_and_development\\baseball_operations\\clayton_goodiez\\csv\\2022&3_pfx_z_predictions.csv\")\n",
    "xspin_axis = pd.read_csv(r\"Y:\\departments\\research_and_development\\baseball_operations\\clayton_goodiez\\csv\\2022&3_spin_axis_predictions.csv\")"
   ]
  },
  {
   "cell_type": "code",
   "execution_count": 199,
   "metadata": {},
   "outputs": [
    {
     "name": "stdout",
     "output_type": "stream",
     "text": [
      "Index(['pitch_id_raw', 'pfx_x_cor', 'pfx_x_cor_predicted', 'pfx_x_cor_diff',\n",
      "       'pfx_x_cor_diff_abs'],\n",
      "      dtype='object')\n",
      "Index(['pitch_id_raw', 'pfx_z', 'pfx_z_predicted', 'pfx_z_diff',\n",
      "       'pfx_z_diff_abs'],\n",
      "      dtype='object')\n",
      "Index(['pitch_id_raw', 'spin_axis', 'spin_axis_predicted', 'spin_axis_diff',\n",
      "       'spin_axis_diff_abs'],\n",
      "      dtype='object')\n"
     ]
    }
   ],
   "source": [
    "print(xpfx_x.columns)\n",
    "print(xpfx_z.columns)\n",
    "print(xspin_axis.columns)"
   ]
  },
  {
   "cell_type": "code",
   "execution_count": 200,
   "metadata": {},
   "outputs": [],
   "source": [
    "# Clayton rerun with correct filename\n",
    "\n",
    "xpfx_z.rename(columns={'pfx_z': 'pfx_z_cor'}, inplace=True)\n",
    "xpfx_z.rename(columns={'pfx_z_predicted': 'pfx_z_cor_predicted'}, inplace=True)\n",
    "xpfx_z.rename(columns={'pfx_z_diff': 'pfx_z_cor_diff'}, inplace=True)\n",
    "xpfx_z.rename(columns={'pfx_z_diff_abs': 'pfx_z_cor_diff_abs'}, inplace=True)\n",
    "\n",
    "xspin_axis.rename(columns={'spin_axis': 'spin_axis_cor'}, inplace=True)"
   ]
  },
  {
   "cell_type": "code",
   "execution_count": 201,
   "metadata": {},
   "outputs": [],
   "source": [
    "# ensure df is sequential\n",
    "\n",
    "df.sort_values(by=['game_pk', 'inning', 'at_bat_number', 'pitch_number'], inplace=True)\n",
    "\n",
    "# convert batter handedness columns to binary\n",
    "\n",
    "stand_encoder = LabelEncoder()\n",
    "all_stand = pd.concat([df['stand'], df_2023['stand']]).unique()\n",
    "stand_encoder.fit(all_stand)\n",
    "\n",
    "df['stand'] = stand_encoder.transform(df['stand'])\n",
    "\n",
    "# generate unique id column\n",
    "\n",
    "df['pitch_id_raw'] = df['game_pk'].astype(str) + \"_\" + \\\n",
    "                            df['batter'].astype(str) + \"_\" + \\\n",
    "                            df['pitcher'].astype(str) + \"_\" + \\\n",
    "                            df['pitch_number'].astype(str) + \"_\" + \\\n",
    "                            df['at_bat_number'].astype(str) + \"_\" + \\\n",
    "                            df['inning'].astype(str)\n",
    "\n",
    "# select only fastballs\n",
    "\n",
    "df = df[df['pitch_type'].isin(['FF', 'SI', 'FC', 'FA', 'FT'])]\n",
    "\n",
    "# normalize LHP values to RHP standards\n",
    "\n",
    "df.loc[df['p_throws'] == 'L', 'pfx_x'] = df['pfx_x'] * -1\n",
    "df.loc[df['p_throws'] == 'L', 'release_pos_x'] = df['release_pos_x'] * -1\n",
    "df['spin_axis'] = 360 - df['spin_axis']\n",
    "\n",
    "# total movement column\n",
    "\n",
    "df['pfx_total'] = abs(df['pfx_x']) + abs(df['pfx_z'])\n",
    "\n",
    "# movement ratio column\n",
    "\n",
    "df['pfx_x_ratio'] = abs(df['pfx_x']) / df['pfx_total']\n",
    "df['pfx_z_ratio'] = abs(df['pfx_z']) / df['pfx_total']"
   ]
  },
  {
   "cell_type": "code",
   "execution_count": 202,
   "metadata": {},
   "outputs": [],
   "source": [
    "# ensure df is sequential\n",
    "\n",
    "df_2023.sort_values(by=['game_pk', 'inning', 'at_bat_number', 'pitch_number'], inplace=True)\n",
    "\n",
    "# convert batter handedness columns to binary\n",
    "\n",
    "df_2023['stand'] = stand_encoder.transform(df_2023['stand'])\n",
    "\n",
    "# generate unique id column\n",
    "\n",
    "df_2023['pitch_id_raw'] = df_2023['game_pk'].astype(str) + \"_\" + \\\n",
    "                            df_2023['batter'].astype(str) + \"_\" + \\\n",
    "                            df_2023['pitcher'].astype(str) + \"_\" + \\\n",
    "                            df_2023['pitch_number'].astype(str) + \"_\" + \\\n",
    "                            df_2023['at_bat_number'].astype(str) + \"_\" + \\\n",
    "                            df_2023['inning'].astype(str)\n",
    "\n",
    "# select only fastballs\n",
    "\n",
    "df_2023 = df_2023[df_2023['pitch_type'].isin(['FF', 'SI', 'FC', 'FA', 'FT'])]\n",
    "\n",
    "# normalize LHP values to RHP standards\n",
    "\n",
    "df_2023.loc[df_2023['p_throws'] == 'L', 'pfx_x'] = df_2023['pfx_x'] * -1\n",
    "df_2023.loc[df_2023['p_throws'] == 'L', 'release_pos_x'] = df_2023['release_pos_x'] * -1\n",
    "df_2023['spin_axis'] = 360 - df['spin_axis']\n",
    "\n",
    "# total movement column\n",
    "\n",
    "df_2023['pfx_total'] = abs(df_2023['pfx_x']) + abs(df_2023['pfx_z'])\n",
    "\n",
    "# movement ratio column\n",
    "\n",
    "df_2023['pfx_x_ratio'] = abs(df_2023['pfx_x']) / df_2023['pfx_total']\n",
    "df_2023['pfx_z_ratio'] = abs(df_2023['pfx_z']) / df_2023['pfx_total']"
   ]
  },
  {
   "cell_type": "code",
   "execution_count": 203,
   "metadata": {},
   "outputs": [
    {
     "name": "stdout",
     "output_type": "stream",
     "text": [
      "    Unnamed: 0         description  linear_weight\n",
      "0            0                ball       0.046350\n",
      "1            1  caught_stealing_2b      -0.246377\n",
      "2            2              double       0.753249\n",
      "3            3         double_play      -0.773110\n",
      "4            4           field_out      -0.217943\n",
      "5            5                foul      -0.037243\n",
      "6            6            home_run       1.368162\n",
      "7            7              single       0.467429\n",
      "8            8              strike      -0.052630\n",
      "9            9           strikeout      -0.215231\n",
      "10          10              triple       1.097815\n",
      "11          11                walk       0.236323\n",
      "['ball' 'called_strike' 'foul' 'hit_into_play' 'swinging_strike'\n",
      " 'foul_tip' 'hit_by_pitch' 'blocked_ball' 'missed_bunt' 'foul_bunt'\n",
      " 'swinging_strike_blocked' 'bunt_foul_tip']\n",
      "[nan 'field_out' 'double' 'single' 'walk' 'strikeout' 'hit_by_pitch'\n",
      " 'home_run' 'force_out' 'caught_stealing_2b' 'grounded_into_double_play'\n",
      " 'sac_fly' 'field_error' 'double_play' 'triple' 'fielders_choice'\n",
      " 'sac_bunt' 'catcher_interf' 'fielders_choice_out' 'strikeout_double_play'\n",
      " 'caught_stealing_3b' 'pickoff_caught_stealing_home' 'sac_fly_double_play'\n",
      " 'pickoff_1b' 'pickoff_caught_stealing_3b' 'caught_stealing_home'\n",
      " 'pickoff_caught_stealing_2b' 'triple_play' 'other_out' 'pickoff_3b'\n",
      " 'wild_pitch' 'pickoff_2b' 'game_advisory' 'sac_bunt_double_play']\n"
     ]
    }
   ],
   "source": [
    "print(linear_weights)\n",
    "print(df['description'].unique())\n",
    "print(df['events'].unique())"
   ]
  },
  {
   "cell_type": "code",
   "execution_count": 204,
   "metadata": {},
   "outputs": [],
   "source": [
    "# create outcome column using events and description columns\n",
    "\n",
    "events_mapping = {\n",
    "    'field_out': 'field_out',\n",
    "    'force_out': 'field_out',\n",
    "    'fields_choice_out': 'field_out',\n",
    "    'fielders_choice': 'field_out',\n",
    "    'other_out': 'field_out',\n",
    "    'sac_fly': 'field_out',\n",
    "    'sac_bunt': 'field_out',\n",
    "    'walk': 'walk',\n",
    "    'hit_by_pitch': 'walk',\n",
    "    'strikeout': 'strikeout',\n",
    "    'grounded_into_double_play': 'double_play',\n",
    "    'double_play': 'double_play',\n",
    "    'strikeout_double_play': 'double_play',\n",
    "    'sac_fly_double_play': 'double_play',\n",
    "    'single': 'single',\n",
    "    'double': 'double',\n",
    "    'triple': 'triple',\n",
    "    'home_run': 'home_run'    \n",
    "}\n",
    "\n",
    "\n",
    "description_mapping = {\n",
    "    'ball': 'ball',\n",
    "    'called_strike': 'strike',\n",
    "    'foul': 'foul',\n",
    "    #'hit_into_play': 'hit_into_play',\n",
    "    'swinging_strike': 'strike',\n",
    "    'foul_tip': 'foul',\n",
    "    'hit_by_pitch': 'walk',\n",
    "    'blocked_ball': 'ball' ,\n",
    "    'missed_bunt': 'strike',\n",
    "    'foul_bunt': 'foul',\n",
    "    'swinging_strike_blocked': 'strike',\n",
    "    'bunt_foul_tip': 'foul'\n",
    "}"
   ]
  },
  {
   "cell_type": "code",
   "execution_count": 205,
   "metadata": {},
   "outputs": [],
   "source": [
    "def determine_outcome(row):\n",
    "    \n",
    "    event = row['events']\n",
    "    description = row['description']\n",
    "    \n",
    "    if event in events_mapping:\n",
    "        return events_mapping[event]\n",
    "\n",
    "    elif description in description_mapping:\n",
    "        return description_mapping[description]\n",
    "\n",
    "    else:\n",
    "        return np.nan\n",
    "\n",
    "# Apply the function to each row\n",
    "df['outcome'] = df.apply(determine_outcome, axis=1)\n",
    "df_2023['outcome'] = df_2023.apply(determine_outcome, axis=1)"
   ]
  },
  {
   "cell_type": "code",
   "execution_count": 206,
   "metadata": {},
   "outputs": [
    {
     "name": "stdout",
     "output_type": "stream",
     "text": [
      "['ball' 'strike' 'foul' 'field_out' 'double' 'single' 'walk' 'strikeout'\n",
      " 'home_run' 'double_play' nan 'triple']\n",
      "['strike' 'foul' 'ball' 'single' 'double_play' 'field_out' 'strikeout'\n",
      " 'home_run' 'double' 'walk' 'triple' nan]\n",
      "(410504, 98)\n",
      "(405495, 98)\n"
     ]
    }
   ],
   "source": [
    "print(df['outcome'].unique())\n",
    "print(df_2023['outcome'].unique())\n",
    "print(df.shape)\n",
    "print(df_2023.shape)"
   ]
  },
  {
   "cell_type": "code",
   "execution_count": 207,
   "metadata": {},
   "outputs": [],
   "source": [
    "df.dropna(subset=['outcome'], inplace=True)\n",
    "df_2023.dropna(subset=['outcome'], inplace=True)"
   ]
  },
  {
   "cell_type": "code",
   "execution_count": 208,
   "metadata": {},
   "outputs": [
    {
     "name": "stdout",
     "output_type": "stream",
     "text": [
      "['ball' 'strike' 'foul' 'field_out' 'double' 'single' 'walk' 'strikeout'\n",
      " 'home_run' 'double_play' 'triple']\n",
      "['strike' 'foul' 'ball' 'single' 'double_play' 'field_out' 'strikeout'\n",
      " 'home_run' 'double' 'walk' 'triple']\n",
      "(409730, 98)\n",
      "(404804, 98)\n"
     ]
    }
   ],
   "source": [
    "print(df['outcome'].unique())\n",
    "print(df_2023['outcome'].unique())\n",
    "print(df.shape)\n",
    "print(df_2023.shape)"
   ]
  },
  {
   "cell_type": "code",
   "execution_count": 209,
   "metadata": {},
   "outputs": [],
   "source": [
    "outcome_encoder = LabelEncoder()\n",
    "\n",
    "all_outcome = pd.concat([df['outcome'], df_2023['outcome']]).unique()\n",
    "outcome_encoder.fit(all_outcome)\n",
    "\n",
    "df['outcome'] = outcome_encoder.transform(df['outcome'])\n",
    "df_2023['outcome'] = outcome_encoder.transform(df_2023['outcome'])"
   ]
  },
  {
   "cell_type": "code",
   "execution_count": 210,
   "metadata": {},
   "outputs": [
    {
     "name": "stdout",
     "output_type": "stream",
     "text": [
      "[ 0  7  4  3  1  6 10  8  5  2  9]\n",
      "[ 7  4  0  6  2  3  8  5  1 10  9]\n",
      "(409730, 98)\n",
      "(404804, 98)\n"
     ]
    }
   ],
   "source": [
    "print(df['outcome'].unique())\n",
    "print(df_2023['outcome'].unique())\n",
    "print(df.shape)\n",
    "print(df_2023.shape)"
   ]
  },
  {
   "cell_type": "code",
   "execution_count": 211,
   "metadata": {},
   "outputs": [],
   "source": [
    "# Perform the left joins\n",
    "\n",
    "df = pd.merge(df, xpfx_x, on='pitch_id_raw', how='left')\n",
    "df = pd.merge(df, xpfx_z, on='pitch_id_raw', how='left')\n",
    "df = pd.merge(df, xspin_axis, on='pitch_id_raw', how='left')\n",
    "\n",
    "# Perform the left joins\n",
    "\n",
    "df_2023 = pd.merge(df_2023, xpfx_x, on='pitch_id_raw', how='left')\n",
    "df_2023 = pd.merge(df_2023, xpfx_z, on='pitch_id_raw', how='left')\n",
    "df_2023 = pd.merge(df_2023, xspin_axis, on='pitch_id_raw', how='left')"
   ]
  },
  {
   "cell_type": "code",
   "execution_count": 212,
   "metadata": {},
   "outputs": [],
   "source": [
    "# feature selection and data splitting\n",
    "\n",
    "features = ['release_speed', 'release_pos_x', 'release_pos_y', 'release_pos_z', 'release_extension', 'release_spin_rate', 'spin_axis', 'pfx_x', 'pfx_z', 'pfx_total', 'pfx_x_ratio', 'pfx_z_ratio', 'pfx_x_cor', 'pfx_x_cor_predicted', 'pfx_x_cor_diff', 'pfx_x_cor_diff_abs', 'pfx_z_cor', 'pfx_z_cor_predicted', 'pfx_z_cor_diff_abs', 'spin_axis_cor', 'spin_axis_predicted', 'spin_axis_diff', 'spin_axis_diff_abs']\n",
    "\n",
    "# copy and keep only features\n",
    "\n",
    "df_2023_features = df_2023[features]\n",
    "\n",
    "# create features and targets\n",
    "\n",
    "X = df[features]\n",
    "y = df['outcome']\n",
    "\n",
    "# train valid test split\n",
    "\n",
    "X_train, X_valid, y_train, y_valid = train_test_split(X, y, test_size=0.2, random_state=42)"
   ]
  },
  {
   "cell_type": "code",
   "execution_count": 221,
   "metadata": {},
   "outputs": [
    {
     "name": "stdout",
     "output_type": "stream",
     "text": [
      "Index(['release_speed', 'release_pos_x', 'release_pos_y', 'release_pos_z',\n",
      "       'release_extension', 'release_spin_rate', 'spin_axis', 'pfx_x', 'pfx_z',\n",
      "       'pfx_total', 'pfx_x_ratio', 'pfx_z_ratio', 'pfx_x_cor',\n",
      "       'pfx_x_cor_predicted', 'pfx_x_cor_diff', 'pfx_x_cor_diff_abs',\n",
      "       'pfx_z_cor', 'pfx_z_cor_predicted', 'pfx_z_cor_diff_abs',\n",
      "       'spin_axis_cor', 'spin_axis_predicted', 'spin_axis_diff',\n",
      "       'spin_axis_diff_abs'],\n",
      "      dtype='object')\n"
     ]
    }
   ],
   "source": [
    "print(X_train.columns)"
   ]
  },
  {
   "cell_type": "code",
   "execution_count": 214,
   "metadata": {},
   "outputs": [
    {
     "name": "stderr",
     "output_type": "stream",
     "text": [
      "c:\\Users\\adam.bloebaum\\AppData\\Local\\miniconda3\\envs\\driveline\\Lib\\site-packages\\xgboost\\sklearn.py:1395: UserWarning: `use_label_encoder` is deprecated in 1.7.0.\n",
      "  warnings.warn(\"`use_label_encoder` is deprecated in 1.7.0.\")\n"
     ]
    },
    {
     "data": {
      "text/html": [
       "<style>#sk-container-id-6 {color: black;background-color: white;}#sk-container-id-6 pre{padding: 0;}#sk-container-id-6 div.sk-toggleable {background-color: white;}#sk-container-id-6 label.sk-toggleable__label {cursor: pointer;display: block;width: 100%;margin-bottom: 0;padding: 0.3em;box-sizing: border-box;text-align: center;}#sk-container-id-6 label.sk-toggleable__label-arrow:before {content: \"▸\";float: left;margin-right: 0.25em;color: #696969;}#sk-container-id-6 label.sk-toggleable__label-arrow:hover:before {color: black;}#sk-container-id-6 div.sk-estimator:hover label.sk-toggleable__label-arrow:before {color: black;}#sk-container-id-6 div.sk-toggleable__content {max-height: 0;max-width: 0;overflow: hidden;text-align: left;background-color: #f0f8ff;}#sk-container-id-6 div.sk-toggleable__content pre {margin: 0.2em;color: black;border-radius: 0.25em;background-color: #f0f8ff;}#sk-container-id-6 input.sk-toggleable__control:checked~div.sk-toggleable__content {max-height: 200px;max-width: 100%;overflow: auto;}#sk-container-id-6 input.sk-toggleable__control:checked~label.sk-toggleable__label-arrow:before {content: \"▾\";}#sk-container-id-6 div.sk-estimator input.sk-toggleable__control:checked~label.sk-toggleable__label {background-color: #d4ebff;}#sk-container-id-6 div.sk-label input.sk-toggleable__control:checked~label.sk-toggleable__label {background-color: #d4ebff;}#sk-container-id-6 input.sk-hidden--visually {border: 0;clip: rect(1px 1px 1px 1px);clip: rect(1px, 1px, 1px, 1px);height: 1px;margin: -1px;overflow: hidden;padding: 0;position: absolute;width: 1px;}#sk-container-id-6 div.sk-estimator {font-family: monospace;background-color: #f0f8ff;border: 1px dotted black;border-radius: 0.25em;box-sizing: border-box;margin-bottom: 0.5em;}#sk-container-id-6 div.sk-estimator:hover {background-color: #d4ebff;}#sk-container-id-6 div.sk-parallel-item::after {content: \"\";width: 100%;border-bottom: 1px solid gray;flex-grow: 1;}#sk-container-id-6 div.sk-label:hover label.sk-toggleable__label {background-color: #d4ebff;}#sk-container-id-6 div.sk-serial::before {content: \"\";position: absolute;border-left: 1px solid gray;box-sizing: border-box;top: 0;bottom: 0;left: 50%;z-index: 0;}#sk-container-id-6 div.sk-serial {display: flex;flex-direction: column;align-items: center;background-color: white;padding-right: 0.2em;padding-left: 0.2em;position: relative;}#sk-container-id-6 div.sk-item {position: relative;z-index: 1;}#sk-container-id-6 div.sk-parallel {display: flex;align-items: stretch;justify-content: center;background-color: white;position: relative;}#sk-container-id-6 div.sk-item::before, #sk-container-id-6 div.sk-parallel-item::before {content: \"\";position: absolute;border-left: 1px solid gray;box-sizing: border-box;top: 0;bottom: 0;left: 50%;z-index: -1;}#sk-container-id-6 div.sk-parallel-item {display: flex;flex-direction: column;z-index: 1;position: relative;background-color: white;}#sk-container-id-6 div.sk-parallel-item:first-child::after {align-self: flex-end;width: 50%;}#sk-container-id-6 div.sk-parallel-item:last-child::after {align-self: flex-start;width: 50%;}#sk-container-id-6 div.sk-parallel-item:only-child::after {width: 0;}#sk-container-id-6 div.sk-dashed-wrapped {border: 1px dashed gray;margin: 0 0.4em 0.5em 0.4em;box-sizing: border-box;padding-bottom: 0.4em;background-color: white;}#sk-container-id-6 div.sk-label label {font-family: monospace;font-weight: bold;display: inline-block;line-height: 1.2em;}#sk-container-id-6 div.sk-label-container {text-align: center;}#sk-container-id-6 div.sk-container {/* jupyter's `normalize.less` sets `[hidden] { display: none; }` but bootstrap.min.css set `[hidden] { display: none !important; }` so we also need the `!important` here to be able to override the default hidden behavior on the sphinx rendered scikit-learn.org. See: https://github.com/scikit-learn/scikit-learn/issues/21755 */display: inline-block !important;position: relative;}#sk-container-id-6 div.sk-text-repr-fallback {display: none;}</style><div id=\"sk-container-id-6\" class=\"sk-top-container\"><div class=\"sk-text-repr-fallback\"><pre>XGBClassifier(base_score=None, booster=None, callbacks=None,\n",
       "              colsample_bylevel=None, colsample_bynode=None,\n",
       "              colsample_bytree=None, early_stopping_rounds=None,\n",
       "              enable_categorical=False, eval_metric=&#x27;mlogloss&#x27;,\n",
       "              feature_types=None, gamma=None, gpu_id=None, grow_policy=None,\n",
       "              importance_type=None, interaction_constraints=None,\n",
       "              learning_rate=None, max_bin=None, max_cat_threshold=None,\n",
       "              max_cat_to_onehot=None, max_delta_step=None, max_depth=None,\n",
       "              max_leaves=None, min_child_weight=None, missing=nan,\n",
       "              monotone_constraints=None, n_estimators=100, n_jobs=None,\n",
       "              num_class=11, num_parallel_tree=None, objective=&#x27;multi:softmax&#x27;, ...)</pre><b>In a Jupyter environment, please rerun this cell to show the HTML representation or trust the notebook. <br />On GitHub, the HTML representation is unable to render, please try loading this page with nbviewer.org.</b></div><div class=\"sk-container\" hidden><div class=\"sk-item\"><div class=\"sk-estimator sk-toggleable\"><input class=\"sk-toggleable__control sk-hidden--visually\" id=\"sk-estimator-id-6\" type=\"checkbox\" checked><label for=\"sk-estimator-id-6\" class=\"sk-toggleable__label sk-toggleable__label-arrow\">XGBClassifier</label><div class=\"sk-toggleable__content\"><pre>XGBClassifier(base_score=None, booster=None, callbacks=None,\n",
       "              colsample_bylevel=None, colsample_bynode=None,\n",
       "              colsample_bytree=None, early_stopping_rounds=None,\n",
       "              enable_categorical=False, eval_metric=&#x27;mlogloss&#x27;,\n",
       "              feature_types=None, gamma=None, gpu_id=None, grow_policy=None,\n",
       "              importance_type=None, interaction_constraints=None,\n",
       "              learning_rate=None, max_bin=None, max_cat_threshold=None,\n",
       "              max_cat_to_onehot=None, max_delta_step=None, max_depth=None,\n",
       "              max_leaves=None, min_child_weight=None, missing=nan,\n",
       "              monotone_constraints=None, n_estimators=100, n_jobs=None,\n",
       "              num_class=11, num_parallel_tree=None, objective=&#x27;multi:softmax&#x27;, ...)</pre></div></div></div></div></div>"
      ],
      "text/plain": [
       "XGBClassifier(base_score=None, booster=None, callbacks=None,\n",
       "              colsample_bylevel=None, colsample_bynode=None,\n",
       "              colsample_bytree=None, early_stopping_rounds=None,\n",
       "              enable_categorical=False, eval_metric='mlogloss',\n",
       "              feature_types=None, gamma=None, gpu_id=None, grow_policy=None,\n",
       "              importance_type=None, interaction_constraints=None,\n",
       "              learning_rate=None, max_bin=None, max_cat_threshold=None,\n",
       "              max_cat_to_onehot=None, max_delta_step=None, max_depth=None,\n",
       "              max_leaves=None, min_child_weight=None, missing=nan,\n",
       "              monotone_constraints=None, n_estimators=100, n_jobs=None,\n",
       "              num_class=11, num_parallel_tree=None, objective='multi:softmax', ...)"
      ]
     },
     "execution_count": 214,
     "metadata": {},
     "output_type": "execute_result"
    }
   ],
   "source": [
    "# set up model\n",
    "\n",
    "model = xgb.XGBClassifier(objective='multi:softmax', num_class=11, eval_metric='mlogloss', use_label_encoder=False)\n",
    "\n",
    "# train model\n",
    "\n",
    "model.fit(X_train, y_train)"
   ]
  },
  {
   "cell_type": "code",
   "execution_count": 215,
   "metadata": {},
   "outputs": [
    {
     "name": "stdout",
     "output_type": "stream",
     "text": [
      "Accuracy: 0.30614062919483565\n",
      "Confusion Matrix:\n",
      "[[23475     0     0    33   496     0     2  1193    21     0     0]\n",
      " [  925     0     0     0    18     0     0    48     1     0     0]\n",
      " [  427     0     0     0    10     0     0    21     0     0     0]\n",
      " [ 8692     0     0     8   202     0     0   467     7     0     2]\n",
      " [16120     1     1    22   433     0     1   811     7     0     1]\n",
      " [  615     0     0     2    11     0     0    23     0     0     0]\n",
      " [ 3050     0     0     4    64     0     0   170     1     0     0]\n",
      " [16781     0     0    22   351     1     2  1164     6     0     1]\n",
      " [ 3587     0     0     3   137     0     0   172     7     0     0]\n",
      " [   66     0     0     0     2     0     0     2     0     0     0]\n",
      " [ 2102     0     0     3    54     0     0    97     1     0     0]]\n"
     ]
    }
   ],
   "source": [
    "# make predictions\n",
    "\n",
    "y_pred = model.predict(X_valid)\n",
    "\n",
    "# evaluate the model\n",
    "\n",
    "accuracy = accuracy_score(y_valid, y_pred)\n",
    "conf_matrix = confusion_matrix(y_valid, y_pred)\n",
    "\n",
    "print(f'Accuracy: {accuracy}')\n",
    "print(f'Confusion Matrix:\\n{conf_matrix}')"
   ]
  },
  {
   "cell_type": "code",
   "execution_count": 217,
   "metadata": {},
   "outputs": [
    {
     "data": {
      "text/plain": [
       "<Figure size 1000x5000 with 0 Axes>"
      ]
     },
     "metadata": {},
     "output_type": "display_data"
    },
    {
     "data": {
      "image/png": "[encoded data removed]",
      "text/plain": [
       "<Figure size 640x480 with 1 Axes>"
      ]
     },
     "metadata": {},
     "output_type": "display_data"
    }
   ],
   "source": [
    "# plot feature importances\n",
    "\n",
    "plt.figure(figsize=(10, 50))\n",
    "xgb.plot_importance(model, max_num_features=None, importance_type='gain', max_depth=3, show_values=False)\n",
    "plt.savefig('feature_importance.png')\n",
    "plt.show()\n",
    "\n"
   ]
  },
  {
   "cell_type": "code",
   "execution_count": 219,
   "metadata": {},
   "outputs": [
    {
     "data": {
      "text/plain": [
       "<Figure size 1000x5000 with 0 Axes>"
      ]
     },
     "metadata": {},
     "output_type": "display_data"
    },
    {
     "data": {
      "image/png": "[encoded data removed]",
      "text/plain": [
       "<Figure size 640x480 with 1 Axes>"
      ]
     },
     "metadata": {},
     "output_type": "display_data"
    }
   ],
   "source": [
    "plt.figure(figsize=(10, 50))  # You may adjust this if needed\n",
    "xgb.plot_importance(model, importance_type='gain', show_values=False, height=0.5)\n",
    "plt.title('Feature Importance')\n",
    "plt.xlabel('F-Score')\n",
    "plt.ylabel('Features')\n",
    "plt.yticks(fontsize=8)  # You can adjust fontsize if the labels are too crowded\n",
    "plt.tight_layout()  # Adjust the layout to fit all labels and titles\n",
    "plt.savefig('feature_importance.png', dpi=300)  # Save with high resolution\n",
    "plt.show()"
   ]
  },
  {
   "cell_type": "code",
   "execution_count": 220,
   "metadata": {},
   "outputs": [
    {
     "name": "stdout",
     "output_type": "stream",
     "text": [
      "pfx_z: 3.551003932952881\n",
      "release_speed: 3.3211307525634766\n",
      "pfx_x_ratio: 2.831713914871216\n",
      "release_extension: 2.8044116497039795\n",
      "release_pos_z: 2.7325923442840576\n",
      "pfx_x: 2.6992037296295166\n",
      "pfx_total: 2.656784772872925\n",
      "release_pos_x: 2.627150058746338\n",
      "spin_axis: 2.6191673278808594\n",
      "release_spin_rate: 2.60163950920105\n",
      "release_pos_y: 2.5701262950897217\n"
     ]
    }
   ],
   "source": [
    "# get feature importance dictionary\n",
    "\n",
    "importance = model.get_booster().get_score(importance_type='gain')\n",
    "\n",
    "# sort features by importance\n",
    "\n",
    "sorted_importance = sorted(importance.items(), key=lambda item: item[1], reverse=True)\n",
    "\n",
    "# loop to print\n",
    "\n",
    "for feature, score in sorted_importance:\n",
    "    print(f'{feature}: {score}')"
   ]
  },
  {
   "cell_type": "code",
   "execution_count": 82,
   "metadata": {},
   "outputs": [],
   "source": [
    "# generate outcome probabilities on 2023 mlb season data\n",
    "\n",
    "outcome_probabilities = model.predict_proba(df_2023_features)\n",
    "\n",
    "# apply outcome probabilities back onto full df\n",
    "\n",
    "for i, class_label in enumerate(model.classes_):\n",
    "    df_2023[f'prob_{class_label}'] = outcome_probabilities[:, i]"
   ]
  },
  {
   "cell_type": "code",
   "execution_count": 83,
   "metadata": {},
   "outputs": [
    {
     "name": "stdout",
     "output_type": "stream",
     "text": [
      "{'ball': 0, 'double': 1, 'home_run': 2, 'out': 3, 'single': 4, 'strike': 5, 'triple': 6}\n"
     ]
    }
   ],
   "source": [
    "label_mapping = dict(zip(outcome_encoder.classes_, outcome_encoder.transform(outcome_encoder.classes_)))\n",
    "print(label_mapping)"
   ]
  },
  {
   "cell_type": "code",
   "execution_count": null,
   "metadata": {},
   "outputs": [],
   "source": [
    "# for each outcome columns: mean rv of outcome * outcome probability\n",
    "# aggregate by pitcher and pitch type\n",
    "# rank"
   ]
  },
  {
   "cell_type": "code",
   "execution_count": null,
   "metadata": {},
   "outputs": [],
   "source": [
    "df_2023['stuff'] = df_2023['delta_run_exp'] * df_2023['']"
   ]
  },
  {
   "cell_type": "code",
   "execution_count": null,
   "metadata": {},
   "outputs": [],
   "source": []
  },
  {
   "cell_type": "code",
   "execution_count": null,
   "metadata": {},
   "outputs": [],
   "source": []
  }
 ],
 "metadata": {
  "kernelspec": {
   "display_name": "driveline",
   "language": "python",
   "name": "python3"
  },
  "language_info": {
   "codemirror_mode": {
    "name": "ipython",
    "version": 3
   },
   "file_extension": ".py",
   "mimetype": "text/x-python",
   "name": "python",
   "nbconvert_exporter": "python",
   "pygments_lexer": "ipython3",
   "version": "3.11.5"
  }
 },
 "nbformat": 4,
 "nbformat_minor": 2
}
