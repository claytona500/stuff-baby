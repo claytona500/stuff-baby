{
 "cells": [
  {
   "cell_type": "code",
   "execution_count": null,
   "metadata": {},
   "outputs": [],
   "source": [
    "# outcome probability model for fastballs"
   ]
  },
  {
   "cell_type": "code",
   "execution_count": 51,
   "metadata": {},
   "outputs": [],
   "source": [
    "import xgboost as xgb\n",
    "import numpy as np\n",
    "import matplotlib.pyplot as plt\n",
    "import pandas as pd\n",
    "from sklearn.model_selection import train_test_split\n",
    "from sklearn.preprocessing import LabelEncoder\n",
    "import mysql.connector\n",
    "import pybaseball\n",
    "from sklearn.metrics import accuracy_score, confusion_matrix"
   ]
  },
  {
   "cell_type": "code",
   "execution_count": 4,
   "metadata": {},
   "outputs": [
    {
     "name": "stdout",
     "output_type": "stream",
     "text": [
      "This is a large query, it may take a moment to complete\n"
     ]
    },
    {
     "name": "stderr",
     "output_type": "stream",
     "text": [
      "100%|██████████| 32/32 [00:25<00:00,  1.24it/s]\n"
     ]
    },
    {
     "name": "stdout",
     "output_type": "stream",
     "text": [
      "This is a large query, it may take a moment to complete\n"
     ]
    },
    {
     "name": "stderr",
     "output_type": "stream",
     "text": [
      "100%|██████████| 31/31 [00:28<00:00,  1.07it/s]\n"
     ]
    },
    {
     "name": "stdout",
     "output_type": "stream",
     "text": [
      "This is a large query, it may take a moment to complete\n"
     ]
    },
    {
     "name": "stderr",
     "output_type": "stream",
     "text": [
      "100%|██████████| 30/30 [00:25<00:00,  1.16it/s]\n"
     ]
    },
    {
     "name": "stdout",
     "output_type": "stream",
     "text": [
      "This is a large query, it may take a moment to complete\n"
     ]
    },
    {
     "name": "stderr",
     "output_type": "stream",
     "text": [
      "100%|██████████| 31/31 [00:28<00:00,  1.07it/s]\n"
     ]
    },
    {
     "name": "stdout",
     "output_type": "stream",
     "text": [
      "This is a large query, it may take a moment to complete\n"
     ]
    },
    {
     "name": "stderr",
     "output_type": "stream",
     "text": [
      "100%|██████████| 31/31 [00:31<00:00,  1.01s/it]\n"
     ]
    },
    {
     "name": "stdout",
     "output_type": "stream",
     "text": [
      "This is a large query, it may take a moment to complete\n"
     ]
    },
    {
     "name": "stderr",
     "output_type": "stream",
     "text": [
      "100%|██████████| 30/30 [00:29<00:00,  1.02it/s]\n"
     ]
    },
    {
     "name": "stdout",
     "output_type": "stream",
     "text": [
      "This is a large query, it may take a moment to complete\n"
     ]
    },
    {
     "name": "stderr",
     "output_type": "stream",
     "text": [
      "100%|██████████| 36/36 [00:14<00:00,  2.47it/s]\n"
     ]
    }
   ],
   "source": [
    "# pull statcast data for the 2023 season\n",
    "\n",
    "df1 = pybaseball.statcast(start_dt='2022-03-30', end_dt='2022-04-30')\n",
    "df2 = pybaseball.statcast(start_dt='2022-05-01', end_dt='2022-05-31')\n",
    "df3 = pybaseball.statcast(start_dt='2022-06-01', end_dt='2022-06-30')\n",
    "df4 = pybaseball.statcast(start_dt='2022-07-01', end_dt='2022-07-31')\n",
    "df5 = pybaseball.statcast(start_dt='2022-08-01', end_dt='2022-08-31')\n",
    "df6 = pybaseball.statcast(start_dt='2022-09-01', end_dt='2022-09-30')\n",
    "df7 = pybaseball.statcast(start_dt='2022-10-01', end_dt='2022-11-05')\n",
    "\n",
    "# combine dfs and save as csv\n",
    "\n",
    "df = pd.concat([df1, df2, df3, df4, df5, df6, df7])\n",
    "df.to_csv('2022_MLB_Season.csv')"
   ]
  },
  {
   "cell_type": "code",
   "execution_count": 64,
   "metadata": {},
   "outputs": [],
   "source": [
    "# use this if rerunning\n",
    "\n",
    "df = pd.read_csv('2022_MLB_Season.csv')"
   ]
  },
  {
   "cell_type": "code",
   "execution_count": 65,
   "metadata": {},
   "outputs": [],
   "source": [
    "# convert batter handedness columns to binary\n",
    "\n",
    "encoder = LabelEncoder()\n",
    "df['stand'] = encoder.fit_transform(df['stand'])\n",
    "\n",
    "# generate unique id column\n",
    "\n",
    "df['pitch_id'] = df['game_pk'].astype(str) + \"_\" + \\\n",
    "                            df['batter'].astype(str) + \"_\" + \\\n",
    "                            df['pitcher'].astype(str) + \"_\" + \\\n",
    "                            df['pitch_number'].astype(str) + \"_\" + \\\n",
    "                            df['at_bat_number'].astype(str) + \"_\" + \\\n",
    "                            df['inning'].astype(str)\n",
    "\n",
    "# select only fastballs\n",
    "\n",
    "df = df[df['pitch_type'].isin(['FF', 'SI', 'FC', 'FA', 'FT'])]"
   ]
  },
  {
   "cell_type": "code",
   "execution_count": 66,
   "metadata": {},
   "outputs": [],
   "source": [
    "# normalize LHP values to RHP standards\n",
    "\n",
    "df.loc[df['p_throws'] == 'L', 'pfx_x'] = df['pfx_x'] * -1\n",
    "df.loc[df['p_throws'] == 'L', 'release_pos_x'] = df['release_pos_x'] * -1\n",
    "df['spin_axis'] = 360 - df['spin_axis']"
   ]
  },
  {
   "cell_type": "code",
   "execution_count": 67,
   "metadata": {},
   "outputs": [],
   "source": [
    "# total movement column\n",
    "\n",
    "df['pfx_total'] = abs(df['pfx_x']) + abs(df['pfx_z'])\n",
    "\n",
    "# movement ratio column\n",
    "\n",
    "df['pfx_x_ratio'] = abs(df['pfx_x']) / df['pfx_total']\n",
    "df['pfx_z_ratio'] = abs(df['pfx_z']) / df['pfx_total']"
   ]
  },
  {
   "cell_type": "code",
   "execution_count": 68,
   "metadata": {},
   "outputs": [],
   "source": [
    "# create outcome column using events and description columns\n",
    "\n",
    "description_mapping = {\n",
    "    'ball': 'ball',\n",
    "    'hit_by_pitch': 'ball',\n",
    "    'blocked_ball': 'ball',\n",
    "    'swinging_strike': 'whiff',\n",
    "    'missed_bunt': 'whiff',\n",
    "    'swinging_strike_blocked': 'whiff',\n",
    "    'foul_bunt': 'foul',\n",
    "    'foul': 'foul',\n",
    "    'foul_tip': 'foul',\n",
    "    'bunt_foul_tip': 'foul',\n",
    "    'called_strike': 'called_strike'\n",
    "}\n",
    "\n",
    "events_mapping = {\n",
    "    'fielders_choice': 'out',\n",
    "    'field_out': 'out',\n",
    "    'force_out': 'out',\n",
    "    'field_error': 'out',\n",
    "    'grounded_into_double_play': 'out',\n",
    "    'sac_fly': 'out',\n",
    "    'fielders_choice_out': 'out',\n",
    "    'sac_bunt': 'out',\n",
    "    'double_play': 'out',\n",
    "    'sac_fly_double_play': 'out',\n",
    "    'other_out': 'out',\n",
    "    'single': 'single',\n",
    "    'double': 'double',\n",
    "    'triple': 'triple',\n",
    "    'home_run': 'home_run'\n",
    "}\n",
    "\n",
    "df['outcome'] = np.where(\n",
    "    df['description'] != 'hit_into_play',\n",
    "    df['description'].map(description_mapping),\n",
    "    df['events'].map(events_mapping)\n",
    ")\n",
    "\n",
    "df.dropna(subset=['outcome'], inplace=True)\n",
    "\n",
    "df['outcome'] = encoder.fit_transform(df['outcome'])\n"
   ]
  },
  {
   "cell_type": "code",
   "execution_count": 69,
   "metadata": {},
   "outputs": [],
   "source": [
    "# feature selection and data splitting\n",
    "\n",
    "features = ['release_speed', 'release_pos_x', 'release_pos_y', 'release_pos_z', 'release_extension', 'release_spin_rate', 'spin_axis', 'pfx_x', 'pfx_z', 'pfx_total', 'pfx_x_ratio', 'pfx_z_ratio']\n",
    "\n",
    "# create features and targets\n",
    "\n",
    "X = df[features]\n",
    "y = df['outcome']\n",
    "\n",
    "# train valid test split\n",
    "\n",
    "X_train, X_temp, y_train, y_temp = train_test_split(X, y, test_size=0.2, random_state=42)\n",
    "X_valid, X_test, y_valid, y_test = train_test_split(X_temp, y_temp, test_size=0.5, random_state=42)"
   ]
  },
  {
   "cell_type": "code",
   "execution_count": 70,
   "metadata": {},
   "outputs": [
    {
     "name": "stderr",
     "output_type": "stream",
     "text": [
      "c:\\Users\\adam.bloebaum\\AppData\\Local\\miniconda3\\envs\\driveline\\Lib\\site-packages\\xgboost\\sklearn.py:1395: UserWarning: `use_label_encoder` is deprecated in 1.7.0.\n",
      "  warnings.warn(\"`use_label_encoder` is deprecated in 1.7.0.\")\n"
     ]
    },
    {
     "data": {
      "text/html": [
       "<style>#sk-container-id-3 {color: black;background-color: white;}#sk-container-id-3 pre{padding: 0;}#sk-container-id-3 div.sk-toggleable {background-color: white;}#sk-container-id-3 label.sk-toggleable__label {cursor: pointer;display: block;width: 100%;margin-bottom: 0;padding: 0.3em;box-sizing: border-box;text-align: center;}#sk-container-id-3 label.sk-toggleable__label-arrow:before {content: \"▸\";float: left;margin-right: 0.25em;color: #696969;}#sk-container-id-3 label.sk-toggleable__label-arrow:hover:before {color: black;}#sk-container-id-3 div.sk-estimator:hover label.sk-toggleable__label-arrow:before {color: black;}#sk-container-id-3 div.sk-toggleable__content {max-height: 0;max-width: 0;overflow: hidden;text-align: left;background-color: #f0f8ff;}#sk-container-id-3 div.sk-toggleable__content pre {margin: 0.2em;color: black;border-radius: 0.25em;background-color: #f0f8ff;}#sk-container-id-3 input.sk-toggleable__control:checked~div.sk-toggleable__content {max-height: 200px;max-width: 100%;overflow: auto;}#sk-container-id-3 input.sk-toggleable__control:checked~label.sk-toggleable__label-arrow:before {content: \"▾\";}#sk-container-id-3 div.sk-estimator input.sk-toggleable__control:checked~label.sk-toggleable__label {background-color: #d4ebff;}#sk-container-id-3 div.sk-label input.sk-toggleable__control:checked~label.sk-toggleable__label {background-color: #d4ebff;}#sk-container-id-3 input.sk-hidden--visually {border: 0;clip: rect(1px 1px 1px 1px);clip: rect(1px, 1px, 1px, 1px);height: 1px;margin: -1px;overflow: hidden;padding: 0;position: absolute;width: 1px;}#sk-container-id-3 div.sk-estimator {font-family: monospace;background-color: #f0f8ff;border: 1px dotted black;border-radius: 0.25em;box-sizing: border-box;margin-bottom: 0.5em;}#sk-container-id-3 div.sk-estimator:hover {background-color: #d4ebff;}#sk-container-id-3 div.sk-parallel-item::after {content: \"\";width: 100%;border-bottom: 1px solid gray;flex-grow: 1;}#sk-container-id-3 div.sk-label:hover label.sk-toggleable__label {background-color: #d4ebff;}#sk-container-id-3 div.sk-serial::before {content: \"\";position: absolute;border-left: 1px solid gray;box-sizing: border-box;top: 0;bottom: 0;left: 50%;z-index: 0;}#sk-container-id-3 div.sk-serial {display: flex;flex-direction: column;align-items: center;background-color: white;padding-right: 0.2em;padding-left: 0.2em;position: relative;}#sk-container-id-3 div.sk-item {position: relative;z-index: 1;}#sk-container-id-3 div.sk-parallel {display: flex;align-items: stretch;justify-content: center;background-color: white;position: relative;}#sk-container-id-3 div.sk-item::before, #sk-container-id-3 div.sk-parallel-item::before {content: \"\";position: absolute;border-left: 1px solid gray;box-sizing: border-box;top: 0;bottom: 0;left: 50%;z-index: -1;}#sk-container-id-3 div.sk-parallel-item {display: flex;flex-direction: column;z-index: 1;position: relative;background-color: white;}#sk-container-id-3 div.sk-parallel-item:first-child::after {align-self: flex-end;width: 50%;}#sk-container-id-3 div.sk-parallel-item:last-child::after {align-self: flex-start;width: 50%;}#sk-container-id-3 div.sk-parallel-item:only-child::after {width: 0;}#sk-container-id-3 div.sk-dashed-wrapped {border: 1px dashed gray;margin: 0 0.4em 0.5em 0.4em;box-sizing: border-box;padding-bottom: 0.4em;background-color: white;}#sk-container-id-3 div.sk-label label {font-family: monospace;font-weight: bold;display: inline-block;line-height: 1.2em;}#sk-container-id-3 div.sk-label-container {text-align: center;}#sk-container-id-3 div.sk-container {/* jupyter's `normalize.less` sets `[hidden] { display: none; }` but bootstrap.min.css set `[hidden] { display: none !important; }` so we also need the `!important` here to be able to override the default hidden behavior on the sphinx rendered scikit-learn.org. See: https://github.com/scikit-learn/scikit-learn/issues/21755 */display: inline-block !important;position: relative;}#sk-container-id-3 div.sk-text-repr-fallback {display: none;}</style><div id=\"sk-container-id-3\" class=\"sk-top-container\"><div class=\"sk-text-repr-fallback\"><pre>XGBClassifier(base_score=None, booster=None, callbacks=None,\n",
       "              colsample_bylevel=None, colsample_bynode=None,\n",
       "              colsample_bytree=None, early_stopping_rounds=None,\n",
       "              enable_categorical=False, eval_metric=&#x27;mlogloss&#x27;,\n",
       "              feature_types=None, gamma=None, gpu_id=None, grow_policy=None,\n",
       "              importance_type=None, interaction_constraints=None,\n",
       "              learning_rate=None, max_bin=None, max_cat_threshold=None,\n",
       "              max_cat_to_onehot=None, max_delta_step=None, max_depth=None,\n",
       "              max_leaves=None, min_child_weight=None, missing=nan,\n",
       "              monotone_constraints=None, n_estimators=100, n_jobs=None,\n",
       "              num_class=9, num_parallel_tree=None, objective=&#x27;multi:softmax&#x27;, ...)</pre><b>In a Jupyter environment, please rerun this cell to show the HTML representation or trust the notebook. <br />On GitHub, the HTML representation is unable to render, please try loading this page with nbviewer.org.</b></div><div class=\"sk-container\" hidden><div class=\"sk-item\"><div class=\"sk-estimator sk-toggleable\"><input class=\"sk-toggleable__control sk-hidden--visually\" id=\"sk-estimator-id-3\" type=\"checkbox\" checked><label for=\"sk-estimator-id-3\" class=\"sk-toggleable__label sk-toggleable__label-arrow\">XGBClassifier</label><div class=\"sk-toggleable__content\"><pre>XGBClassifier(base_score=None, booster=None, callbacks=None,\n",
       "              colsample_bylevel=None, colsample_bynode=None,\n",
       "              colsample_bytree=None, early_stopping_rounds=None,\n",
       "              enable_categorical=False, eval_metric=&#x27;mlogloss&#x27;,\n",
       "              feature_types=None, gamma=None, gpu_id=None, grow_policy=None,\n",
       "              importance_type=None, interaction_constraints=None,\n",
       "              learning_rate=None, max_bin=None, max_cat_threshold=None,\n",
       "              max_cat_to_onehot=None, max_delta_step=None, max_depth=None,\n",
       "              max_leaves=None, min_child_weight=None, missing=nan,\n",
       "              monotone_constraints=None, n_estimators=100, n_jobs=None,\n",
       "              num_class=9, num_parallel_tree=None, objective=&#x27;multi:softmax&#x27;, ...)</pre></div></div></div></div></div>"
      ],
      "text/plain": [
       "XGBClassifier(base_score=None, booster=None, callbacks=None,\n",
       "              colsample_bylevel=None, colsample_bynode=None,\n",
       "              colsample_bytree=None, early_stopping_rounds=None,\n",
       "              enable_categorical=False, eval_metric='mlogloss',\n",
       "              feature_types=None, gamma=None, gpu_id=None, grow_policy=None,\n",
       "              importance_type=None, interaction_constraints=None,\n",
       "              learning_rate=None, max_bin=None, max_cat_threshold=None,\n",
       "              max_cat_to_onehot=None, max_delta_step=None, max_depth=None,\n",
       "              max_leaves=None, min_child_weight=None, missing=nan,\n",
       "              monotone_constraints=None, n_estimators=100, n_jobs=None,\n",
       "              num_class=9, num_parallel_tree=None, objective='multi:softmax', ...)"
      ]
     },
     "execution_count": 70,
     "metadata": {},
     "output_type": "execute_result"
    }
   ],
   "source": [
    "# set up model\n",
    "# change num_class once we have other pitch features\n",
    "\n",
    "model = xgb.XGBClassifier(objective='multi:softmax', num_class=9, eval_metric='mlogloss', use_label_encoder=False)\n",
    "\n",
    "# train model\n",
    "\n",
    "model.fit(X_train, y_train)"
   ]
  },
  {
   "cell_type": "code",
   "execution_count": 71,
   "metadata": {},
   "outputs": [
    {
     "name": "stdout",
     "output_type": "stream",
     "text": [
      "Accuracy: 0.3355556096255383\n",
      "Confusion Matrix:\n",
      "[[13503   141     0   223     0    22     2     0    23]\n",
      " [ 7106    98     0    97     0    10     0     0     5]\n",
      " [  455     3     0     5     0     0     0     0     1]\n",
      " [ 8610    73     1   166     0    12     0     0    23]\n",
      " [  323     4     0     3     0     1     0     0     0]\n",
      " [ 4919    53     0    84     0    13     0     0    11]\n",
      " [ 1454    23     0    25     0     2     0     0     3]\n",
      " [   26     1     0     0     0     0     0     0     0]\n",
      " [ 3445    23     0    89     1     5     1     0    11]]\n"
     ]
    }
   ],
   "source": [
    "# make predictions\n",
    "\n",
    "y_pred = model.predict(X_test)\n",
    "\n",
    "# evaluate the model\n",
    "\n",
    "accuracy = accuracy_score(y_test, y_pred)\n",
    "conf_matrix = confusion_matrix(y_test, y_pred)\n",
    "\n",
    "print(f'Accuracy: {accuracy}')\n",
    "print(f'Confusion Matrix:\\n{conf_matrix}')"
   ]
  },
  {
   "cell_type": "code",
   "execution_count": 75,
   "metadata": {},
   "outputs": [
    {
     "data": {
      "text/plain": [
       "<Figure size 1000x2000 with 0 Axes>"
      ]
     },
     "metadata": {},
     "output_type": "display_data"
    },
    {
     "data": {
      "image/png": "[encoded data removed]",
      "text/plain": [
       "<Figure size 640x480 with 1 Axes>"
      ]
     },
     "metadata": {},
     "output_type": "display_data"
    }
   ],
   "source": [
    "# plot feature importances\n",
    "\n",
    "plt.figure(figsize=(10, 20))\n",
    "xgb.plot_importance(model, max_num_features=None, importance_type='gain', show_values=False)\n",
    "plt.savefig('feature_importance.png')\n",
    "plt.show()"
   ]
  },
  {
   "cell_type": "code",
   "execution_count": 80,
   "metadata": {},
   "outputs": [
    {
     "name": "stdout",
     "output_type": "stream",
     "text": [
      "pfx_z: 3.956979274749756\n",
      "pfx_x: 3.4469799995422363\n",
      "release_speed: 3.3438398838043213\n",
      "release_extension: 3.053359270095825\n",
      "pfx_x_ratio: 3.010190725326538\n",
      "release_spin_rate: 2.8266358375549316\n",
      "release_pos_z: 2.811767101287842\n",
      "spin_axis: 2.7238690853118896\n",
      "release_pos_x: 2.69822096824646\n",
      "pfx_total: 2.665687322616577\n",
      "release_pos_y: 2.6399037837982178\n"
     ]
    }
   ],
   "source": [
    "# get feature importance dictionary\n",
    "\n",
    "importance = model.get_booster().get_score(importance_type='gain')\n",
    "\n",
    "# sort features by importance\n",
    "\n",
    "sorted_importance = sorted(importance.items(), key=lambda item: item[1], reverse=True)\n",
    "\n",
    "# loop to print\n",
    "\n",
    "for feature, score in sorted_importance:\n",
    "    print(f'{feature}: {score}')"
   ]
  },
  {
   "cell_type": "code",
   "execution_count": null,
   "metadata": {},
   "outputs": [],
   "source": [
    "# get run value for each event type"
   ]
  }
 ],
 "metadata": {
  "kernelspec": {
   "display_name": "driveline",
   "language": "python",
   "name": "python3"
  },
  "language_info": {
   "codemirror_mode": {
    "name": "ipython",
    "version": 3
   },
   "file_extension": ".py",
   "mimetype": "text/x-python",
   "name": "python",
   "nbconvert_exporter": "python",
   "pygments_lexer": "ipython3",
   "version": "3.11.5"
  }
 },
 "nbformat": 4,
 "nbformat_minor": 2
}
