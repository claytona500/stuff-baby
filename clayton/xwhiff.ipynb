{
 "cells": [
  {
   "cell_type": "code",
   "execution_count": 15,
   "metadata": {},
   "outputs": [],
   "source": [
    "import pandas as pd\n",
    "from sklearn.model_selection import train_test_split\n",
    "import optuna\n",
    "import matplotlib.pyplot as plt\n",
    "import numpy as np\n",
    "from sklearn.metrics import accuracy_score, precision_score, recall_score, f1_score, confusion_matrix, log_loss\n",
    "import xgboost as xgb\n",
    "import seaborn as sns"
   ]
  },
  {
   "cell_type": "code",
   "execution_count": 16,
   "metadata": {},
   "outputs": [],
   "source": [
    "data = pd.read_csv(\"Y:/departments/research_and_development/baseball_operations/clayton_goodiez/csv/2021_data.csv\")\n",
    "data_2022 = pd.read_csv(\"Y:/departments/research_and_development/baseball_operations/clayton_goodiez/csv/2022_data.csv\")\n",
    "data_2023 = pd.read_csv(\"Y:/departments/research_and_development/baseball_operations/clayton_goodiez/csv/2023_MLB_Seaspm.csv\")\n",
    "height_df = pd.read_csv(\"Y:/departments/research_and_development/baseball_operations/clayton_goodiez/csv/player_heights.csv\")"
   ]
  },
  {
   "cell_type": "code",
   "execution_count": 17,
   "metadata": {},
   "outputs": [],
   "source": [
    "testing_data = pd.concat([data_2022, data_2023], axis=0)"
   ]
  },
  {
   "cell_type": "code",
   "execution_count": 18,
   "metadata": {},
   "outputs": [
    {
     "data": {
      "text/plain": [
       "array(['hit_into_play', 'ball', 'foul_bunt', 'blocked_ball',\n",
       "       'swinging_strike', 'foul', 'called_strike', 'foul_tip',\n",
       "       'hit_by_pitch', 'swinging_strike_blocked', 'missed_bunt',\n",
       "       'pitchout', 'bunt_foul_tip', 'unknown_strike'], dtype=object)"
      ]
     },
     "execution_count": 18,
     "metadata": {},
     "output_type": "execute_result"
    }
   ],
   "source": [
    "testing_data['description'].unique()"
   ]
  },
  {
   "cell_type": "code",
   "execution_count": 19,
   "metadata": {},
   "outputs": [],
   "source": [
    "\n",
    "def preprocess_data(df, height_df):\n",
    "    \"\"\"\n",
    "    This function takes a DataFrame and applies several preprocessing steps to it.\n",
    "    \"\"\"\n",
    "    # Define a function to condense pitch types\n",
    "    def condense_pitch_type(pitch_type):\n",
    "        if pitch_type == \"FF\":\n",
    "            return \"FF\"\n",
    "        elif pitch_type == \"FT\":\n",
    "            return \"SI\"\n",
    "        elif pitch_type == \"FC\":\n",
    "            return \"CT\"\n",
    "        elif pitch_type in [\"SL\", \"ST\", \"SV\"]:\n",
    "            return \"SL\"\n",
    "        elif pitch_type in [\"CH\", \"FS\"]:\n",
    "            return \"CH\"\n",
    "        elif pitch_type in [\"CU\", \"KC\", \"CS\"]:\n",
    "            return \"CB\"\n",
    "        elif pitch_type == \"SI\":\n",
    "            return \"SI\"\n",
    "        elif pitch_type == \"KN\":\n",
    "            return \"KN\"\n",
    "        else:\n",
    "            return \"FAHCK\"\n",
    "    # Define a function to determine if the pitch resulted in a swing\n",
    "    def is_swing(description):\n",
    "        return 1 if description in [\"swinging_strike\", \"swinging_strike_blocked\", \n",
    "                                \"missed_bunt\", \"swinging_pitchout\", \n",
    "                                \"foul_tip\", \"foul_bunt\", \"foul\", \n",
    "                                \"foul_pitchout\", \"hit_into_play\", \n",
    "                                \"hit_into_play_no_out\", \"hit_into_play_score\", \n",
    "                                \"pitchout_hit_into_play_score\"] else 0\n",
    "    \n",
    "    def create_pitch_id(df):\n",
    "        df['pitch_id_raw'] = (df['game_pk'].astype(str) + \"_\" +\n",
    "                          df['batter'].astype(str) + \"_\" +\n",
    "                          df['pitcher'].astype(str) + \"_\" +\n",
    "                          df['pitch_number'].astype(str) + \"_\" +\n",
    "                          df['at_bat_number'].astype(str) + \"_\" +\n",
    "                          df['inning'].astype(str))\n",
    "        return df\n",
    "\n",
    "    #create a function for whiffs\n",
    "    def whiff(description):\n",
    "        return 1 if description in [\"swinging_strike\", \"swinging_strike_blocked\", \"missed_bunt\", \"swinging_pitchout\"] else 0\n",
    "    \n",
    "    df['pitch_type_condensed'] = df['pitch_type'].apply(condense_pitch_type)\n",
    "\n",
    "    # Calculate 'release_pos_y'\n",
    "    df['release_pos_y'] = 60.5 - df['release_extension']\n",
    "\n",
    "\n",
    "    df['swing'] = df['description'].apply(is_swing)\n",
    "    df['whiff'] = df['description'].apply(whiff)\n",
    "    # Create 'pitch_id_raw'\n",
    "    df = create_pitch_id(df)\n",
    "\n",
    "    dfs = df.merge(height_df[['id', 'height_numeric']], how='left', left_on='pitcher', right_on='id')\n",
    "    # Return the preprocessed DataFrame\n",
    "    return dfs"
   ]
  },
  {
   "cell_type": "code",
   "execution_count": 20,
   "metadata": {},
   "outputs": [],
   "source": [
    "# Apply the function to the 'pitch_type' column\n",
    "data_processed = preprocess_data(data, height_df)# Use the query method to filter rows where 'swing' is 1 and 'pitch_type_condensed' is 'FF', 'SI', or 'CT'\n",
    "training_data = data_processed.query('swing == 1')\n",
    "testing_data_processed = preprocess_data(testing_data, height_df)\n"
   ]
  },
  {
   "cell_type": "code",
   "execution_count": 21,
   "metadata": {},
   "outputs": [],
   "source": [
    "fastball_training = training_data.query('pitch_type_condensed in (\"FF\", \"SI\", \"CT\")')\n",
    "fastball_testing = testing_data_processed.query('pitch_type_condensed in (\"FF\", \"SI\", \"CT\")')\n",
    "breaking_ball = training_data.query('pitch_type_condensed in (\"SL\", \"CB\")')\n",
    "breaking_ball_testing = testing_data_processed.query('pitch_type_condensed in (\"SL\", \"CB\")')\n"
   ]
  },
  {
   "attachments": {},
   "cell_type": "markdown",
   "metadata": {},
   "source": [
    "# Fastball Model First"
   ]
  },
  {
   "cell_type": "code",
   "execution_count": 22,
   "metadata": {},
   "outputs": [],
   "source": [
    "# Now, separate features and identifiers\n",
    "training_identifiers = fastball_training[['pitch_id_raw']]\n",
    "testing_identifiers = fastball_testing[['pitch_id_raw']]\n",
    "training_features = fastball_training.drop(columns=[\n",
    "    'description', 'events', 'game_pk', 'game_date', 'des', 'zone', 'stand', 'p_throws',\n",
    "    'spin_rate_deprecated', 'break_angle_deprecated', 'break_length_deprecated', \n",
    "    'game_type', 'home_team', 'away_team', 'type', 'bb_type', 'inning_topbot', \n",
    "    'hc_x', 'hc_y', 'tfs_deprecated', 'tfs_zulu_deprecated', 'hit_distance_sc', \n",
    "    'launch_speed', 'launch_angle', 'estimated_ba_using_speedangle', 'swing',\n",
    "    'estimated_woba_using_speedangle', 'woba_value', 'woba_denom', 'babip_value', \n",
    "    'iso_value', 'launch_speed_angle', 'pitch_name', 'home_score', 'away_score', \n",
    "    'bat_score', 'fld_score', 'post_away_score', 'post_home_score', 'post_bat_score', \n",
    "    'post_fld_score', 'if_fielding_alignment', 'of_fielding_alignment', \n",
    "    'delta_home_win_exp', 'delta_run_exp', 'player_name', 'hit_location', 'umpire', \n",
    "    'sv_id', 'spin_dir', 'pitch_type', 'fielder_2.1', 'pitcher.1', 'fielder_3', \n",
    "    'fielder_4', 'fielder_5', 'fielder_6', 'fielder_7', 'fielder_8', 'fielder_9', \n",
    "    'batter', 'pitcher', 'on_3b', 'on_2b', 'on_1b', 'game_year', 'outs_when_up', \n",
    "    'pitch_number', 'at_bat_number', 'inning', 'fielder_2', 'sz_top', 'sz_bot',\n",
    "    'pitch_id_raw', 'effective_speed', 'p_throws', 'id', 'pitch_type_condensed',\n",
    "    'plate_x', 'plate_z'\n",
    "], axis=1)\n",
    "testing_features = fastball_testing.drop(columns=[\n",
    "    'description', 'events', 'game_pk', 'game_date', 'des', 'zone', 'stand', 'p_throws',\n",
    "    'spin_rate_deprecated', 'break_angle_deprecated', 'break_length_deprecated', \n",
    "    'game_type', 'home_team', 'away_team', 'type', 'bb_type', 'inning_topbot', \n",
    "    'hc_x', 'hc_y', 'tfs_deprecated', 'tfs_zulu_deprecated', 'hit_distance_sc', \n",
    "    'launch_speed', 'launch_angle', 'estimated_ba_using_speedangle', 'swing',\n",
    "    'estimated_woba_using_speedangle', 'woba_value', 'woba_denom', 'babip_value', \n",
    "    'iso_value', 'launch_speed_angle', 'pitch_name', 'home_score', 'away_score', \n",
    "    'bat_score', 'fld_score', 'post_away_score', 'post_home_score', 'post_bat_score', \n",
    "    'post_fld_score', 'if_fielding_alignment', 'of_fielding_alignment', \n",
    "    'delta_home_win_exp', 'delta_run_exp', 'player_name', 'hit_location', 'umpire', \n",
    "    'sv_id', 'spin_dir', 'pitch_type', 'fielder_2.1', 'pitcher.1', 'fielder_3', \n",
    "    'fielder_4', 'fielder_5', 'fielder_6', 'fielder_7', 'fielder_8', 'fielder_9', \n",
    "    'batter', 'pitcher', 'on_3b', 'on_2b', 'on_1b', 'game_year', 'outs_when_up', \n",
    "    'pitch_number', 'at_bat_number', 'inning', 'fielder_2', 'sz_top', 'sz_bot',\n",
    "    'pitch_id_raw', 'effective_speed', 'p_throws', 'id', 'pitch_type_condensed',\n",
    "    'plate_x', 'plate_z', 'Unnamed: 0'\n",
    "], axis=1)   # Exclude the identifier from the features"
   ]
  },
  {
   "cell_type": "code",
   "execution_count": 23,
   "metadata": {},
   "outputs": [],
   "source": [
    "train_data = training_features.drop(['whiff'], axis=1).copy()\n",
    "train_label = training_features['whiff'].copy()\n",
    "testing_data = testing_features.drop(['whiff'], axis=1).copy()\n",
    "testing_label = testing_features['whiff'].copy()"
   ]
  },
  {
   "cell_type": "code",
   "execution_count": 24,
   "metadata": {},
   "outputs": [
    {
     "data": {
      "text/plain": [
       "Index(['release_speed', 'release_pos_x', 'release_pos_z', 'balls', 'strikes',\n",
       "       'pfx_x', 'pfx_z', 'vx0', 'vy0', 'vz0', 'ax', 'ay', 'az',\n",
       "       'release_spin_rate', 'release_extension', 'release_pos_y', 'spin_axis',\n",
       "       'height_numeric'],\n",
       "      dtype='object')"
      ]
     },
     "execution_count": 24,
     "metadata": {},
     "output_type": "execute_result"
    }
   ],
   "source": [
    "train_data.columns"
   ]
  },
  {
   "cell_type": "code",
   "execution_count": 25,
   "metadata": {},
   "outputs": [
    {
     "data": {
      "text/plain": [
       "Index(['release_speed', 'release_pos_x', 'release_pos_z', 'balls', 'strikes',\n",
       "       'pfx_x', 'pfx_z', 'vx0', 'vy0', 'vz0', 'ax', 'ay', 'az',\n",
       "       'release_spin_rate', 'release_extension', 'release_pos_y', 'spin_axis',\n",
       "       'height_numeric'],\n",
       "      dtype='object')"
      ]
     },
     "execution_count": 25,
     "metadata": {},
     "output_type": "execute_result"
    }
   ],
   "source": [
    "testing_data.columns"
   ]
  },
  {
   "cell_type": "code",
   "execution_count": 26,
   "metadata": {},
   "outputs": [],
   "source": [
    "# First split: Separate out a portion of the data as a temporary test set\n",
    "x_temp, x_test, y_temp, y_test = train_test_split(\n",
    "    train_data, \n",
    "    train_label, \n",
    "    test_size=0.2, \n",
    "    random_state=42\n",
    ")\n",
    "\n",
    "# Second split: Split the temporary test set into validation and test sets\n",
    "x_train, x_valid, y_train, y_valid = train_test_split(\n",
    "    x_temp, \n",
    "    y_temp, \n",
    "    test_size=0.25,\n",
    "    random_state=42\n",
    ")"
   ]
  },
  {
   "cell_type": "code",
   "execution_count": 27,
   "metadata": {},
   "outputs": [
    {
     "data": {
      "text/plain": [
       "whiff\n",
       "0    97015\n",
       "1    21827\n",
       "Name: count, dtype: int64"
      ]
     },
     "execution_count": 27,
     "metadata": {},
     "output_type": "execute_result"
    }
   ],
   "source": [
    "y_train.value_counts()"
   ]
  },
  {
   "cell_type": "code",
   "execution_count": 28,
   "metadata": {},
   "outputs": [],
   "source": [
    "dtrain = xgb.DMatrix(x_train, label=y_train)\n",
    "dtest = xgb.DMatrix(x_test, label=y_test)\n",
    "class_ratio = y_train.value_counts()[0] / y_train.value_counts()[1]\n",
    "params = {\n",
    "    'max_depth': 6,\n",
    "    'eta': 0.1,\n",
    "    'objective': 'binary:logistic',\n",
    "    'eval_metric': 'logloss',\n",
    "    'subsample': 0.9,\n",
    "    'colsample_bytree': 1,\n",
    "    'scale_pos_weight': class_ratio,\n",
    "}\n",
    "\n",
    "# Initial Model\n",
    "model = xgb.train(params, dtrain)"
   ]
  },
  {
   "cell_type": "code",
   "execution_count": 29,
   "metadata": {},
   "outputs": [
    {
     "name": "stdout",
     "output_type": "stream",
     "text": [
      "Accuracy: 0.671185157137448\n",
      "Log Loss: 0.6528571282644238\n"
     ]
    }
   ],
   "source": [
    "# Generate predictions\n",
    "y_pred = model.predict(dtest)\n",
    "y_pred_binary = [1 if p >= 0.5 else 0 for p in y_pred]\n",
    "\n",
    "# Calculate Accuracy\n",
    "accuracy = accuracy_score(y_test, y_pred_binary)\n",
    "print(f\"Accuracy: {accuracy}\")\n",
    "\n",
    "# Calculate Log Loss\n",
    "logloss = log_loss(y_test, y_pred)\n",
    "print(f\"Log Loss: {logloss}\")"
   ]
  },
  {
   "cell_type": "code",
   "execution_count": 30,
   "metadata": {},
   "outputs": [
    {
     "data": {
      "image/png": "[encoded data removed]",
      "text/plain": [
       "<Figure size 640x480 with 1 Axes>"
      ]
     },
     "metadata": {},
     "output_type": "display_data"
    }
   ],
   "source": [
    "xgb.plot_importance(model)\n",
    "plt.show()"
   ]
  },
  {
   "cell_type": "code",
   "execution_count": 31,
   "metadata": {},
   "outputs": [
    {
     "data": {
      "image/png": "[encoded data removed]",
      "text/plain": [
       "<Figure size 640x480 with 2 Axes>"
      ]
     },
     "metadata": {},
     "output_type": "display_data"
    }
   ],
   "source": [
    "# Convert predicted probabilities to binary predictions\n",
    "y_pred_binary = [1 if p >= 0.5 else 0 for p in y_pred]\n",
    "\n",
    "# Calculate the confusion matrix\n",
    "cm = confusion_matrix(y_test, y_pred_binary)\n",
    "\n",
    "# Plot the confusion matrix\n",
    "sns.heatmap(cm, annot=True, fmt='d', cmap='Blues', xticklabels=['No Swing', 'Swing'], yticklabels=['No Swing', 'Swing'])\n",
    "plt.ylabel('Actual')\n",
    "plt.xlabel('Predicted')\n",
    "plt.show()"
   ]
  },
  {
   "cell_type": "markdown",
   "metadata": {},
   "source": [
    "# Initial Paramater Tuning"
   ]
  },
  {
   "cell_type": "code",
   "execution_count": 48,
   "metadata": {},
   "outputs": [],
   "source": [
    "def objective(trial):\n",
    "    dtrain = xgb.DMatrix(x_train, label=y_train)\n",
    "    dvalid = xgb.DMatrix(x_valid, label=y_valid)\n",
    "    \n",
    "    param = {\n",
    "        'max_depth': trial.suggest_int('max_depth', 3, 9),\n",
    "        'eta': trial.suggest_float('eta', 0.01, 0.3),\n",
    "        'objective': 'binary:logistic',\n",
    "        'eval_metric': 'logloss',\n",
    "        'subsample': trial.suggest_float('subsample', 0.6, 0.9),\n",
    "        'colsample_bytree': trial.suggest_float('colsample_bytree', 0.5, 1),\n",
    "        'scale_pos_weight': class_ratio\n",
    "    }\n",
    "\n",
    "    # Train the model with early stopping\n",
    "    model = xgb.train(\n",
    "        param, \n",
    "        dtrain, \n",
    "        num_boost_round=100,  # Maximum number of boosting rounds\n",
    "        evals=[(dvalid, 'eval')],  # Validation set for early stopping\n",
    "        early_stopping_rounds=50  # Stop if the eval metric doesn't improve for 50 rounds\n",
    "    )\n",
    "    \n",
    "    # Predict on the validation set using the best iteration\n",
    "    y_valid_pred = model.predict(dvalid)\n",
    "    \n",
    "    # Calculate the log loss on the validation set\n",
    "    loss = log_loss(y_valid, y_valid_pred)\n",
    "\n",
    "    return loss"
   ]
  },
  {
   "cell_type": "code",
   "execution_count": 49,
   "metadata": {},
   "outputs": [
    {
     "name": "stderr",
     "output_type": "stream",
     "text": [
      "[I 2023-11-09 15:02:02,663] A new study created in memory with name: no-name-77d4897c-ff42-4d27-82db-58cc1b94c5f3\n"
     ]
    },
    {
     "name": "stdout",
     "output_type": "stream",
     "text": [
      "[0]\teval-logloss:0.48088\n",
      "[1]\teval-logloss:0.47996\n",
      "[2]\teval-logloss:0.47904\n",
      "[3]\teval-logloss:0.47823\n",
      "[4]\teval-logloss:0.47747\n",
      "[5]\teval-logloss:0.47664\n",
      "[6]\teval-logloss:0.47586\n",
      "[7]\teval-logloss:0.47510\n",
      "[8]\teval-logloss:0.47447\n",
      "[9]\teval-logloss:0.47379\n",
      "[10]\teval-logloss:0.47322\n",
      "[11]\teval-logloss:0.47254\n",
      "[12]\teval-logloss:0.47190\n",
      "[13]\teval-logloss:0.47129\n",
      "[14]\teval-logloss:0.47076\n",
      "[15]\teval-logloss:0.47020\n",
      "[16]\teval-logloss:0.46976\n",
      "[17]\teval-logloss:0.46923\n",
      "[18]\teval-logloss:0.46871\n",
      "[19]\teval-logloss:0.46826\n",
      "[20]\teval-logloss:0.46779\n",
      "[21]\teval-logloss:0.46737\n",
      "[22]\teval-logloss:0.46691\n",
      "[23]\teval-logloss:0.46651\n",
      "[24]\teval-logloss:0.46612\n",
      "[25]\teval-logloss:0.46572\n",
      "[26]\teval-logloss:0.46534\n",
      "[27]\teval-logloss:0.46494\n",
      "[28]\teval-logloss:0.46459\n",
      "[29]\teval-logloss:0.46424\n",
      "[30]\teval-logloss:0.46390\n",
      "[31]\teval-logloss:0.46355\n",
      "[32]\teval-logloss:0.46310\n",
      "[33]\teval-logloss:0.46281\n",
      "[34]\teval-logloss:0.46243\n",
      "[35]\teval-logloss:0.46210\n",
      "[36]\teval-logloss:0.46178\n",
      "[37]\teval-logloss:0.46150\n",
      "[38]\teval-logloss:0.46116\n",
      "[39]\teval-logloss:0.46093\n",
      "[40]\teval-logloss:0.46079\n",
      "[41]\teval-logloss:0.46041\n",
      "[42]\teval-logloss:0.46020\n",
      "[43]\teval-logloss:0.45995\n",
      "[44]\teval-logloss:0.45972\n",
      "[45]\teval-logloss:0.45961\n",
      "[46]\teval-logloss:0.45940\n",
      "[47]\teval-logloss:0.45917\n",
      "[48]\teval-logloss:0.45898\n",
      "[49]\teval-logloss:0.45875\n",
      "[50]\teval-logloss:0.45853\n",
      "[51]\teval-logloss:0.45829\n",
      "[52]\teval-logloss:0.45811\n",
      "[53]\teval-logloss:0.45791\n",
      "[54]\teval-logloss:0.45774\n",
      "[55]\teval-logloss:0.45763\n",
      "[56]\teval-logloss:0.45747\n",
      "[57]\teval-logloss:0.45730\n",
      "[58]\teval-logloss:0.45711\n",
      "[59]\teval-logloss:0.45689\n",
      "[60]\teval-logloss:0.45671\n",
      "[61]\teval-logloss:0.45664\n",
      "[62]\teval-logloss:0.45648\n",
      "[63]\teval-logloss:0.45635\n",
      "[64]\teval-logloss:0.45618\n",
      "[65]\teval-logloss:0.45609\n",
      "[66]\teval-logloss:0.45587\n",
      "[67]\teval-logloss:0.45572\n",
      "[68]\teval-logloss:0.45559\n",
      "[69]\teval-logloss:0.45543\n",
      "[70]\teval-logloss:0.45531\n",
      "[71]\teval-logloss:0.45514\n",
      "[72]\teval-logloss:0.45503\n",
      "[73]\teval-logloss:0.45490\n",
      "[74]\teval-logloss:0.45479\n",
      "[75]\teval-logloss:0.45469\n",
      "[76]\teval-logloss:0.45456\n",
      "[77]\teval-logloss:0.45448\n",
      "[78]\teval-logloss:0.45434\n",
      "[79]\teval-logloss:0.45413\n",
      "[80]\teval-logloss:0.45403\n",
      "[81]\teval-logloss:0.45390\n",
      "[82]\teval-logloss:0.45381\n",
      "[83]\teval-logloss:0.45369\n",
      "[84]\teval-logloss:0.45352\n",
      "[85]\teval-logloss:0.45339\n",
      "[86]\teval-logloss:0.45333\n",
      "[87]\teval-logloss:0.45325\n",
      "[88]\teval-logloss:0.45312\n",
      "[89]\teval-logloss:0.45301\n",
      "[90]\teval-logloss:0.45293\n",
      "[91]\teval-logloss:0.45287\n",
      "[92]\teval-logloss:0.45277\n",
      "[93]\teval-logloss:0.45272\n",
      "[94]\teval-logloss:0.45266\n",
      "[95]\teval-logloss:0.45257\n",
      "[96]\teval-logloss:0.45242\n",
      "[97]\teval-logloss:0.45230\n",
      "[98]\teval-logloss:0.45220\n",
      "[99]\teval-logloss:0.45214\n"
     ]
    },
    {
     "name": "stderr",
     "output_type": "stream",
     "text": [
      "[I 2023-11-09 15:02:07,497] Trial 0 finished with value: 0.4521358678501204 and parameters: {'max_depth': 4, 'eta': 0.022925626457788707, 'subsample': 0.8640580467849099, 'colsample_bytree': 0.9118917566007235}. Best is trial 0 with value: 0.4521358678501204.\n"
     ]
    },
    {
     "name": "stdout",
     "output_type": "stream",
     "text": [
      "[0]\teval-logloss:0.48161\n",
      "[1]\teval-logloss:0.48134\n",
      "[2]\teval-logloss:0.48098\n",
      "[3]\teval-logloss:0.48043\n",
      "[4]\teval-logloss:0.48017\n",
      "[5]\teval-logloss:0.47960\n",
      "[6]\teval-logloss:0.47910\n",
      "[7]\teval-logloss:0.47888\n",
      "[8]\teval-logloss:0.47868\n",
      "[9]\teval-logloss:0.47850\n",
      "[10]\teval-logloss:0.47804\n",
      "[11]\teval-logloss:0.47751\n",
      "[12]\teval-logloss:0.47702\n",
      "[13]\teval-logloss:0.47683\n",
      "[14]\teval-logloss:0.47654\n",
      "[15]\teval-logloss:0.47635\n",
      "[16]\teval-logloss:0.47605\n",
      "[17]\teval-logloss:0.47558\n",
      "[18]\teval-logloss:0.47517\n",
      "[19]\teval-logloss:0.47472\n",
      "[20]\teval-logloss:0.47455\n",
      "[21]\teval-logloss:0.47439\n",
      "[22]\teval-logloss:0.47398\n",
      "[23]\teval-logloss:0.47384\n",
      "[24]\teval-logloss:0.47342\n",
      "[25]\teval-logloss:0.47327\n",
      "[26]\teval-logloss:0.47290\n",
      "[27]\teval-logloss:0.47256\n",
      "[28]\teval-logloss:0.47243\n",
      "[29]\teval-logloss:0.47228\n",
      "[30]\teval-logloss:0.47215\n",
      "[31]\teval-logloss:0.47192\n",
      "[32]\teval-logloss:0.47158\n",
      "[33]\teval-logloss:0.47147\n",
      "[34]\teval-logloss:0.47111\n",
      "[35]\teval-logloss:0.47099\n",
      "[36]\teval-logloss:0.47086\n",
      "[37]\teval-logloss:0.47075\n",
      "[38]\teval-logloss:0.47043\n",
      "[39]\teval-logloss:0.47030\n",
      "[40]\teval-logloss:0.47020\n",
      "[41]\teval-logloss:0.46999\n",
      "[42]\teval-logloss:0.46967\n",
      "[43]\teval-logloss:0.46940\n",
      "[44]\teval-logloss:0.46913\n",
      "[45]\teval-logloss:0.46903\n",
      "[46]\teval-logloss:0.46894\n",
      "[47]\teval-logloss:0.46886\n",
      "[48]\teval-logloss:0.46878\n",
      "[49]\teval-logloss:0.46851\n",
      "[50]\teval-logloss:0.46841\n",
      "[51]\teval-logloss:0.46808\n",
      "[52]\teval-logloss:0.46783\n",
      "[53]\teval-logloss:0.46775\n",
      "[54]\teval-logloss:0.46767\n",
      "[55]\teval-logloss:0.46757\n",
      "[56]\teval-logloss:0.46738\n",
      "[57]\teval-logloss:0.46731\n",
      "[58]\teval-logloss:0.46714\n",
      "[59]\teval-logloss:0.46698\n",
      "[60]\teval-logloss:0.46690\n",
      "[61]\teval-logloss:0.46683\n",
      "[62]\teval-logloss:0.46658\n",
      "[63]\teval-logloss:0.46652\n",
      "[64]\teval-logloss:0.46627\n",
      "[65]\teval-logloss:0.46620\n",
      "[66]\teval-logloss:0.46604\n",
      "[67]\teval-logloss:0.46576\n",
      "[68]\teval-logloss:0.46569\n",
      "[69]\teval-logloss:0.46547\n",
      "[70]\teval-logloss:0.46522\n",
      "[71]\teval-logloss:0.46516\n",
      "[72]\teval-logloss:0.46490\n",
      "[73]\teval-logloss:0.46463\n",
      "[74]\teval-logloss:0.46457\n",
      "[75]\teval-logloss:0.46434\n",
      "[76]\teval-logloss:0.46412\n",
      "[77]\teval-logloss:0.46386\n",
      "[78]\teval-logloss:0.46360\n",
      "[79]\teval-logloss:0.46355\n",
      "[80]\teval-logloss:0.46349\n",
      "[81]\teval-logloss:0.46325\n",
      "[82]\teval-logloss:0.46314\n",
      "[83]\teval-logloss:0.46306\n",
      "[84]\teval-logloss:0.46294\n",
      "[85]\teval-logloss:0.46283\n",
      "[86]\teval-logloss:0.46278\n",
      "[87]\teval-logloss:0.46258\n",
      "[88]\teval-logloss:0.46254\n",
      "[89]\teval-logloss:0.46232\n",
      "[90]\teval-logloss:0.46227\n",
      "[91]\teval-logloss:0.46204\n",
      "[92]\teval-logloss:0.46198\n",
      "[93]\teval-logloss:0.46194\n",
      "[94]\teval-logloss:0.46189\n",
      "[95]\teval-logloss:0.46180\n",
      "[96]\teval-logloss:0.46176\n",
      "[97]\teval-logloss:0.46172\n",
      "[98]\teval-logloss:0.46161\n",
      "[99]\teval-logloss:0.46157\n"
     ]
    },
    {
     "name": "stderr",
     "output_type": "stream",
     "text": [
      "[I 2023-11-09 15:02:11,559] Trial 1 finished with value: 0.4615728358223673 and parameters: {'max_depth': 3, 'eta': 0.01751554347352284, 'subsample': 0.8525632666789138, 'colsample_bytree': 0.5180207710456672}. Best is trial 1 with value: 0.4615728358223673.\n"
     ]
    },
    {
     "name": "stdout",
     "output_type": "stream",
     "text": [
      "[0]\teval-logloss:0.47927\n",
      "[1]\teval-logloss:0.47690\n",
      "[2]\teval-logloss:0.47468\n",
      "[3]\teval-logloss:0.47270\n",
      "[4]\teval-logloss:0.47087\n",
      "[5]\teval-logloss:0.46917\n",
      "[6]\teval-logloss:0.46752\n",
      "[7]\teval-logloss:0.46605\n",
      "[8]\teval-logloss:0.46460\n",
      "[9]\teval-logloss:0.46316\n",
      "[10]\teval-logloss:0.46213\n",
      "[11]\teval-logloss:0.46095\n",
      "[12]\teval-logloss:0.45983\n",
      "[13]\teval-logloss:0.45881\n",
      "[14]\teval-logloss:0.45796\n",
      "[15]\teval-logloss:0.45702\n",
      "[16]\teval-logloss:0.45625\n",
      "[17]\teval-logloss:0.45541\n",
      "[18]\teval-logloss:0.45464\n",
      "[19]\teval-logloss:0.45398\n",
      "[20]\teval-logloss:0.45335\n",
      "[21]\teval-logloss:0.45282\n",
      "[22]\teval-logloss:0.45227\n",
      "[23]\teval-logloss:0.45175\n",
      "[24]\teval-logloss:0.45122\n",
      "[25]\teval-logloss:0.45089\n",
      "[26]\teval-logloss:0.45050\n",
      "[27]\teval-logloss:0.45002\n",
      "[28]\teval-logloss:0.44955\n",
      "[29]\teval-logloss:0.44921\n",
      "[30]\teval-logloss:0.44888\n",
      "[31]\teval-logloss:0.44857\n",
      "[32]\teval-logloss:0.44830\n",
      "[33]\teval-logloss:0.44804\n",
      "[34]\teval-logloss:0.44768\n",
      "[35]\teval-logloss:0.44728\n",
      "[36]\teval-logloss:0.44698\n",
      "[37]\teval-logloss:0.44669\n",
      "[38]\teval-logloss:0.44642\n",
      "[39]\teval-logloss:0.44612\n",
      "[40]\teval-logloss:0.44595\n",
      "[41]\teval-logloss:0.44572\n",
      "[42]\teval-logloss:0.44549\n",
      "[43]\teval-logloss:0.44524\n",
      "[44]\teval-logloss:0.44499\n",
      "[45]\teval-logloss:0.44487\n",
      "[46]\teval-logloss:0.44477\n",
      "[47]\teval-logloss:0.44456\n",
      "[48]\teval-logloss:0.44436\n",
      "[49]\teval-logloss:0.44424\n",
      "[50]\teval-logloss:0.44409\n",
      "[51]\teval-logloss:0.44386\n",
      "[52]\teval-logloss:0.44372\n",
      "[53]\teval-logloss:0.44355\n",
      "[54]\teval-logloss:0.44334\n",
      "[55]\teval-logloss:0.44322\n",
      "[56]\teval-logloss:0.44301\n",
      "[57]\teval-logloss:0.44287\n",
      "[58]\teval-logloss:0.44274\n",
      "[59]\teval-logloss:0.44254\n",
      "[60]\teval-logloss:0.44234\n",
      "[61]\teval-logloss:0.44227\n",
      "[62]\teval-logloss:0.44212\n",
      "[63]\teval-logloss:0.44206\n",
      "[64]\teval-logloss:0.44196\n",
      "[65]\teval-logloss:0.44183\n",
      "[66]\teval-logloss:0.44167\n",
      "[67]\teval-logloss:0.44152\n",
      "[68]\teval-logloss:0.44145\n",
      "[69]\teval-logloss:0.44137\n",
      "[70]\teval-logloss:0.44126\n",
      "[71]\teval-logloss:0.44111\n",
      "[72]\teval-logloss:0.44091\n",
      "[73]\teval-logloss:0.44079\n",
      "[74]\teval-logloss:0.44076\n",
      "[75]\teval-logloss:0.44069\n",
      "[76]\teval-logloss:0.44059\n",
      "[77]\teval-logloss:0.44050\n",
      "[78]\teval-logloss:0.44046\n",
      "[79]\teval-logloss:0.44037\n",
      "[80]\teval-logloss:0.44033\n",
      "[81]\teval-logloss:0.44018\n",
      "[82]\teval-logloss:0.44011\n",
      "[83]\teval-logloss:0.43989\n",
      "[84]\teval-logloss:0.43974\n",
      "[85]\teval-logloss:0.43961\n",
      "[86]\teval-logloss:0.43954\n",
      "[87]\teval-logloss:0.43950\n",
      "[88]\teval-logloss:0.43941\n",
      "[89]\teval-logloss:0.43935\n",
      "[90]\teval-logloss:0.43920\n",
      "[91]\teval-logloss:0.43920\n",
      "[92]\teval-logloss:0.43912\n",
      "[93]\teval-logloss:0.43911\n",
      "[94]\teval-logloss:0.43903\n",
      "[95]\teval-logloss:0.43900\n",
      "[96]\teval-logloss:0.43892\n",
      "[97]\teval-logloss:0.43887\n",
      "[98]\teval-logloss:0.43885\n",
      "[99]\teval-logloss:0.43883\n"
     ]
    },
    {
     "name": "stderr",
     "output_type": "stream",
     "text": [
      "[I 2023-11-09 15:02:17,825] Trial 2 finished with value: 0.43883250158929815 and parameters: {'max_depth': 6, 'eta': 0.0490926169253814, 'subsample': 0.7375397929598191, 'colsample_bytree': 0.934564213469}. Best is trial 1 with value: 0.4615728358223673.\n"
     ]
    },
    {
     "name": "stdout",
     "output_type": "stream",
     "text": [
      "[0]\teval-logloss:0.46636\n",
      "[1]\teval-logloss:0.45796\n",
      "[2]\teval-logloss:0.45232\n",
      "[3]\teval-logloss:0.44918\n",
      "[4]\teval-logloss:0.44700\n",
      "[5]\teval-logloss:0.44559\n",
      "[6]\teval-logloss:0.44498\n",
      "[7]\teval-logloss:0.44397\n",
      "[8]\teval-logloss:0.44316\n",
      "[9]\teval-logloss:0.44290\n",
      "[10]\teval-logloss:0.44247\n",
      "[11]\teval-logloss:0.44263\n",
      "[12]\teval-logloss:0.44221\n",
      "[13]\teval-logloss:0.44171\n",
      "[14]\teval-logloss:0.44152\n",
      "[15]\teval-logloss:0.44140\n",
      "[16]\teval-logloss:0.44133\n",
      "[17]\teval-logloss:0.44142\n",
      "[18]\teval-logloss:0.44134\n",
      "[19]\teval-logloss:0.44102\n",
      "[20]\teval-logloss:0.44106\n",
      "[21]\teval-logloss:0.44115\n",
      "[22]\teval-logloss:0.44116\n",
      "[23]\teval-logloss:0.44128\n",
      "[24]\teval-logloss:0.44153\n",
      "[25]\teval-logloss:0.44164\n",
      "[26]\teval-logloss:0.44155\n",
      "[27]\teval-logloss:0.44166\n",
      "[28]\teval-logloss:0.44166\n",
      "[29]\teval-logloss:0.44175\n",
      "[30]\teval-logloss:0.44198\n",
      "[31]\teval-logloss:0.44185\n",
      "[32]\teval-logloss:0.44188\n",
      "[33]\teval-logloss:0.44202\n",
      "[34]\teval-logloss:0.44258\n",
      "[35]\teval-logloss:0.44263\n",
      "[36]\teval-logloss:0.44295\n",
      "[37]\teval-logloss:0.44320\n",
      "[38]\teval-logloss:0.44314\n",
      "[39]\teval-logloss:0.44347\n",
      "[40]\teval-logloss:0.44361\n",
      "[41]\teval-logloss:0.44364\n",
      "[42]\teval-logloss:0.44375\n",
      "[43]\teval-logloss:0.44385\n",
      "[44]\teval-logloss:0.44404\n",
      "[45]\teval-logloss:0.44427\n",
      "[46]\teval-logloss:0.44449\n",
      "[47]\teval-logloss:0.44458\n",
      "[48]\teval-logloss:0.44448\n",
      "[49]\teval-logloss:0.44470\n",
      "[50]\teval-logloss:0.44494\n",
      "[51]\teval-logloss:0.44513\n",
      "[52]\teval-logloss:0.44513\n",
      "[53]\teval-logloss:0.44515\n",
      "[54]\teval-logloss:0.44540\n",
      "[55]\teval-logloss:0.44556\n",
      "[56]\teval-logloss:0.44570\n",
      "[57]\teval-logloss:0.44581\n",
      "[58]\teval-logloss:0.44599\n",
      "[59]\teval-logloss:0.44613\n",
      "[60]\teval-logloss:0.44634\n",
      "[61]\teval-logloss:0.44649\n",
      "[62]\teval-logloss:0.44666\n",
      "[63]\teval-logloss:0.44679\n",
      "[64]\teval-logloss:0.44701\n",
      "[65]\teval-logloss:0.44717\n",
      "[66]\teval-logloss:0.44729\n",
      "[67]\teval-logloss:0.44745\n",
      "[68]\teval-logloss:0.44760\n"
     ]
    },
    {
     "name": "stderr",
     "output_type": "stream",
     "text": [
      "[I 2023-11-09 15:02:23,294] Trial 3 finished with value: 0.4478221039437653 and parameters: {'max_depth': 8, 'eta': 0.29451059212654296, 'subsample': 0.7895300427349203, 'colsample_bytree': 0.9476686229232565}. Best is trial 1 with value: 0.4615728358223673.\n"
     ]
    },
    {
     "name": "stdout",
     "output_type": "stream",
     "text": [
      "[0]\teval-logloss:0.47857\n",
      "[1]\teval-logloss:0.47519\n",
      "[2]\teval-logloss:0.47210\n",
      "[3]\teval-logloss:0.46960\n",
      "[4]\teval-logloss:0.46746\n",
      "[5]\teval-logloss:0.46531\n",
      "[6]\teval-logloss:0.46327\n",
      "[7]\teval-logloss:0.46155\n",
      "[8]\teval-logloss:0.46032\n",
      "[9]\teval-logloss:0.45880\n",
      "[10]\teval-logloss:0.45783\n",
      "[11]\teval-logloss:0.45693\n",
      "[12]\teval-logloss:0.45596\n",
      "[13]\teval-logloss:0.45504\n",
      "[14]\teval-logloss:0.45427\n",
      "[15]\teval-logloss:0.45390\n",
      "[16]\teval-logloss:0.45329\n",
      "[17]\teval-logloss:0.45224\n",
      "[18]\teval-logloss:0.45147\n",
      "[19]\teval-logloss:0.45090\n",
      "[20]\teval-logloss:0.45051\n",
      "[21]\teval-logloss:0.45022\n",
      "[22]\teval-logloss:0.44940\n",
      "[23]\teval-logloss:0.44887\n",
      "[24]\teval-logloss:0.44857\n",
      "[25]\teval-logloss:0.44833\n",
      "[26]\teval-logloss:0.44805\n",
      "[27]\teval-logloss:0.44758\n",
      "[28]\teval-logloss:0.44739\n",
      "[29]\teval-logloss:0.44703\n",
      "[30]\teval-logloss:0.44667\n",
      "[31]\teval-logloss:0.44654\n",
      "[32]\teval-logloss:0.44605\n",
      "[33]\teval-logloss:0.44574\n",
      "[34]\teval-logloss:0.44544\n",
      "[35]\teval-logloss:0.44528\n",
      "[36]\teval-logloss:0.44506\n",
      "[37]\teval-logloss:0.44479\n",
      "[38]\teval-logloss:0.44455\n",
      "[39]\teval-logloss:0.44437\n",
      "[40]\teval-logloss:0.44429\n",
      "[41]\teval-logloss:0.44385\n",
      "[42]\teval-logloss:0.44375\n",
      "[43]\teval-logloss:0.44355\n",
      "[44]\teval-logloss:0.44344\n",
      "[45]\teval-logloss:0.44328\n",
      "[46]\teval-logloss:0.44319\n",
      "[47]\teval-logloss:0.44303\n",
      "[48]\teval-logloss:0.44296\n",
      "[49]\teval-logloss:0.44286\n",
      "[50]\teval-logloss:0.44261\n",
      "[51]\teval-logloss:0.44239\n",
      "[52]\teval-logloss:0.44222\n",
      "[53]\teval-logloss:0.44221\n",
      "[54]\teval-logloss:0.44216\n",
      "[55]\teval-logloss:0.44212\n",
      "[56]\teval-logloss:0.44191\n",
      "[57]\teval-logloss:0.44176\n",
      "[58]\teval-logloss:0.44171\n",
      "[59]\teval-logloss:0.44156\n",
      "[60]\teval-logloss:0.44143\n",
      "[61]\teval-logloss:0.44139\n",
      "[62]\teval-logloss:0.44129\n",
      "[63]\teval-logloss:0.44119\n",
      "[64]\teval-logloss:0.44106\n",
      "[65]\teval-logloss:0.44103\n",
      "[66]\teval-logloss:0.44094\n",
      "[67]\teval-logloss:0.44089\n",
      "[68]\teval-logloss:0.44083\n",
      "[69]\teval-logloss:0.44074\n",
      "[70]\teval-logloss:0.44064\n",
      "[71]\teval-logloss:0.44050\n",
      "[72]\teval-logloss:0.44038\n",
      "[73]\teval-logloss:0.44038\n",
      "[74]\teval-logloss:0.44034\n",
      "[75]\teval-logloss:0.44029\n",
      "[76]\teval-logloss:0.44016\n",
      "[77]\teval-logloss:0.43990\n",
      "[78]\teval-logloss:0.43979\n",
      "[79]\teval-logloss:0.43973\n",
      "[80]\teval-logloss:0.43968\n",
      "[81]\teval-logloss:0.43946\n",
      "[82]\teval-logloss:0.43934\n",
      "[83]\teval-logloss:0.43918\n",
      "[84]\teval-logloss:0.43908\n",
      "[85]\teval-logloss:0.43895\n",
      "[86]\teval-logloss:0.43893\n",
      "[87]\teval-logloss:0.43889\n",
      "[88]\teval-logloss:0.43884\n",
      "[89]\teval-logloss:0.43878\n",
      "[90]\teval-logloss:0.43874\n",
      "[91]\teval-logloss:0.43869\n",
      "[92]\teval-logloss:0.43865\n",
      "[93]\teval-logloss:0.43861\n",
      "[94]\teval-logloss:0.43857\n",
      "[95]\teval-logloss:0.43860\n",
      "[96]\teval-logloss:0.43857\n",
      "[97]\teval-logloss:0.43854\n",
      "[98]\teval-logloss:0.43852\n",
      "[99]\teval-logloss:0.43846\n"
     ]
    },
    {
     "name": "stderr",
     "output_type": "stream",
     "text": [
      "[I 2023-11-09 15:02:27,157] Trial 4 finished with value: 0.4384609867814846 and parameters: {'max_depth': 5, 'eta': 0.08128641721739963, 'subsample': 0.6087544084330108, 'colsample_bytree': 0.8411399263475404}. Best is trial 1 with value: 0.4615728358223673.\n"
     ]
    },
    {
     "name": "stdout",
     "output_type": "stream",
     "text": [
      "[0]\teval-logloss:0.46791\n",
      "[1]\teval-logloss:0.45914\n",
      "[2]\teval-logloss:0.45352\n",
      "[3]\teval-logloss:0.44959\n",
      "[4]\teval-logloss:0.44759\n",
      "[5]\teval-logloss:0.44631\n",
      "[6]\teval-logloss:0.44491\n",
      "[7]\teval-logloss:0.44436\n",
      "[8]\teval-logloss:0.44348\n",
      "[9]\teval-logloss:0.44274\n",
      "[10]\teval-logloss:0.44247\n",
      "[11]\teval-logloss:0.44206\n",
      "[12]\teval-logloss:0.44198\n",
      "[13]\teval-logloss:0.44152\n",
      "[14]\teval-logloss:0.44124\n",
      "[15]\teval-logloss:0.44120\n",
      "[16]\teval-logloss:0.44135\n",
      "[17]\teval-logloss:0.44136\n",
      "[18]\teval-logloss:0.44146\n",
      "[19]\teval-logloss:0.44130\n",
      "[20]\teval-logloss:0.44113\n",
      "[21]\teval-logloss:0.44093\n",
      "[22]\teval-logloss:0.44082\n",
      "[23]\teval-logloss:0.44097\n",
      "[24]\teval-logloss:0.44110\n",
      "[25]\teval-logloss:0.44110\n",
      "[26]\teval-logloss:0.44117\n"
     ]
    },
    {
     "name": "stderr",
     "output_type": "stream",
     "text": [
      "[W 2023-11-09 15:02:29,827] Trial 5 failed with parameters: {'max_depth': 9, 'eta': 0.2496625790745995, 'subsample': 0.8585944308093452, 'colsample_bytree': 0.9079808888989396} because of the following error: KeyboardInterrupt().\n",
      "Traceback (most recent call last):\n",
      "  File \"C:\\Users\\clayton.thompson\\AppData\\Roaming\\Python\\Python311\\site-packages\\optuna\\study\\_optimize.py\", line 200, in _run_trial\n",
      "    value_or_values = func(trial)\n",
      "                      ^^^^^^^^^^^\n",
      "  File \"C:\\Users\\clayton.thompson\\AppData\\Local\\Temp\\ipykernel_33728\\3277763531.py\", line 16, in objective\n",
      "    model = xgb.train(\n",
      "            ^^^^^^^^^^\n",
      "  File \"C:\\Users\\clayton.thompson\\AppData\\Roaming\\Python\\Python311\\site-packages\\xgboost\\core.py\", line 729, in inner_f\n",
      "    return func(**kwargs)\n",
      "           ^^^^^^^^^^^^^^\n",
      "  File \"C:\\Users\\clayton.thompson\\AppData\\Roaming\\Python\\Python311\\site-packages\\xgboost\\training.py\", line 181, in train\n",
      "    bst.update(dtrain, i, obj)\n",
      "  File \"C:\\Users\\clayton.thompson\\AppData\\Roaming\\Python\\Python311\\site-packages\\xgboost\\core.py\", line 2050, in update\n",
      "    _LIB.XGBoosterUpdateOneIter(\n",
      "KeyboardInterrupt\n",
      "[W 2023-11-09 15:02:29,832] Trial 5 failed with value None.\n"
     ]
    },
    {
     "ename": "KeyboardInterrupt",
     "evalue": "",
     "output_type": "error",
     "traceback": [
      "\u001b[1;31m---------------------------------------------------------------------------\u001b[0m",
      "\u001b[1;31mKeyboardInterrupt\u001b[0m                         Traceback (most recent call last)",
      "\u001b[1;32mc:\\Users\\clayton.thompson\\OneDrive - Driveline Baseball\\Documents\\GitHub\\stuff-baby\\clayton\\xwhiff.ipynb Cell 21\u001b[0m line \u001b[0;36m3\n\u001b[0;32m      <a href='vscode-notebook-cell:/c%3A/Users/clayton.thompson/OneDrive%20-%20Driveline%20Baseball/Documents/GitHub/stuff-baby/clayton/xwhiff.ipynb#X25sZmlsZQ%3D%3D?line=0'>1</a>\u001b[0m \u001b[39m#create an optuna study and specifcy the the direction of the optimization\u001b[39;00m\n\u001b[0;32m      <a href='vscode-notebook-cell:/c%3A/Users/clayton.thompson/OneDrive%20-%20Driveline%20Baseball/Documents/GitHub/stuff-baby/clayton/xwhiff.ipynb#X25sZmlsZQ%3D%3D?line=1'>2</a>\u001b[0m study \u001b[39m=\u001b[39m optuna\u001b[39m.\u001b[39mcreate_study(direction\u001b[39m=\u001b[39m\u001b[39m'\u001b[39m\u001b[39mmaximize\u001b[39m\u001b[39m'\u001b[39m)\n\u001b[1;32m----> <a href='vscode-notebook-cell:/c%3A/Users/clayton.thompson/OneDrive%20-%20Driveline%20Baseball/Documents/GitHub/stuff-baby/clayton/xwhiff.ipynb#X25sZmlsZQ%3D%3D?line=2'>3</a>\u001b[0m study\u001b[39m.\u001b[39;49moptimize(objective, n_trials\u001b[39m=\u001b[39;49m\u001b[39m1000\u001b[39;49m)\n",
      "File \u001b[1;32m~\\AppData\\Roaming\\Python\\Python311\\site-packages\\optuna\\study\\study.py:451\u001b[0m, in \u001b[0;36mStudy.optimize\u001b[1;34m(self, func, n_trials, timeout, n_jobs, catch, callbacks, gc_after_trial, show_progress_bar)\u001b[0m\n\u001b[0;32m    348\u001b[0m \u001b[39mdef\u001b[39;00m \u001b[39moptimize\u001b[39m(\n\u001b[0;32m    349\u001b[0m     \u001b[39mself\u001b[39m,\n\u001b[0;32m    350\u001b[0m     func: ObjectiveFuncType,\n\u001b[1;32m   (...)\u001b[0m\n\u001b[0;32m    357\u001b[0m     show_progress_bar: \u001b[39mbool\u001b[39m \u001b[39m=\u001b[39m \u001b[39mFalse\u001b[39;00m,\n\u001b[0;32m    358\u001b[0m ) \u001b[39m-\u001b[39m\u001b[39m>\u001b[39m \u001b[39mNone\u001b[39;00m:\n\u001b[0;32m    359\u001b[0m \u001b[39m    \u001b[39m\u001b[39m\"\"\"Optimize an objective function.\u001b[39;00m\n\u001b[0;32m    360\u001b[0m \n\u001b[0;32m    361\u001b[0m \u001b[39m    Optimization is done by choosing a suitable set of hyperparameter values from a given\u001b[39;00m\n\u001b[1;32m   (...)\u001b[0m\n\u001b[0;32m    449\u001b[0m \u001b[39m            If nested invocation of this method occurs.\u001b[39;00m\n\u001b[0;32m    450\u001b[0m \u001b[39m    \"\"\"\u001b[39;00m\n\u001b[1;32m--> 451\u001b[0m     _optimize(\n\u001b[0;32m    452\u001b[0m         study\u001b[39m=\u001b[39;49m\u001b[39mself\u001b[39;49m,\n\u001b[0;32m    453\u001b[0m         func\u001b[39m=\u001b[39;49mfunc,\n\u001b[0;32m    454\u001b[0m         n_trials\u001b[39m=\u001b[39;49mn_trials,\n\u001b[0;32m    455\u001b[0m         timeout\u001b[39m=\u001b[39;49mtimeout,\n\u001b[0;32m    456\u001b[0m         n_jobs\u001b[39m=\u001b[39;49mn_jobs,\n\u001b[0;32m    457\u001b[0m         catch\u001b[39m=\u001b[39;49m\u001b[39mtuple\u001b[39;49m(catch) \u001b[39mif\u001b[39;49;00m \u001b[39misinstance\u001b[39;49m(catch, Iterable) \u001b[39melse\u001b[39;49;00m (catch,),\n\u001b[0;32m    458\u001b[0m         callbacks\u001b[39m=\u001b[39;49mcallbacks,\n\u001b[0;32m    459\u001b[0m         gc_after_trial\u001b[39m=\u001b[39;49mgc_after_trial,\n\u001b[0;32m    460\u001b[0m         show_progress_bar\u001b[39m=\u001b[39;49mshow_progress_bar,\n\u001b[0;32m    461\u001b[0m     )\n",
      "File \u001b[1;32m~\\AppData\\Roaming\\Python\\Python311\\site-packages\\optuna\\study\\_optimize.py:66\u001b[0m, in \u001b[0;36m_optimize\u001b[1;34m(study, func, n_trials, timeout, n_jobs, catch, callbacks, gc_after_trial, show_progress_bar)\u001b[0m\n\u001b[0;32m     64\u001b[0m \u001b[39mtry\u001b[39;00m:\n\u001b[0;32m     65\u001b[0m     \u001b[39mif\u001b[39;00m n_jobs \u001b[39m==\u001b[39m \u001b[39m1\u001b[39m:\n\u001b[1;32m---> 66\u001b[0m         _optimize_sequential(\n\u001b[0;32m     67\u001b[0m             study,\n\u001b[0;32m     68\u001b[0m             func,\n\u001b[0;32m     69\u001b[0m             n_trials,\n\u001b[0;32m     70\u001b[0m             timeout,\n\u001b[0;32m     71\u001b[0m             catch,\n\u001b[0;32m     72\u001b[0m             callbacks,\n\u001b[0;32m     73\u001b[0m             gc_after_trial,\n\u001b[0;32m     74\u001b[0m             reseed_sampler_rng\u001b[39m=\u001b[39;49m\u001b[39mFalse\u001b[39;49;00m,\n\u001b[0;32m     75\u001b[0m             time_start\u001b[39m=\u001b[39;49m\u001b[39mNone\u001b[39;49;00m,\n\u001b[0;32m     76\u001b[0m             progress_bar\u001b[39m=\u001b[39;49mprogress_bar,\n\u001b[0;32m     77\u001b[0m         )\n\u001b[0;32m     78\u001b[0m     \u001b[39melse\u001b[39;00m:\n\u001b[0;32m     79\u001b[0m         \u001b[39mif\u001b[39;00m n_jobs \u001b[39m==\u001b[39m \u001b[39m-\u001b[39m\u001b[39m1\u001b[39m:\n",
      "File \u001b[1;32m~\\AppData\\Roaming\\Python\\Python311\\site-packages\\optuna\\study\\_optimize.py:163\u001b[0m, in \u001b[0;36m_optimize_sequential\u001b[1;34m(study, func, n_trials, timeout, catch, callbacks, gc_after_trial, reseed_sampler_rng, time_start, progress_bar)\u001b[0m\n\u001b[0;32m    160\u001b[0m         \u001b[39mbreak\u001b[39;00m\n\u001b[0;32m    162\u001b[0m \u001b[39mtry\u001b[39;00m:\n\u001b[1;32m--> 163\u001b[0m     frozen_trial \u001b[39m=\u001b[39m _run_trial(study, func, catch)\n\u001b[0;32m    164\u001b[0m \u001b[39mfinally\u001b[39;00m:\n\u001b[0;32m    165\u001b[0m     \u001b[39m# The following line mitigates memory problems that can be occurred in some\u001b[39;00m\n\u001b[0;32m    166\u001b[0m     \u001b[39m# environments (e.g., services that use computing containers such as GitHub Actions).\u001b[39;00m\n\u001b[0;32m    167\u001b[0m     \u001b[39m# Please refer to the following PR for further details:\u001b[39;00m\n\u001b[0;32m    168\u001b[0m     \u001b[39m# https://github.com/optuna/optuna/pull/325.\u001b[39;00m\n\u001b[0;32m    169\u001b[0m     \u001b[39mif\u001b[39;00m gc_after_trial:\n",
      "File \u001b[1;32m~\\AppData\\Roaming\\Python\\Python311\\site-packages\\optuna\\study\\_optimize.py:251\u001b[0m, in \u001b[0;36m_run_trial\u001b[1;34m(study, func, catch)\u001b[0m\n\u001b[0;32m    244\u001b[0m         \u001b[39massert\u001b[39;00m \u001b[39mFalse\u001b[39;00m, \u001b[39m\"\u001b[39m\u001b[39mShould not reach.\u001b[39m\u001b[39m\"\u001b[39m\n\u001b[0;32m    246\u001b[0m \u001b[39mif\u001b[39;00m (\n\u001b[0;32m    247\u001b[0m     frozen_trial\u001b[39m.\u001b[39mstate \u001b[39m==\u001b[39m TrialState\u001b[39m.\u001b[39mFAIL\n\u001b[0;32m    248\u001b[0m     \u001b[39mand\u001b[39;00m func_err \u001b[39mis\u001b[39;00m \u001b[39mnot\u001b[39;00m \u001b[39mNone\u001b[39;00m\n\u001b[0;32m    249\u001b[0m     \u001b[39mand\u001b[39;00m \u001b[39mnot\u001b[39;00m \u001b[39misinstance\u001b[39m(func_err, catch)\n\u001b[0;32m    250\u001b[0m ):\n\u001b[1;32m--> 251\u001b[0m     \u001b[39mraise\u001b[39;00m func_err\n\u001b[0;32m    252\u001b[0m \u001b[39mreturn\u001b[39;00m frozen_trial\n",
      "File \u001b[1;32m~\\AppData\\Roaming\\Python\\Python311\\site-packages\\optuna\\study\\_optimize.py:200\u001b[0m, in \u001b[0;36m_run_trial\u001b[1;34m(study, func, catch)\u001b[0m\n\u001b[0;32m    198\u001b[0m \u001b[39mwith\u001b[39;00m get_heartbeat_thread(trial\u001b[39m.\u001b[39m_trial_id, study\u001b[39m.\u001b[39m_storage):\n\u001b[0;32m    199\u001b[0m     \u001b[39mtry\u001b[39;00m:\n\u001b[1;32m--> 200\u001b[0m         value_or_values \u001b[39m=\u001b[39m func(trial)\n\u001b[0;32m    201\u001b[0m     \u001b[39mexcept\u001b[39;00m exceptions\u001b[39m.\u001b[39mTrialPruned \u001b[39mas\u001b[39;00m e:\n\u001b[0;32m    202\u001b[0m         \u001b[39m# TODO(mamu): Handle multi-objective cases.\u001b[39;00m\n\u001b[0;32m    203\u001b[0m         state \u001b[39m=\u001b[39m TrialState\u001b[39m.\u001b[39mPRUNED\n",
      "\u001b[1;32mc:\\Users\\clayton.thompson\\OneDrive - Driveline Baseball\\Documents\\GitHub\\stuff-baby\\clayton\\xwhiff.ipynb Cell 21\u001b[0m line \u001b[0;36m1\n\u001b[0;32m      <a href='vscode-notebook-cell:/c%3A/Users/clayton.thompson/OneDrive%20-%20Driveline%20Baseball/Documents/GitHub/stuff-baby/clayton/xwhiff.ipynb#X25sZmlsZQ%3D%3D?line=4'>5</a>\u001b[0m param \u001b[39m=\u001b[39m {\n\u001b[0;32m      <a href='vscode-notebook-cell:/c%3A/Users/clayton.thompson/OneDrive%20-%20Driveline%20Baseball/Documents/GitHub/stuff-baby/clayton/xwhiff.ipynb#X25sZmlsZQ%3D%3D?line=5'>6</a>\u001b[0m     \u001b[39m'\u001b[39m\u001b[39mmax_depth\u001b[39m\u001b[39m'\u001b[39m: trial\u001b[39m.\u001b[39msuggest_int(\u001b[39m'\u001b[39m\u001b[39mmax_depth\u001b[39m\u001b[39m'\u001b[39m, \u001b[39m3\u001b[39m, \u001b[39m9\u001b[39m),\n\u001b[0;32m      <a href='vscode-notebook-cell:/c%3A/Users/clayton.thompson/OneDrive%20-%20Driveline%20Baseball/Documents/GitHub/stuff-baby/clayton/xwhiff.ipynb#X25sZmlsZQ%3D%3D?line=6'>7</a>\u001b[0m     \u001b[39m'\u001b[39m\u001b[39meta\u001b[39m\u001b[39m'\u001b[39m: trial\u001b[39m.\u001b[39msuggest_float(\u001b[39m'\u001b[39m\u001b[39meta\u001b[39m\u001b[39m'\u001b[39m, \u001b[39m0.01\u001b[39m, \u001b[39m0.3\u001b[39m),\n\u001b[1;32m   (...)\u001b[0m\n\u001b[0;32m     <a href='vscode-notebook-cell:/c%3A/Users/clayton.thompson/OneDrive%20-%20Driveline%20Baseball/Documents/GitHub/stuff-baby/clayton/xwhiff.ipynb#X25sZmlsZQ%3D%3D?line=11'>12</a>\u001b[0m     \u001b[39m# Other parameters as needed\u001b[39;00m\n\u001b[0;32m     <a href='vscode-notebook-cell:/c%3A/Users/clayton.thompson/OneDrive%20-%20Driveline%20Baseball/Documents/GitHub/stuff-baby/clayton/xwhiff.ipynb#X25sZmlsZQ%3D%3D?line=12'>13</a>\u001b[0m }\n\u001b[0;32m     <a href='vscode-notebook-cell:/c%3A/Users/clayton.thompson/OneDrive%20-%20Driveline%20Baseball/Documents/GitHub/stuff-baby/clayton/xwhiff.ipynb#X25sZmlsZQ%3D%3D?line=14'>15</a>\u001b[0m \u001b[39m# Train the model with early stopping\u001b[39;00m\n\u001b[1;32m---> <a href='vscode-notebook-cell:/c%3A/Users/clayton.thompson/OneDrive%20-%20Driveline%20Baseball/Documents/GitHub/stuff-baby/clayton/xwhiff.ipynb#X25sZmlsZQ%3D%3D?line=15'>16</a>\u001b[0m model \u001b[39m=\u001b[39m xgb\u001b[39m.\u001b[39;49mtrain(\n\u001b[0;32m     <a href='vscode-notebook-cell:/c%3A/Users/clayton.thompson/OneDrive%20-%20Driveline%20Baseball/Documents/GitHub/stuff-baby/clayton/xwhiff.ipynb#X25sZmlsZQ%3D%3D?line=16'>17</a>\u001b[0m     param, \n\u001b[0;32m     <a href='vscode-notebook-cell:/c%3A/Users/clayton.thompson/OneDrive%20-%20Driveline%20Baseball/Documents/GitHub/stuff-baby/clayton/xwhiff.ipynb#X25sZmlsZQ%3D%3D?line=17'>18</a>\u001b[0m     dtrain, \n\u001b[0;32m     <a href='vscode-notebook-cell:/c%3A/Users/clayton.thompson/OneDrive%20-%20Driveline%20Baseball/Documents/GitHub/stuff-baby/clayton/xwhiff.ipynb#X25sZmlsZQ%3D%3D?line=18'>19</a>\u001b[0m     num_boost_round\u001b[39m=\u001b[39;49m\u001b[39m100\u001b[39;49m,  \u001b[39m# Maximum number of boosting rounds\u001b[39;49;00m\n\u001b[0;32m     <a href='vscode-notebook-cell:/c%3A/Users/clayton.thompson/OneDrive%20-%20Driveline%20Baseball/Documents/GitHub/stuff-baby/clayton/xwhiff.ipynb#X25sZmlsZQ%3D%3D?line=19'>20</a>\u001b[0m     evals\u001b[39m=\u001b[39;49m[(dvalid, \u001b[39m'\u001b[39;49m\u001b[39meval\u001b[39;49m\u001b[39m'\u001b[39;49m)],  \u001b[39m# Validation set for early stopping\u001b[39;49;00m\n\u001b[0;32m     <a href='vscode-notebook-cell:/c%3A/Users/clayton.thompson/OneDrive%20-%20Driveline%20Baseball/Documents/GitHub/stuff-baby/clayton/xwhiff.ipynb#X25sZmlsZQ%3D%3D?line=20'>21</a>\u001b[0m     early_stopping_rounds\u001b[39m=\u001b[39;49m\u001b[39m50\u001b[39;49m  \u001b[39m# Stop if the eval metric doesn't improve for 50 rounds\u001b[39;49;00m\n\u001b[0;32m     <a href='vscode-notebook-cell:/c%3A/Users/clayton.thompson/OneDrive%20-%20Driveline%20Baseball/Documents/GitHub/stuff-baby/clayton/xwhiff.ipynb#X25sZmlsZQ%3D%3D?line=21'>22</a>\u001b[0m )\n\u001b[0;32m     <a href='vscode-notebook-cell:/c%3A/Users/clayton.thompson/OneDrive%20-%20Driveline%20Baseball/Documents/GitHub/stuff-baby/clayton/xwhiff.ipynb#X25sZmlsZQ%3D%3D?line=23'>24</a>\u001b[0m \u001b[39m# Predict on the validation set using the best iteration\u001b[39;00m\n\u001b[0;32m     <a href='vscode-notebook-cell:/c%3A/Users/clayton.thompson/OneDrive%20-%20Driveline%20Baseball/Documents/GitHub/stuff-baby/clayton/xwhiff.ipynb#X25sZmlsZQ%3D%3D?line=24'>25</a>\u001b[0m y_valid_pred \u001b[39m=\u001b[39m model\u001b[39m.\u001b[39mpredict(dvalid)\n",
      "File \u001b[1;32m~\\AppData\\Roaming\\Python\\Python311\\site-packages\\xgboost\\core.py:729\u001b[0m, in \u001b[0;36mrequire_keyword_args.<locals>.throw_if.<locals>.inner_f\u001b[1;34m(*args, **kwargs)\u001b[0m\n\u001b[0;32m    727\u001b[0m \u001b[39mfor\u001b[39;00m k, arg \u001b[39min\u001b[39;00m \u001b[39mzip\u001b[39m(sig\u001b[39m.\u001b[39mparameters, args):\n\u001b[0;32m    728\u001b[0m     kwargs[k] \u001b[39m=\u001b[39m arg\n\u001b[1;32m--> 729\u001b[0m \u001b[39mreturn\u001b[39;00m func(\u001b[39m*\u001b[39;49m\u001b[39m*\u001b[39;49mkwargs)\n",
      "File \u001b[1;32m~\\AppData\\Roaming\\Python\\Python311\\site-packages\\xgboost\\training.py:181\u001b[0m, in \u001b[0;36mtrain\u001b[1;34m(params, dtrain, num_boost_round, evals, obj, feval, maximize, early_stopping_rounds, evals_result, verbose_eval, xgb_model, callbacks, custom_metric)\u001b[0m\n\u001b[0;32m    179\u001b[0m \u001b[39mif\u001b[39;00m cb_container\u001b[39m.\u001b[39mbefore_iteration(bst, i, dtrain, evals):\n\u001b[0;32m    180\u001b[0m     \u001b[39mbreak\u001b[39;00m\n\u001b[1;32m--> 181\u001b[0m bst\u001b[39m.\u001b[39;49mupdate(dtrain, i, obj)\n\u001b[0;32m    182\u001b[0m \u001b[39mif\u001b[39;00m cb_container\u001b[39m.\u001b[39mafter_iteration(bst, i, dtrain, evals):\n\u001b[0;32m    183\u001b[0m     \u001b[39mbreak\u001b[39;00m\n",
      "File \u001b[1;32m~\\AppData\\Roaming\\Python\\Python311\\site-packages\\xgboost\\core.py:2050\u001b[0m, in \u001b[0;36mBooster.update\u001b[1;34m(self, dtrain, iteration, fobj)\u001b[0m\n\u001b[0;32m   2046\u001b[0m \u001b[39mself\u001b[39m\u001b[39m.\u001b[39m_assign_dmatrix_features(dtrain)\n\u001b[0;32m   2048\u001b[0m \u001b[39mif\u001b[39;00m fobj \u001b[39mis\u001b[39;00m \u001b[39mNone\u001b[39;00m:\n\u001b[0;32m   2049\u001b[0m     _check_call(\n\u001b[1;32m-> 2050\u001b[0m         _LIB\u001b[39m.\u001b[39;49mXGBoosterUpdateOneIter(\n\u001b[0;32m   2051\u001b[0m             \u001b[39mself\u001b[39;49m\u001b[39m.\u001b[39;49mhandle, ctypes\u001b[39m.\u001b[39;49mc_int(iteration), dtrain\u001b[39m.\u001b[39;49mhandle\n\u001b[0;32m   2052\u001b[0m         )\n\u001b[0;32m   2053\u001b[0m     )\n\u001b[0;32m   2054\u001b[0m \u001b[39melse\u001b[39;00m:\n\u001b[0;32m   2055\u001b[0m     pred \u001b[39m=\u001b[39m \u001b[39mself\u001b[39m\u001b[39m.\u001b[39mpredict(dtrain, output_margin\u001b[39m=\u001b[39m\u001b[39mTrue\u001b[39;00m, training\u001b[39m=\u001b[39m\u001b[39mTrue\u001b[39;00m)\n",
      "\u001b[1;31mKeyboardInterrupt\u001b[0m: "
     ]
    }
   ],
   "source": [
    "#create an optuna study and specifcy the the direction of the optimization\n",
    "study = optuna.create_study(direction='maximize')\n",
    "study.optimize(objective, n_trials=1000)"
   ]
  },
  {
   "cell_type": "code",
   "execution_count": 34,
   "metadata": {},
   "outputs": [
    {
     "name": "stdout",
     "output_type": "stream",
     "text": [
      "Best trial:\n",
      "Accuracy: 0.4638524980938669\n",
      "Best hyperparameters: {'max_depth': 9, 'eta': 0.2955326545196426, 'subsample': 0.6327218436503768, 'colsample_bytree': 0.76545603663687}\n"
     ]
    }
   ],
   "source": [
    "print('Best trial:')\n",
    "trial = study.best_trial\n",
    "print(f'Accuracy: {trial.value}')\n",
    "print('Best hyperparameters: {}'.format(trial.params))"
   ]
  },
  {
   "cell_type": "markdown",
   "metadata": {},
   "source": [
    "# Final Fastball Model"
   ]
  },
  {
   "cell_type": "code",
   "execution_count": 35,
   "metadata": {},
   "outputs": [],
   "source": [
    "# Ensure trial is the best trial from the study\n",
    "best_trial = study.best_trial\n",
    "\n",
    "# Set parameters\n",
    "final_parameters = {\n",
    "    'max_depth': best_trial.params['max_depth'],\n",
    "    'eta': best_trial.params['eta'],\n",
    "    'objective': 'binary:logistic',\n",
    "    'eval_metric': 'logloss',\n",
    "    'subsample': best_trial.params['subsample'],\n",
    "    'colsample_bytree': best_trial.params['colsample_bytree'],\n",
    "    'scale_pos_weight': class_ratio\n",
    "}\n",
    "\n",
    "# Prepare the data\n",
    "dtrain = xgb.DMatrix(x_train, label=y_train)\n",
    "# Optionally, prepare a validation set\n",
    "#dval = xgb.DMatrix(x_val, label=y_val)\n",
    "\n",
    "# Train the final model\n",
    "# Optionally, include early stopping\n",
    "# final_model = xgb.train(final_parameters, dtrain, early_stopping_rounds=10, evals=[(dval, 'eval')])\n",
    "final_model = xgb.train(final_parameters, dtrain)\n"
   ]
  },
  {
   "cell_type": "code",
   "execution_count": 46,
   "metadata": {},
   "outputs": [
    {
     "name": "stdout",
     "output_type": "stream",
     "text": [
      "Accuracy: 0.8172661870503597\n",
      "Log Loss: 0.44607315950100607\n",
      "F1 Score: 0.13749553199094483\n"
     ]
    }
   ],
   "source": [
    "# Generate predictions\n",
    "y_pred = final_model.predict(dtest)\n",
    "y_pred_binary = [1 if p >= 0.5 else 0 for p in y_pred]\n",
    "\n",
    "# Calculate Accuracy\n",
    "accuracy = accuracy_score(y_test, y_pred_binary)\n",
    "print(f\"Accuracy: {accuracy}\")\n",
    "\n",
    "# Calculate Log Loss\n",
    "logloss = log_loss(y_test, y_pred)\n",
    "print(f\"Log Loss: {logloss}\")\n",
    "\n",
    "# Calculate F1 Score\n",
    "f1 = f1_score(y_test, y_pred_binary)\n",
    "print(f\"F1 Score: {f1}\")\n"
   ]
  },
  {
   "cell_type": "code",
   "execution_count": 37,
   "metadata": {},
   "outputs": [
    {
     "data": {
      "image/png": "[encoded data removed]",
      "text/plain": [
       "<Figure size 640x480 with 1 Axes>"
      ]
     },
     "metadata": {},
     "output_type": "display_data"
    }
   ],
   "source": [
    "importance = final_model.get_score(importance_type='gain')\n",
    "# Visualizing the feature importances\n",
    "xgb.plot_importance(importance)\n",
    "plt.show()"
   ]
  },
  {
   "cell_type": "code",
   "execution_count": 47,
   "metadata": {},
   "outputs": [
    {
     "data": {
      "image/png": "[encoded data removed]",
      "text/plain": [
       "<Figure size 640x480 with 2 Axes>"
      ]
     },
     "metadata": {},
     "output_type": "display_data"
    }
   ],
   "source": [
    "# Convert predicted probabilities to binary predictions\n",
    "y_pred_binary = [1 if p >= 0.5 else 0 for p in y_pred]\n",
    "\n",
    "# Calculate the confusion matrix\n",
    "cm = confusion_matrix(y_test, y_pred_binary)\n",
    "\n",
    "# Plot the confusion matrix\n",
    "sns.heatmap(cm, annot=True, fmt='d', cmap='Blues', xticklabels=['No Swing', 'Swing'], yticklabels=['No Swing', 'Swing'])\n",
    "plt.ylabel('Actual')\n",
    "plt.xlabel('Predicted')\n",
    "plt.show()"
   ]
  },
  {
   "cell_type": "markdown",
   "metadata": {},
   "source": [
    "## Testing Data Set Predictions"
   ]
  },
  {
   "cell_type": "code",
   "execution_count": 38,
   "metadata": {},
   "outputs": [
    {
     "data": {
      "text/plain": [
       "Index(['release_speed', 'release_pos_x', 'release_pos_z', 'balls', 'strikes',\n",
       "       'pfx_x', 'pfx_z', 'vx0', 'vy0', 'vz0', 'ax', 'ay', 'az',\n",
       "       'release_spin_rate', 'release_extension', 'release_pos_y', 'spin_axis',\n",
       "       'height_numeric'],\n",
       "      dtype='object')"
      ]
     },
     "execution_count": 38,
     "metadata": {},
     "output_type": "execute_result"
    }
   ],
   "source": [
    "testing_data.columns"
   ]
  },
  {
   "cell_type": "code",
   "execution_count": 39,
   "metadata": {},
   "outputs": [],
   "source": [
    "predictions = xgb.DMatrix(testing_data, label=testing_label)"
   ]
  },
  {
   "cell_type": "code",
   "execution_count": 40,
   "metadata": {},
   "outputs": [],
   "source": [
    "y_pred = final_model.predict(predictions)"
   ]
  },
  {
   "cell_type": "code",
   "execution_count": 41,
   "metadata": {},
   "outputs": [
    {
     "name": "stderr",
     "output_type": "stream",
     "text": [
      "C:\\Users\\clayton.thompson\\AppData\\Local\\Temp\\ipykernel_33728\\1564655570.py:1: SettingWithCopyWarning: \n",
      "A value is trying to be set on a copy of a slice from a DataFrame.\n",
      "Try using .loc[row_indexer,col_indexer] = value instead\n",
      "\n",
      "See the caveats in the documentation: https://pandas.pydata.org/pandas-docs/stable/user_guide/indexing.html#returning-a-view-versus-a-copy\n",
      "  testing_identifiers['xwhiff'] = y_pred\n"
     ]
    }
   ],
   "source": [
    "testing_identifiers['xwhiff'] = y_pred"
   ]
  },
  {
   "cell_type": "code",
   "execution_count": 42,
   "metadata": {},
   "outputs": [
    {
     "data": {
      "text/html": [
       "<div>\n",
       "<style scoped>\n",
       "    .dataframe tbody tr th:only-of-type {\n",
       "        vertical-align: middle;\n",
       "    }\n",
       "\n",
       "    .dataframe tbody tr th {\n",
       "        vertical-align: top;\n",
       "    }\n",
       "\n",
       "    .dataframe thead th {\n",
       "        text-align: right;\n",
       "    }\n",
       "</style>\n",
       "<table border=\"1\" class=\"dataframe\">\n",
       "  <thead>\n",
       "    <tr style=\"text-align: right;\">\n",
       "      <th></th>\n",
       "      <th>pitch_id_raw</th>\n",
       "      <th>xwhiff</th>\n",
       "    </tr>\n",
       "  </thead>\n",
       "  <tbody>\n",
       "    <tr>\n",
       "      <th>0</th>\n",
       "      <td>663364_455139_617228_4_75_10</td>\n",
       "      <td>0.220326</td>\n",
       "    </tr>\n",
       "    <tr>\n",
       "      <th>1</th>\n",
       "      <td>663364_455139_617228_3_75_10</td>\n",
       "      <td>0.713445</td>\n",
       "    </tr>\n",
       "    <tr>\n",
       "      <th>2</th>\n",
       "      <td>663364_455139_617228_2_75_10</td>\n",
       "      <td>0.104757</td>\n",
       "    </tr>\n",
       "    <tr>\n",
       "      <th>3</th>\n",
       "      <td>663364_455139_617228_1_75_10</td>\n",
       "      <td>0.096086</td>\n",
       "    </tr>\n",
       "    <tr>\n",
       "      <th>5</th>\n",
       "      <td>663364_593428_605347_4_72_10</td>\n",
       "      <td>0.362532</td>\n",
       "    </tr>\n",
       "  </tbody>\n",
       "</table>\n",
       "</div>"
      ],
      "text/plain": [
       "                   pitch_id_raw    xwhiff\n",
       "0  663364_455139_617228_4_75_10  0.220326\n",
       "1  663364_455139_617228_3_75_10  0.713445\n",
       "2  663364_455139_617228_2_75_10  0.104757\n",
       "3  663364_455139_617228_1_75_10  0.096086\n",
       "5  663364_593428_605347_4_72_10  0.362532"
      ]
     },
     "execution_count": 42,
     "metadata": {},
     "output_type": "execute_result"
    }
   ],
   "source": [
    "testing_identifiers.head()"
   ]
  },
  {
   "cell_type": "code",
   "execution_count": 43,
   "metadata": {},
   "outputs": [],
   "source": [
    "testing_identifiers.to_csv(\"Y:/departments/research_and_development/baseball_operations/clayton_goodiez/csv/whiff_2022&3_xwhiff.csv\")"
   ]
  },
  {
   "cell_type": "markdown",
   "metadata": {},
   "source": [
    "# Offspeed Model "
   ]
  },
  {
   "cell_type": "code",
   "execution_count": null,
   "metadata": {},
   "outputs": [],
   "source": []
  },
  {
   "cell_type": "code",
   "execution_count": 44,
   "metadata": {},
   "outputs": [
    {
     "ename": "NameError",
     "evalue": "name 'offspeed_data' is not defined",
     "output_type": "error",
     "traceback": [
      "\u001b[1;31m---------------------------------------------------------------------------\u001b[0m",
      "\u001b[1;31mNameError\u001b[0m                                 Traceback (most recent call last)",
      "\u001b[1;32mc:\\Users\\clayton.thompson\\OneDrive - Driveline Baseball\\Documents\\GitHub\\stuff-baby\\clayton\\xwhiff.ipynb Cell 36\u001b[0m line \u001b[0;36m1\n\u001b[1;32m----> <a href='vscode-notebook-cell:/c%3A/Users/clayton.thompson/OneDrive%20-%20Driveline%20Baseball/Documents/GitHub/stuff-baby/clayton/xwhiff.ipynb#X46sZmlsZQ%3D%3D?line=0'>1</a>\u001b[0m off \u001b[39m=\u001b[39m offspeed_data\u001b[39m.\u001b[39mdrop([\u001b[39m'\u001b[39m\u001b[39mdescription\u001b[39m\u001b[39m'\u001b[39m, \u001b[39m'\u001b[39m\u001b[39mevents\u001b[39m\u001b[39m'\u001b[39m, \u001b[39m'\u001b[39m\u001b[39mgame_pk\u001b[39m\u001b[39m'\u001b[39m, \u001b[39m'\u001b[39m\u001b[39mgame_date\u001b[39m\u001b[39m'\u001b[39m, \u001b[39m'\u001b[39m\u001b[39mdes\u001b[39m\u001b[39m'\u001b[39m, \u001b[39m'\u001b[39m\u001b[39mpitch_type_dict\u001b[39m\u001b[39m'\u001b[39m,\n\u001b[0;32m      <a href='vscode-notebook-cell:/c%3A/Users/clayton.thompson/OneDrive%20-%20Driveline%20Baseball/Documents/GitHub/stuff-baby/clayton/xwhiff.ipynb#X46sZmlsZQ%3D%3D?line=1'>2</a>\u001b[0m                      \u001b[39m'\u001b[39m\u001b[39mspin_rate_deprecated\u001b[39m\u001b[39m'\u001b[39m, \u001b[39m'\u001b[39m\u001b[39mbreak_angle_deprecated\u001b[39m\u001b[39m'\u001b[39m, \u001b[39m'\u001b[39m\u001b[39mbreak_length_deprecated\u001b[39m\u001b[39m'\u001b[39m, \u001b[39m'\u001b[39m\u001b[39mgame_type\u001b[39m\u001b[39m'\u001b[39m, \u001b[39m'\u001b[39m\u001b[39mhome_team\u001b[39m\u001b[39m'\u001b[39m,\n\u001b[0;32m      <a href='vscode-notebook-cell:/c%3A/Users/clayton.thompson/OneDrive%20-%20Driveline%20Baseball/Documents/GitHub/stuff-baby/clayton/xwhiff.ipynb#X46sZmlsZQ%3D%3D?line=2'>3</a>\u001b[0m                      \u001b[39m'\u001b[39m\u001b[39maway_team\u001b[39m\u001b[39m'\u001b[39m, \u001b[39m'\u001b[39m\u001b[39mtype\u001b[39m\u001b[39m'\u001b[39m, \u001b[39m'\u001b[39m\u001b[39mbb_type\u001b[39m\u001b[39m'\u001b[39m, \u001b[39m'\u001b[39m\u001b[39minning_topbot\u001b[39m\u001b[39m'\u001b[39m, \u001b[39m'\u001b[39m\u001b[39mhc_x\u001b[39m\u001b[39m'\u001b[39m, \u001b[39m'\u001b[39m\u001b[39mhc_y\u001b[39m\u001b[39m'\u001b[39m, \u001b[39m'\u001b[39m\u001b[39mtfs_deprecated\u001b[39m\u001b[39m'\u001b[39m, \u001b[39m'\u001b[39m\u001b[39mtfs_zulu_deprecated\u001b[39m\u001b[39m'\u001b[39m,\n\u001b[0;32m      <a href='vscode-notebook-cell:/c%3A/Users/clayton.thompson/OneDrive%20-%20Driveline%20Baseball/Documents/GitHub/stuff-baby/clayton/xwhiff.ipynb#X46sZmlsZQ%3D%3D?line=3'>4</a>\u001b[0m                      \u001b[39m'\u001b[39m\u001b[39mhit_distance_sc\u001b[39m\u001b[39m'\u001b[39m, \u001b[39m'\u001b[39m\u001b[39mlaunch_speed\u001b[39m\u001b[39m'\u001b[39m, \u001b[39m'\u001b[39m\u001b[39mlaunch_angle\u001b[39m\u001b[39m'\u001b[39m, \u001b[39m'\u001b[39m\u001b[39mestimated_ba_using_speedangle\u001b[39m\u001b[39m'\u001b[39m, \u001b[39m'\u001b[39m\u001b[39mestimated_woba_using_speedangle\u001b[39m\u001b[39m'\u001b[39m,\n\u001b[0;32m      <a href='vscode-notebook-cell:/c%3A/Users/clayton.thompson/OneDrive%20-%20Driveline%20Baseball/Documents/GitHub/stuff-baby/clayton/xwhiff.ipynb#X46sZmlsZQ%3D%3D?line=4'>5</a>\u001b[0m                      \u001b[39m'\u001b[39m\u001b[39mwoba_value\u001b[39m\u001b[39m'\u001b[39m, \u001b[39m'\u001b[39m\u001b[39mwoba_denom\u001b[39m\u001b[39m'\u001b[39m, \u001b[39m'\u001b[39m\u001b[39mbabip_value\u001b[39m\u001b[39m'\u001b[39m, \u001b[39m'\u001b[39m\u001b[39miso_value\u001b[39m\u001b[39m'\u001b[39m, \u001b[39m'\u001b[39m\u001b[39mlaunch_speed_angle\u001b[39m\u001b[39m'\u001b[39m, \u001b[39m'\u001b[39m\u001b[39mpitch_name\u001b[39m\u001b[39m'\u001b[39m, \u001b[39m'\u001b[39m\u001b[39mhome_score\u001b[39m\u001b[39m'\u001b[39m, \u001b[39m'\u001b[39m\u001b[39maway_score\u001b[39m\u001b[39m'\u001b[39m,\n\u001b[0;32m      <a href='vscode-notebook-cell:/c%3A/Users/clayton.thompson/OneDrive%20-%20Driveline%20Baseball/Documents/GitHub/stuff-baby/clayton/xwhiff.ipynb#X46sZmlsZQ%3D%3D?line=5'>6</a>\u001b[0m                      \u001b[39m'\u001b[39m\u001b[39mbat_score\u001b[39m\u001b[39m'\u001b[39m, \u001b[39m'\u001b[39m\u001b[39mfld_score\u001b[39m\u001b[39m'\u001b[39m, \u001b[39m'\u001b[39m\u001b[39mpost_away_score\u001b[39m\u001b[39m'\u001b[39m, \u001b[39m'\u001b[39m\u001b[39mpost_home_score\u001b[39m\u001b[39m'\u001b[39m, \u001b[39m'\u001b[39m\u001b[39mpost_bat_score\u001b[39m\u001b[39m'\u001b[39m, \u001b[39m'\u001b[39m\u001b[39mpost_fld_score\u001b[39m\u001b[39m'\u001b[39m,\n\u001b[0;32m      <a href='vscode-notebook-cell:/c%3A/Users/clayton.thompson/OneDrive%20-%20Driveline%20Baseball/Documents/GitHub/stuff-baby/clayton/xwhiff.ipynb#X46sZmlsZQ%3D%3D?line=6'>7</a>\u001b[0m                       \u001b[39m'\u001b[39m\u001b[39mif_fielding_alignment\u001b[39m\u001b[39m'\u001b[39m, \u001b[39m'\u001b[39m\u001b[39mof_fielding_alignment\u001b[39m\u001b[39m'\u001b[39m, \u001b[39m'\u001b[39m\u001b[39mdelta_home_win_exp\u001b[39m\u001b[39m'\u001b[39m, \u001b[39m'\u001b[39m\u001b[39mdelta_run_exp\u001b[39m\u001b[39m'\u001b[39m,\n\u001b[0;32m      <a href='vscode-notebook-cell:/c%3A/Users/clayton.thompson/OneDrive%20-%20Driveline%20Baseball/Documents/GitHub/stuff-baby/clayton/xwhiff.ipynb#X46sZmlsZQ%3D%3D?line=7'>8</a>\u001b[0m                       \u001b[39m'\u001b[39m\u001b[39mplayer_name\u001b[39m\u001b[39m'\u001b[39m, \u001b[39m'\u001b[39m\u001b[39mhit_location\u001b[39m\u001b[39m'\u001b[39m, \u001b[39m'\u001b[39m\u001b[39mumpire\u001b[39m\u001b[39m'\u001b[39m, \u001b[39m'\u001b[39m\u001b[39msv_id\u001b[39m\u001b[39m'\u001b[39m, \u001b[39m'\u001b[39m\u001b[39mspin_dir\u001b[39m\u001b[39m'\u001b[39m, \n\u001b[0;32m      <a href='vscode-notebook-cell:/c%3A/Users/clayton.thompson/OneDrive%20-%20Driveline%20Baseball/Documents/GitHub/stuff-baby/clayton/xwhiff.ipynb#X46sZmlsZQ%3D%3D?line=8'>9</a>\u001b[0m                       \u001b[39m'\u001b[39m\u001b[39mpitch_type\u001b[39m\u001b[39m'\u001b[39m, \u001b[39m'\u001b[39m\u001b[39mfielder_2.1\u001b[39m\u001b[39m'\u001b[39m, \u001b[39m'\u001b[39m\u001b[39mpitcher.1\u001b[39m\u001b[39m'\u001b[39m, \u001b[39m'\u001b[39m\u001b[39mfielder_3\u001b[39m\u001b[39m'\u001b[39m, \u001b[39m'\u001b[39m\u001b[39mfielder_4\u001b[39m\u001b[39m'\u001b[39m, \u001b[39m'\u001b[39m\u001b[39mfielder_5\u001b[39m\u001b[39m'\u001b[39m, \u001b[39m'\u001b[39m\u001b[39mfielder_6\u001b[39m\u001b[39m'\u001b[39m, \u001b[39m'\u001b[39m\u001b[39mfielder_7\u001b[39m\u001b[39m'\u001b[39m, \u001b[39m'\u001b[39m\u001b[39mfielder_8\u001b[39m\u001b[39m'\u001b[39m, \n\u001b[0;32m     <a href='vscode-notebook-cell:/c%3A/Users/clayton.thompson/OneDrive%20-%20Driveline%20Baseball/Documents/GitHub/stuff-baby/clayton/xwhiff.ipynb#X46sZmlsZQ%3D%3D?line=9'>10</a>\u001b[0m                       \u001b[39m'\u001b[39m\u001b[39mfielder_9\u001b[39m\u001b[39m'\u001b[39m, \u001b[39m'\u001b[39m\u001b[39mbatter\u001b[39m\u001b[39m'\u001b[39m, \u001b[39m'\u001b[39m\u001b[39mpitcher\u001b[39m\u001b[39m'\u001b[39m, \u001b[39m'\u001b[39m\u001b[39mon_3b\u001b[39m\u001b[39m'\u001b[39m, \u001b[39m'\u001b[39m\u001b[39mon_2b\u001b[39m\u001b[39m'\u001b[39m, \u001b[39m'\u001b[39m\u001b[39mon_1b\u001b[39m\u001b[39m'\u001b[39m, \u001b[39m'\u001b[39m\u001b[39mgame_year\u001b[39m\u001b[39m'\u001b[39m, \u001b[39m'\u001b[39m\u001b[39mouts_when_up\u001b[39m\u001b[39m'\u001b[39m, \u001b[39m'\u001b[39m\u001b[39mpitch_number\u001b[39m\u001b[39m'\u001b[39m,  \n\u001b[0;32m     <a href='vscode-notebook-cell:/c%3A/Users/clayton.thompson/OneDrive%20-%20Driveline%20Baseball/Documents/GitHub/stuff-baby/clayton/xwhiff.ipynb#X46sZmlsZQ%3D%3D?line=10'>11</a>\u001b[0m                       \u001b[39m'\u001b[39m\u001b[39mat_bat_number\u001b[39m\u001b[39m'\u001b[39m, \u001b[39m'\u001b[39m\u001b[39minning\u001b[39m\u001b[39m'\u001b[39m, \u001b[39m'\u001b[39m\u001b[39mfielder_2\u001b[39m\u001b[39m'\u001b[39m, \u001b[39m'\u001b[39m\u001b[39msz_top\u001b[39m\u001b[39m'\u001b[39m, \u001b[39m'\u001b[39m\u001b[39msz_bot\u001b[39m\u001b[39m'\u001b[39m,\n\u001b[0;32m     <a href='vscode-notebook-cell:/c%3A/Users/clayton.thompson/OneDrive%20-%20Driveline%20Baseball/Documents/GitHub/stuff-baby/clayton/xwhiff.ipynb#X46sZmlsZQ%3D%3D?line=11'>12</a>\u001b[0m                       \u001b[39m#removed these columns because of collinearity\u001b[39;00m\n\u001b[0;32m     <a href='vscode-notebook-cell:/c%3A/Users/clayton.thompson/OneDrive%20-%20Driveline%20Baseball/Documents/GitHub/stuff-baby/clayton/xwhiff.ipynb#X46sZmlsZQ%3D%3D?line=12'>13</a>\u001b[0m                       \u001b[39m'\u001b[39m\u001b[39mrelease_pos_z\u001b[39m\u001b[39m'\u001b[39m,  \u001b[39m'\u001b[39m\u001b[39meffective_speed\u001b[39m\u001b[39m'\u001b[39m, \u001b[39m'\u001b[39m\u001b[39mrelease_pos_y\u001b[39m\u001b[39m'\u001b[39m, \u001b[39m'\u001b[39m\u001b[39mvy0\u001b[39m\u001b[39m'\u001b[39m, \u001b[39m'\u001b[39m\u001b[39mvx0\u001b[39m\u001b[39m'\u001b[39m, \u001b[39m'\u001b[39m\u001b[39max\u001b[39m\u001b[39m'\u001b[39m, \u001b[39m'\u001b[39m\u001b[39mrelease_extension\u001b[39m\u001b[39m'\u001b[39m, \u001b[39m'\u001b[39m\u001b[39mspin_axis\u001b[39m\u001b[39m'\u001b[39m, \u001b[39m'\u001b[39m\u001b[39mrelease_spin_rate\u001b[39m\u001b[39m'\u001b[39m,\n\u001b[0;32m     <a href='vscode-notebook-cell:/c%3A/Users/clayton.thompson/OneDrive%20-%20Driveline%20Baseball/Documents/GitHub/stuff-baby/clayton/xwhiff.ipynb#X46sZmlsZQ%3D%3D?line=13'>14</a>\u001b[0m                       \u001b[39m'\u001b[39m\u001b[39mpfx_z\u001b[39m\u001b[39m'\u001b[39m, \u001b[39m'\u001b[39m\u001b[39may\u001b[39m\u001b[39m'\u001b[39m, \u001b[39m'\u001b[39m\u001b[39mp_throws\u001b[39m\u001b[39m'\u001b[39m, \u001b[39m'\u001b[39m\u001b[39maz\u001b[39m\u001b[39m'\u001b[39m, \u001b[39m'\u001b[39m\u001b[39mavg_velo\u001b[39m\u001b[39m'\u001b[39m, \u001b[39m'\u001b[39m\u001b[39mavg_hmov\u001b[39m\u001b[39m'\u001b[39m, \u001b[39m'\u001b[39m\u001b[39mavg_vmov\u001b[39m\u001b[39m'\u001b[39m, \u001b[39m'\u001b[39m\u001b[39mpfx_x\u001b[39m\u001b[39m'\u001b[39m, \u001b[39m'\u001b[39m\u001b[39mUnnamed: 0\u001b[39m\u001b[39m'\u001b[39m, \u001b[39m'\u001b[39m\u001b[39mrelease_pos_x\u001b[39m\u001b[39m'\u001b[39m, \u001b[39m'\u001b[39m\u001b[39mballs\u001b[39m\u001b[39m'\u001b[39m, \n\u001b[0;32m     <a href='vscode-notebook-cell:/c%3A/Users/clayton.thompson/OneDrive%20-%20Driveline%20Baseball/Documents/GitHub/stuff-baby/clayton/xwhiff.ipynb#X46sZmlsZQ%3D%3D?line=14'>15</a>\u001b[0m                         \u001b[39m'\u001b[39m\u001b[39mtotal_movement\u001b[39m\u001b[39m'\u001b[39m, \u001b[39m'\u001b[39m\u001b[39mvmov_diff\u001b[39m\u001b[39m'\u001b[39m, \u001b[39m'\u001b[39m\u001b[39mhmov_diff\u001b[39m\u001b[39m'\u001b[39m, \u001b[39m'\u001b[39m\u001b[39mvelo_diff\u001b[39m\u001b[39m'\u001b[39m, \u001b[39m'\u001b[39m\u001b[39mvz0\u001b[39m\u001b[39m'\u001b[39m, \u001b[39m'\u001b[39m\u001b[39mrelease_speed\u001b[39m\u001b[39m'\u001b[39m\n\u001b[0;32m     <a href='vscode-notebook-cell:/c%3A/Users/clayton.thompson/OneDrive%20-%20Driveline%20Baseball/Documents/GitHub/stuff-baby/clayton/xwhiff.ipynb#X46sZmlsZQ%3D%3D?line=15'>16</a>\u001b[0m                       \u001b[39m#'release_spin_rate', 'p_throws', 'spin_axis', 'zone',\u001b[39;00m\n\u001b[0;32m     <a href='vscode-notebook-cell:/c%3A/Users/clayton.thompson/OneDrive%20-%20Driveline%20Baseball/Documents/GitHub/stuff-baby/clayton/xwhiff.ipynb#X46sZmlsZQ%3D%3D?line=16'>17</a>\u001b[0m                       \u001b[39m#removed these columns because they are not useful\u001b[39;00m\n\u001b[0;32m     <a href='vscode-notebook-cell:/c%3A/Users/clayton.thompson/OneDrive%20-%20Driveline%20Baseball/Documents/GitHub/stuff-baby/clayton/xwhiff.ipynb#X46sZmlsZQ%3D%3D?line=17'>18</a>\u001b[0m                       ], axis\u001b[39m=\u001b[39m\u001b[39m1\u001b[39m)\u001b[39m.\u001b[39mcopy()\n",
      "\u001b[1;31mNameError\u001b[0m: name 'offspeed_data' is not defined"
     ]
    }
   ],
   "source": [
    "off = offspeed_data.drop(['description', 'events', 'game_pk', 'game_date', 'des', 'pitch_type_dict',\n",
    "                     'spin_rate_deprecated', 'break_angle_deprecated', 'break_length_deprecated', 'game_type', 'home_team',\n",
    "                     'away_team', 'type', 'bb_type', 'inning_topbot', 'hc_x', 'hc_y', 'tfs_deprecated', 'tfs_zulu_deprecated',\n",
    "                     'hit_distance_sc', 'launch_speed', 'launch_angle', 'estimated_ba_using_speedangle', 'estimated_woba_using_speedangle',\n",
    "                     'woba_value', 'woba_denom', 'babip_value', 'iso_value', 'launch_speed_angle', 'pitch_name', 'home_score', 'away_score',\n",
    "                     'bat_score', 'fld_score', 'post_away_score', 'post_home_score', 'post_bat_score', 'post_fld_score',\n",
    "                      'if_fielding_alignment', 'of_fielding_alignment', 'delta_home_win_exp', 'delta_run_exp',\n",
    "                      'player_name', 'hit_location', 'umpire', 'sv_id', 'spin_dir', \n",
    "                      'pitch_type', 'fielder_2.1', 'pitcher.1', 'fielder_3', 'fielder_4', 'fielder_5', 'fielder_6', 'fielder_7', 'fielder_8', \n",
    "                      'fielder_9', 'batter', 'pitcher', 'on_3b', 'on_2b', 'on_1b', 'game_year', 'outs_when_up', 'pitch_number',  \n",
    "                      'at_bat_number', 'inning', 'fielder_2', 'sz_top', 'sz_bot',\n",
    "                      #removed these columns because of collinearity\n",
    "                      'release_pos_z',  'effective_speed', 'release_pos_y', 'vy0', 'vx0', 'ax', 'release_extension', 'spin_axis', 'release_spin_rate',\n",
    "                      'pfx_z', 'ay', 'p_throws', 'az', 'avg_velo', 'avg_hmov', 'avg_vmov', 'pfx_x', 'Unnamed: 0', 'release_pos_x', 'balls', \n",
    "                        'total_movement', 'vmov_diff', 'hmov_diff', 'velo_diff', 'vz0', 'release_speed'\n",
    "                      #'release_spin_rate', 'p_throws', 'spin_axis', 'zone',\n",
    "                      #removed these columns because they are not useful\n",
    "                      ], axis=1).copy()"
   ]
  },
  {
   "cell_type": "code",
   "execution_count": null,
   "metadata": {},
   "outputs": [],
   "source": [
    "x2 = off.drop(['is_strike'], axis=1).copy()\n",
    "y2 = off['is_strike'].copy()"
   ]
  },
  {
   "cell_type": "code",
   "execution_count": null,
   "metadata": {},
   "outputs": [
    {
     "data": {
      "text/plain": [
       "152322"
      ]
     },
     "execution_count": 32,
     "metadata": {},
     "output_type": "execute_result"
    }
   ],
   "source": [
    "\n",
    "len(x2)"
   ]
  },
  {
   "cell_type": "code",
   "execution_count": null,
   "metadata": {},
   "outputs": [],
   "source": [
    "x_train1, x_test1, y_train1, y_test1 = train_test_split(x2, y2, test_size=0.2, random_state=42) # split data"
   ]
  },
  {
   "cell_type": "code",
   "execution_count": null,
   "metadata": {},
   "outputs": [],
   "source": [
    "dtrain1 = xgb.DMatrix(x_train1, label=y_train1)\n",
    "dtest1 = xgb.DMatrix(x_test1, label=y_test1)\n",
    "\n",
    "params1 = {\n",
    "    'max_depth': 6,\n",
    "    'eta': 0.3,\n",
    "    'objective': 'binary:logistic',\n",
    "    'eval_metric': 'logloss',\n",
    "    'subsample': 0.9,\n",
    "    'colsample_bytree': 1\n",
    "}\n",
    "\n",
    "# Initial Model\n",
    "model2 = xgb.train(params1, dtrain1)"
   ]
  },
  {
   "cell_type": "code",
   "execution_count": null,
   "metadata": {},
   "outputs": [
    {
     "name": "stdout",
     "output_type": "stream",
     "text": [
      "Unique labels in y_test1: [0 1]\n",
      "Unique labels in y_train1: [0 1]\n"
     ]
    }
   ],
   "source": [
    "print(f\"Unique labels in y_test1: {np.unique(y_test1)}\")\n",
    "print(f\"Unique labels in y_train1: {np.unique(y_train1)}\")\n"
   ]
  },
  {
   "cell_type": "code",
   "execution_count": null,
   "metadata": {},
   "outputs": [
    {
     "name": "stdout",
     "output_type": "stream",
     "text": [
      "Accuracy: 0.9336287543082226\n",
      "Log Loss: 0.1557187611740709\n"
     ]
    }
   ],
   "source": [
    "# Generate predictions\n",
    "y_pred1 = model2.predict(dtest1)\n",
    "y_pred_binary1 = [1 if p >= 0.5 else 0 for p in y_pred1]\n",
    "\n",
    "# Calculate Accuracy\n",
    "accuracy = accuracy_score(y_test1, y_pred_binary1)\n",
    "print(f\"Accuracy: {accuracy}\")\n",
    "\n",
    "# Calculate Log Loss\n",
    "logloss = log_loss(y_test1, y_pred1)\n",
    "print(f\"Log Loss: {logloss}\")"
   ]
  },
  {
   "cell_type": "code",
   "execution_count": null,
   "metadata": {},
   "outputs": [],
   "source": [
    "#Use an objective function to find the best parameters\n",
    "def objectives(trial):\n",
    "    dtrain1 = xgb.DMatrix(x_train1, label=y_train1)\n",
    "    dtest1 = xgb.DMatrix(x_test1, label=y_test1)\n",
    "    \n",
    "    param1 = {\n",
    "        'max_depth': trial.suggest_int('max_depth', 3, 9),\n",
    "        'eta': trial.suggest_float('eta', 0.01, 0.3),\n",
    "        'objective': 'binary:logistic',\n",
    "        'eval_metric': 'logloss',\n",
    "        'subsample': trial.suggest_float('subsample', 0.6, 0.9),\n",
    "        'colsample_bytree': trial.suggest_float('colsample_bytree', 0.5, 1),\n",
    "    }\n",
    "\n",
    "    model2 = xgb.train(param1, dtrain1)\n",
    "    y_pred1= model2.predict(dtest1)\n",
    "    y_pred_binary1 = [1 if p >= 0.5 else 0 for p in y_pred1]\n",
    "    accuracy = accuracy_score(y_test1, y_pred_binary1)\n",
    "    return accuracy"
   ]
  },
  {
   "cell_type": "code",
   "execution_count": null,
   "metadata": {},
   "outputs": [
    {
     "name": "stderr",
     "output_type": "stream",
     "text": [
      "[I 2023-10-28 15:09:36,123] A new study created in memory with name: no-name-d34c4ef7-2ce4-4779-a65c-e2be8cfab39c\n",
      "[I 2023-10-28 15:09:36,414] Trial 0 finished with value: 0.9337928770720499 and parameters: {'max_depth': 5, 'eta': 0.24345509256003714, 'subsample': 0.6802305315736025, 'colsample_bytree': 0.9044944080938069}. Best is trial 0 with value: 0.9337928770720499.\n",
      "[I 2023-10-28 15:09:36,685] Trial 1 finished with value: 0.9235844411619891 and parameters: {'max_depth': 6, 'eta': 0.04993409492472433, 'subsample': 0.7491510300973008, 'colsample_bytree': 0.7023858021577918}. Best is trial 0 with value: 0.9337928770720499.\n",
      "[I 2023-10-28 15:09:36,984] Trial 2 finished with value: 0.9369440341375349 and parameters: {'max_depth': 9, 'eta': 0.17788292482168488, 'subsample': 0.7205857498903679, 'colsample_bytree': 0.706986723560932}. Best is trial 2 with value: 0.9369440341375349.\n",
      "[I 2023-10-28 15:09:37,230] Trial 3 finished with value: 0.931068439192516 and parameters: {'max_depth': 3, 'eta': 0.19503524981159015, 'subsample': 0.8898183599383993, 'colsample_bytree': 0.5166102802567631}. Best is trial 2 with value: 0.9369440341375349.\n",
      "[I 2023-10-28 15:09:37,493] Trial 4 finished with value: 0.933169210569506 and parameters: {'max_depth': 5, 'eta': 0.134066240163009, 'subsample': 0.7858663886614657, 'colsample_bytree': 0.9401150341676672}. Best is trial 2 with value: 0.9369440341375349.\n",
      "[I 2023-10-28 15:09:37,760] Trial 5 finished with value: 0.9328409650418513 and parameters: {'max_depth': 4, 'eta': 0.08516925784053775, 'subsample': 0.7038723476524482, 'colsample_bytree': 0.5636817444844702}. Best is trial 2 with value: 0.9369440341375349.\n",
      "[I 2023-10-28 15:09:38,022] Trial 6 finished with value: 0.9332676842278024 and parameters: {'max_depth': 5, 'eta': 0.1916328470852358, 'subsample': 0.8363444359577532, 'colsample_bytree': 0.7235821847591928}. Best is trial 2 with value: 0.9369440341375349.\n",
      "[I 2023-10-28 15:09:38,301] Trial 7 finished with value: 0.9334318069916298 and parameters: {'max_depth': 7, 'eta': 0.19570992906047707, 'subsample': 0.8360735909032353, 'colsample_bytree': 0.9867646453164389}. Best is trial 2 with value: 0.9369440341375349.\n",
      "[I 2023-10-28 15:09:38,539] Trial 8 finished with value: 0.9321516494337765 and parameters: {'max_depth': 3, 'eta': 0.1827147293268925, 'subsample': 0.8812724136363579, 'colsample_bytree': 0.7676954547946913}. Best is trial 2 with value: 0.9369440341375349.\n",
      "[I 2023-10-28 15:09:38,814] Trial 9 finished with value: 0.9322501230920729 and parameters: {'max_depth': 5, 'eta': 0.15400248118129398, 'subsample': 0.8505153602310169, 'colsample_bytree': 0.5462680507880561}. Best is trial 2 with value: 0.9369440341375349.\n",
      "[I 2023-10-28 15:09:39,146] Trial 10 finished with value: 0.9401936648613163 and parameters: {'max_depth': 9, 'eta': 0.2834532972507477, 'subsample': 0.6084973306631624, 'colsample_bytree': 0.8219691881148916}. Best is trial 10 with value: 0.9401936648613163.\n",
      "[I 2023-10-28 15:09:39,505] Trial 11 finished with value: 0.9401280157557853 and parameters: {'max_depth': 9, 'eta': 0.28965347150394666, 'subsample': 0.6268545023996112, 'colsample_bytree': 0.8258505838218297}. Best is trial 10 with value: 0.9401936648613163.\n",
      "[I 2023-10-28 15:09:39,864] Trial 12 finished with value: 0.9404234367306745 and parameters: {'max_depth': 9, 'eta': 0.2958038044154145, 'subsample': 0.6473881546756972, 'colsample_bytree': 0.8407279400700889}. Best is trial 12 with value: 0.9404234367306745.\n",
      "[I 2023-10-28 15:09:40,180] Trial 13 finished with value: 0.9404234367306745 and parameters: {'max_depth': 8, 'eta': 0.29970838927609805, 'subsample': 0.6027638406564709, 'colsample_bytree': 0.8654869683317993}. Best is trial 12 with value: 0.9404234367306745.\n",
      "[I 2023-10-28 15:09:40,511] Trial 14 finished with value: 0.9399967175447235 and parameters: {'max_depth': 8, 'eta': 0.29888594086495385, 'subsample': 0.6483304544164117, 'colsample_bytree': 0.8826815291174918}. Best is trial 12 with value: 0.9404234367306745.\n",
      "[I 2023-10-28 15:09:40,855] Trial 15 finished with value: 0.9397997702281307 and parameters: {'max_depth': 8, 'eta': 0.24636597902536467, 'subsample': 0.6566109943941827, 'colsample_bytree': 0.9984542227042985}. Best is trial 12 with value: 0.9404234367306745.\n",
      "[I 2023-10-28 15:09:41,172] Trial 16 finished with value: 0.9375677006400788 and parameters: {'max_depth': 7, 'eta': 0.25186634842978595, 'subsample': 0.603673607064104, 'colsample_bytree': 0.8529091096932988}. Best is trial 12 with value: 0.9404234367306745.\n",
      "[I 2023-10-28 15:09:41,493] Trial 17 finished with value: 0.9392745773838831 and parameters: {'max_depth': 8, 'eta': 0.26535061966747747, 'subsample': 0.6451002221761788, 'colsample_bytree': 0.9279034222855165}. Best is trial 12 with value: 0.9404234367306745.\n",
      "[I 2023-10-28 15:09:41,833] Trial 18 finished with value: 0.9350073855243722 and parameters: {'max_depth': 7, 'eta': 0.22115755604465642, 'subsample': 0.6026280964102225, 'colsample_bytree': 0.7744252891289714}. Best is trial 12 with value: 0.9404234367306745.\n",
      "[I 2023-10-28 15:09:42,156] Trial 19 finished with value: 0.9398325947808961 and parameters: {'max_depth': 8, 'eta': 0.2747004620600051, 'subsample': 0.6789353895275547, 'colsample_bytree': 0.8732729927745231}. Best is trial 12 with value: 0.9404234367306745.\n",
      "[I 2023-10-28 15:09:42,479] Trial 20 finished with value: 0.938847858197932 and parameters: {'max_depth': 9, 'eta': 0.230203687920078, 'subsample': 0.6333777072898616, 'colsample_bytree': 0.8206668895851513}. Best is trial 12 with value: 0.9404234367306745.\n",
      "[I 2023-10-28 15:09:42,834] Trial 21 finished with value: 0.9407516822583293 and parameters: {'max_depth': 9, 'eta': 0.2988612362477605, 'subsample': 0.6065630653478327, 'colsample_bytree': 0.811109893834648}. Best is trial 21 with value: 0.9407516822583293.\n",
      "[I 2023-10-28 15:09:43,166] Trial 22 finished with value: 0.9405219103889709 and parameters: {'max_depth': 9, 'eta': 0.298651448037457, 'subsample': 0.6272254863318998, 'colsample_bytree': 0.8126926606793129}. Best is trial 21 with value: 0.9407516822583293.\n",
      "[I 2023-10-28 15:09:43,484] Trial 23 finished with value: 0.9396356474643033 and parameters: {'max_depth': 9, 'eta': 0.2674746233323184, 'subsample': 0.6667963504568675, 'colsample_bytree': 0.7866786251708936}. Best is trial 21 with value: 0.9407516822583293.\n",
      "[I 2023-10-28 15:09:43,816] Trial 24 finished with value: 0.9389791564089939 and parameters: {'max_depth': 9, 'eta': 0.26672127178973726, 'subsample': 0.6304920617912344, 'colsample_bytree': 0.7396239781947522}. Best is trial 21 with value: 0.9407516822583293.\n",
      "[I 2023-10-28 15:09:44,127] Trial 25 finished with value: 0.9391104546200558 and parameters: {'max_depth': 7, 'eta': 0.2972011584072317, 'subsample': 0.6255938649324355, 'colsample_bytree': 0.7934427149260512}. Best is trial 21 with value: 0.9407516822583293.\n",
      "[I 2023-10-28 15:09:44,459] Trial 26 finished with value: 0.9340226489414082 and parameters: {'max_depth': 8, 'eta': 0.2211678080797247, 'subsample': 0.6636732226078292, 'colsample_bytree': 0.6644043304216637}. Best is trial 21 with value: 0.9407516822583293.\n",
      "[I 2023-10-28 15:09:44,782] Trial 27 finished with value: 0.9338585261775808 and parameters: {'max_depth': 6, 'eta': 0.2772000789329521, 'subsample': 0.6996942530903639, 'colsample_bytree': 0.8267422454173543}. Best is trial 21 with value: 0.9407516822583293.\n",
      "[I 2023-10-28 15:09:45,158] Trial 28 finished with value: 0.9393730510421795 and parameters: {'max_depth': 9, 'eta': 0.25895260896494915, 'subsample': 0.6507325757570508, 'colsample_bytree': 0.7537386633565889}. Best is trial 21 with value: 0.9407516822583293.\n",
      "[I 2023-10-28 15:09:45,457] Trial 29 finished with value: 0.9334974560971607 and parameters: {'max_depth': 6, 'eta': 0.23616065270964087, 'subsample': 0.6809848547146737, 'colsample_bytree': 0.9168943355711157}. Best is trial 21 with value: 0.9407516822583293.\n",
      "[I 2023-10-28 15:09:45,789] Trial 30 finished with value: 0.9398325947808961 and parameters: {'max_depth': 8, 'eta': 0.2475265550420134, 'subsample': 0.6161353340255358, 'colsample_bytree': 0.8982098736195678}. Best is trial 21 with value: 0.9407516822583293.\n",
      "[I 2023-10-28 15:09:46,123] Trial 31 finished with value: 0.9405219103889709 and parameters: {'max_depth': 9, 'eta': 0.2819564565320074, 'subsample': 0.6042880999880389, 'colsample_bytree': 0.8521747292004399}. Best is trial 21 with value: 0.9407516822583293.\n",
      "[I 2023-10-28 15:09:46,459] Trial 32 finished with value: 0.9402264894140817 and parameters: {'max_depth': 9, 'eta': 0.284187899646271, 'subsample': 0.6345976777724829, 'colsample_bytree': 0.8550845803424938}. Best is trial 21 with value: 0.9407516822583293.\n",
      "[I 2023-10-28 15:09:46,801] Trial 33 finished with value: 0.9400623666502544 and parameters: {'max_depth': 9, 'eta': 0.2803346998049508, 'subsample': 0.6154728330211311, 'colsample_bytree': 0.8011349093329577}. Best is trial 21 with value: 0.9407516822583293.\n",
      "[I 2023-10-28 15:09:47,139] Trial 34 finished with value: 0.9410799277859839 and parameters: {'max_depth': 9, 'eta': 0.2991083612747298, 'subsample': 0.6000652790067724, 'colsample_bytree': 0.8508417277820479}. Best is trial 34 with value: 0.9410799277859839.\n",
      "[I 2023-10-28 15:09:47,456] Trial 35 finished with value: 0.9400623666502544 and parameters: {'max_depth': 8, 'eta': 0.2596039086053928, 'subsample': 0.6018017642582054, 'colsample_bytree': 0.8978406539325214}. Best is trial 34 with value: 0.9410799277859839.\n",
      "[I 2023-10-28 15:09:47,804] Trial 36 finished with value: 0.9400295420974889 and parameters: {'max_depth': 9, 'eta': 0.27745257674991586, 'subsample': 0.6218841677097553, 'colsample_bytree': 0.869116468378213}. Best is trial 34 with value: 0.9410799277859839.\n",
      "[I 2023-10-28 15:09:48,102] Trial 37 finished with value: 0.9386180863285738 and parameters: {'max_depth': 7, 'eta': 0.29956465853582626, 'subsample': 0.6364924762160797, 'colsample_bytree': 0.8114441132350115}. Best is trial 34 with value: 0.9410799277859839.\n",
      "[I 2023-10-28 15:09:48,397] Trial 38 finished with value: 0.9333005087805679 and parameters: {'max_depth': 4, 'eta': 0.2446476848485752, 'subsample': 0.7398683608129473, 'colsample_bytree': 0.9572173231638643}. Best is trial 34 with value: 0.9410799277859839.\n",
      "[I 2023-10-28 15:09:48,726] Trial 39 finished with value: 0.9397669456753652 and parameters: {'max_depth': 8, 'eta': 0.2688364901040188, 'subsample': 0.6203172202127277, 'colsample_bytree': 0.8937615226789098}. Best is trial 34 with value: 0.9410799277859839.\n",
      "[I 2023-10-28 15:09:49,064] Trial 40 finished with value: 0.9396684720170687 and parameters: {'max_depth': 9, 'eta': 0.215714381193451, 'subsample': 0.6006136979947394, 'colsample_bytree': 0.843629146431419}. Best is trial 34 with value: 0.9410799277859839.\n",
      "[I 2023-10-28 15:09:49,396] Trial 41 finished with value: 0.9396356474643033 and parameters: {'max_depth': 9, 'eta': 0.2871820573862631, 'subsample': 0.641107061691111, 'colsample_bytree': 0.8391130279178428}. Best is trial 34 with value: 0.9410799277859839.\n",
      "[I 2023-10-28 15:09:49,732] Trial 42 finished with value: 0.9406860331527983 and parameters: {'max_depth': 9, 'eta': 0.2866738021301211, 'subsample': 0.6198244991808345, 'colsample_bytree': 0.794322859874976}. Best is trial 34 with value: 0.9410799277859839.\n",
      "[I 2023-10-28 15:09:50,063] Trial 43 finished with value: 0.9401280157557853 and parameters: {'max_depth': 9, 'eta': 0.25698855225336564, 'subsample': 0.6171383982987068, 'colsample_bytree': 0.8031223724949614}. Best is trial 34 with value: 0.9410799277859839.\n",
      "[I 2023-10-28 15:09:50,378] Trial 44 finished with value: 0.9393402264894141 and parameters: {'max_depth': 8, 'eta': 0.2832314957042429, 'subsample': 0.619489057054238, 'colsample_bytree': 0.7691213869973047}. Best is trial 34 with value: 0.9410799277859839.\n",
      "[I 2023-10-28 15:09:50,709] Trial 45 finished with value: 0.9404562612834401 and parameters: {'max_depth': 9, 'eta': 0.2849086252399799, 'subsample': 0.6341086599287582, 'colsample_bytree': 0.7876426106140618}. Best is trial 34 with value: 0.9410799277859839.\n",
      "[I 2023-10-28 15:09:51,036] Trial 46 finished with value: 0.9398654193336616 and parameters: {'max_depth': 9, 'eta': 0.2700112851398864, 'subsample': 0.612441443322469, 'colsample_bytree': 0.7210423928083773}. Best is trial 34 with value: 0.9410799277859839.\n",
      "[I 2023-10-28 15:09:51,351] Trial 47 finished with value: 0.9396356474643033 and parameters: {'max_depth': 8, 'eta': 0.2900941083642275, 'subsample': 0.6616231175360628, 'colsample_bytree': 0.8607506821469473}. Best is trial 34 with value: 0.9410799277859839.\n",
      "[I 2023-10-28 15:09:51,630] Trial 48 finished with value: 0.9329066141473823 and parameters: {'max_depth': 4, 'eta': 0.2991823597324017, 'subsample': 0.646927974731238, 'colsample_bytree': 0.8172983789908361}. Best is trial 34 with value: 0.9410799277859839.\n",
      "[I 2023-10-28 15:09:51,976] Trial 49 finished with value: 0.9400295420974889 and parameters: {'max_depth': 9, 'eta': 0.23934252155460745, 'subsample': 0.6115740302461908, 'colsample_bytree': 0.881276465140386}. Best is trial 34 with value: 0.9410799277859839.\n",
      "[I 2023-10-28 15:09:52,300] Trial 50 finished with value: 0.9396028229115378 and parameters: {'max_depth': 8, 'eta': 0.2541118445584257, 'subsample': 0.6007113908324003, 'colsample_bytree': 0.8373923623359392}. Best is trial 34 with value: 0.9410799277859839.\n",
      "[I 2023-10-28 15:09:52,631] Trial 51 finished with value: 0.9403906121779091 and parameters: {'max_depth': 9, 'eta': 0.2895184213980525, 'subsample': 0.6303664010901355, 'colsample_bytree': 0.7921299932919754}. Best is trial 34 with value: 0.9410799277859839.\n",
      "[I 2023-10-28 15:09:52,972] Trial 52 finished with value: 0.9398654193336616 and parameters: {'max_depth': 9, 'eta': 0.27717272765020673, 'subsample': 0.638104206808397, 'colsample_bytree': 0.7806274689308854}. Best is trial 34 with value: 0.9410799277859839.\n",
      "[I 2023-10-28 15:09:53,301] Trial 53 finished with value: 0.9399310684391925 and parameters: {'max_depth': 9, 'eta': 0.28778211316314845, 'subsample': 0.6232321447434804, 'colsample_bytree': 0.7547865827188458}. Best is trial 34 with value: 0.9410799277859839.\n",
      "[I 2023-10-28 15:09:53,646] Trial 54 finished with value: 0.9401608403085508 and parameters: {'max_depth': 9, 'eta': 0.2716350086008115, 'subsample': 0.6133662122158762, 'colsample_bytree': 0.8046838098775433}. Best is trial 34 with value: 0.9410799277859839.\n",
      "[I 2023-10-28 15:09:53,972] Trial 55 finished with value: 0.9396028229115378 and parameters: {'max_depth': 8, 'eta': 0.25974907904123656, 'subsample': 0.6562299890373756, 'colsample_bytree': 0.8519929195895908}. Best is trial 34 with value: 0.9410799277859839.\n",
      "[I 2023-10-28 15:09:54,296] Trial 56 finished with value: 0.9400951912030199 and parameters: {'max_depth': 9, 'eta': 0.292356192112002, 'subsample': 0.6314376095410049, 'colsample_bytree': 0.7794692276517283}. Best is trial 34 with value: 0.9410799277859839.\n",
      "[I 2023-10-28 15:09:54,574] Trial 57 finished with value: 0.9324798949614311 and parameters: {'max_depth': 3, 'eta': 0.279919967724186, 'subsample': 0.6422882630916615, 'colsample_bytree': 0.8331630394043957}. Best is trial 34 with value: 0.9410799277859839.\n",
      "[I 2023-10-28 15:09:54,910] Trial 58 finished with value: 0.9408501559166257 and parameters: {'max_depth': 9, 'eta': 0.2995045572909627, 'subsample': 0.6112389762633064, 'colsample_bytree': 0.814047645359669}. Best is trial 34 with value: 0.9410799277859839.\n",
      "[I 2023-10-28 15:09:55,221] Trial 59 finished with value: 0.9399310684391925 and parameters: {'max_depth': 8, 'eta': 0.2979363245909621, 'subsample': 0.6101430473131415, 'colsample_bytree': 0.8168897470921249}. Best is trial 34 with value: 0.9410799277859839.\n",
      "[I 2023-10-28 15:09:55,532] Trial 60 finished with value: 0.9395699983587723 and parameters: {'max_depth': 8, 'eta': 0.26439772179299037, 'subsample': 0.6241815457330115, 'colsample_bytree': 0.8548336749128828}. Best is trial 34 with value: 0.9410799277859839.\n",
      "[I 2023-10-28 15:09:55,883] Trial 61 finished with value: 0.9403577876251437 and parameters: {'max_depth': 9, 'eta': 0.28842435730054705, 'subsample': 0.6092765132869025, 'colsample_bytree': 0.8261054267515155}. Best is trial 34 with value: 0.9410799277859839.\n",
      "[I 2023-10-28 15:09:56,206] Trial 62 finished with value: 0.9397669456753652 and parameters: {'max_depth': 9, 'eta': 0.27388311108668223, 'subsample': 0.6292813764218658, 'colsample_bytree': 0.7938148156821689}. Best is trial 34 with value: 0.9410799277859839.\n",
      "[I 2023-10-28 15:09:56,542] Trial 63 finished with value: 0.9401608403085508 and parameters: {'max_depth': 9, 'eta': 0.28953581149000446, 'subsample': 0.6505918869254655, 'colsample_bytree': 0.7644216038811219}. Best is trial 34 with value: 0.9410799277859839.\n",
      "[I 2023-10-28 15:09:56,946] Trial 64 finished with value: 0.9391104546200558 and parameters: {'max_depth': 9, 'eta': 0.2507330988884246, 'subsample': 0.6078360406212602, 'colsample_bytree': 0.8790425270422089}. Best is trial 34 with value: 0.9410799277859839.\n",
      "[I 2023-10-28 15:09:57,280] Trial 65 finished with value: 0.939963892991958 and parameters: {'max_depth': 9, 'eta': 0.2991816604833798, 'subsample': 0.6408509580217794, 'colsample_bytree': 0.8113592841179368}. Best is trial 34 with value: 0.9410799277859839.\n",
      "[I 2023-10-28 15:09:57,616] Trial 66 finished with value: 0.9401936648613163 and parameters: {'max_depth': 9, 'eta': 0.28085387791251504, 'subsample': 0.60209259401348, 'colsample_bytree': 0.7827607437214152}. Best is trial 34 with value: 0.9410799277859839.\n",
      "[I 2023-10-28 15:09:57,947] Trial 67 finished with value: 0.9397012965698343 and parameters: {'max_depth': 8, 'eta': 0.27024226868624235, 'subsample': 0.6191064337925835, 'colsample_bytree': 0.7426006602252864}. Best is trial 34 with value: 0.9410799277859839.\n",
      "[I 2023-10-28 15:09:58,272] Trial 68 finished with value: 0.9396356474643033 and parameters: {'max_depth': 9, 'eta': 0.2625257305389321, 'subsample': 0.6300365692926947, 'colsample_bytree': 0.8316860171273182}. Best is trial 34 with value: 0.9410799277859839.\n",
      "[I 2023-10-28 15:09:58,614] Trial 69 finished with value: 0.9402593139668473 and parameters: {'max_depth': 9, 'eta': 0.28205736715320623, 'subsample': 0.6538951304514374, 'colsample_bytree': 0.8651642498360949}. Best is trial 34 with value: 0.9410799277859839.\n",
      "[I 2023-10-28 15:09:58,928] Trial 70 finished with value: 0.9395043492532414 and parameters: {'max_depth': 7, 'eta': 0.29192339356338237, 'subsample': 0.6666545839505372, 'colsample_bytree': 0.8474459384374302}. Best is trial 34 with value: 0.9410799277859839.\n",
      "[I 2023-10-28 15:09:59,256] Trial 71 finished with value: 0.9405875594945019 and parameters: {'max_depth': 9, 'eta': 0.2989088511635364, 'subsample': 0.6000190477784957, 'colsample_bytree': 0.8029003797144962}. Best is trial 34 with value: 0.9410799277859839.\n",
      "[I 2023-10-28 15:09:59,586] Trial 72 finished with value: 0.9406860331527983 and parameters: {'max_depth': 9, 'eta': 0.291354898507272, 'subsample': 0.6080583590052513, 'colsample_bytree': 0.8000090355580691}. Best is trial 34 with value: 0.9410799277859839.\n",
      "[I 2023-10-28 15:09:59,926] Trial 73 finished with value: 0.9407516822583293 and parameters: {'max_depth': 9, 'eta': 0.29978113973865994, 'subsample': 0.6086800842143758, 'colsample_bytree': 0.8104063582466436}. Best is trial 34 with value: 0.9410799277859839.\n",
      "[I 2023-10-28 15:10:00,260] Trial 74 finished with value: 0.9409486295749221 and parameters: {'max_depth': 9, 'eta': 0.29948971365806937, 'subsample': 0.6127202896036293, 'colsample_bytree': 0.8071616728043661}. Best is trial 34 with value: 0.9410799277859839.\n",
      "[I 2023-10-28 15:10:00,598] Trial 75 finished with value: 0.9405219103889709 and parameters: {'max_depth': 9, 'eta': 0.2996136265117852, 'subsample': 0.6097203281034224, 'colsample_bytree': 0.7983072463413691}. Best is trial 34 with value: 0.9410799277859839.\n",
      "[I 2023-10-28 15:10:00,946] Trial 76 finished with value: 0.9398325947808961 and parameters: {'max_depth': 9, 'eta': 0.2749096858026507, 'subsample': 0.615372350353176, 'colsample_bytree': 0.7708114624213398}. Best is trial 34 with value: 0.9410799277859839.\n",
      "[I 2023-10-28 15:10:01,268] Trial 77 finished with value: 0.9395699983587723 and parameters: {'max_depth': 8, 'eta': 0.2936977267993589, 'subsample': 0.600507172747414, 'colsample_bytree': 0.8196024801059797}. Best is trial 34 with value: 0.9410799277859839.\n",
      "[I 2023-10-28 15:10:01,601] Trial 78 finished with value: 0.9406860331527983 and parameters: {'max_depth': 9, 'eta': 0.2916213864680754, 'subsample': 0.6252006374072964, 'colsample_bytree': 0.8019606570749515}. Best is trial 34 with value: 0.9410799277859839.\n",
      "[I 2023-10-28 15:10:01,912] Trial 79 finished with value: 0.933661578860988 and parameters: {'max_depth': 5, 'eta': 0.2658686165819294, 'subsample': 0.6195636646490377, 'colsample_bytree': 0.7586461061076344}. Best is trial 34 with value: 0.9410799277859839.\n",
      "[I 2023-10-28 15:10:02,226] Trial 80 finished with value: 0.9398325947808961 and parameters: {'max_depth': 8, 'eta': 0.27624181060373554, 'subsample': 0.6251397157662024, 'colsample_bytree': 0.8292286912226622}. Best is trial 34 with value: 0.9410799277859839.\n",
      "[I 2023-10-28 15:10:02,550] Trial 81 finished with value: 0.9408501559166257 and parameters: {'max_depth': 9, 'eta': 0.2922809408939276, 'subsample': 0.6098483099540747, 'colsample_bytree': 0.8075673230884856}. Best is trial 34 with value: 0.9410799277859839.\n",
      "[I 2023-10-28 15:10:02,897] Trial 82 finished with value: 0.9411784014442803 and parameters: {'max_depth': 9, 'eta': 0.29086504518827216, 'subsample': 0.609950626814756, 'colsample_bytree': 0.8105463899683927}. Best is trial 82 with value: 0.9411784014442803.\n",
      "[I 2023-10-28 15:10:03,229] Trial 83 finished with value: 0.9366486131626457 and parameters: {'max_depth': 6, 'eta': 0.28625354505387524, 'subsample': 0.6104012146526803, 'colsample_bytree': 0.786627551296555}. Best is trial 82 with value: 0.9411784014442803.\n",
      "[I 2023-10-28 15:10:03,601] Trial 84 finished with value: 0.9404234367306745 and parameters: {'max_depth': 9, 'eta': 0.28287016575228136, 'subsample': 0.6083127998387418, 'colsample_bytree': 0.8393657755805473}. Best is trial 82 with value: 0.9411784014442803.\n",
      "[I 2023-10-28 15:10:03,997] Trial 85 finished with value: 0.9402264894140817 and parameters: {'max_depth': 9, 'eta': 0.2923381626260931, 'subsample': 0.6362771516309926, 'colsample_bytree': 0.815998662754007}. Best is trial 82 with value: 0.9411784014442803.\n",
      "[I 2023-10-28 15:10:04,358] Trial 86 finished with value: 0.9403249630723781 and parameters: {'max_depth': 9, 'eta': 0.27210648339702176, 'subsample': 0.6165696804305114, 'colsample_bytree': 0.7746260930002907}. Best is trial 82 with value: 0.9411784014442803.\n",
      "[I 2023-10-28 15:10:04,734] Trial 87 finished with value: 0.9396356474643033 and parameters: {'max_depth': 9, 'eta': 0.2547232344741937, 'subsample': 0.6172855689479863, 'colsample_bytree': 0.8251965542337106}. Best is trial 82 with value: 0.9411784014442803.\n",
      "[I 2023-10-28 15:10:05,072] Trial 88 finished with value: 0.9392745773838831 and parameters: {'max_depth': 8, 'eta': 0.28403468884205385, 'subsample': 0.643977481324463, 'colsample_bytree': 0.8454080532821947}. Best is trial 82 with value: 0.9411784014442803.\n",
      "[I 2023-10-28 15:10:05,414] Trial 89 finished with value: 0.9404890858362055 and parameters: {'max_depth': 9, 'eta': 0.2928070965398534, 'subsample': 0.6065020093919511, 'colsample_bytree': 0.7909271616045345}. Best is trial 82 with value: 0.9411784014442803.\n",
      "[I 2023-10-28 15:10:05,798] Trial 90 finished with value: 0.9395043492532414 and parameters: {'max_depth': 9, 'eta': 0.26358223726202035, 'subsample': 0.6242980537878631, 'colsample_bytree': 0.8125177805298686}. Best is trial 82 with value: 0.9411784014442803.\n",
      "[I 2023-10-28 15:10:06,142] Trial 91 finished with value: 0.9404562612834401 and parameters: {'max_depth': 9, 'eta': 0.29308680995937053, 'subsample': 0.6290112637137936, 'colsample_bytree': 0.8048157979002044}. Best is trial 82 with value: 0.9411784014442803.\n",
      "[I 2023-10-28 15:10:06,510] Trial 92 finished with value: 0.9398654193336616 and parameters: {'max_depth': 9, 'eta': 0.27697505998667515, 'subsample': 0.6233997044790501, 'colsample_bytree': 0.7960158472648801}. Best is trial 82 with value: 0.9411784014442803.\n",
      "[I 2023-10-28 15:10:06,897] Trial 93 finished with value: 0.9399967175447235 and parameters: {'max_depth': 9, 'eta': 0.29295268750663983, 'subsample': 0.6071848830700295, 'colsample_bytree': 0.7647580207131669}. Best is trial 82 with value: 0.9411784014442803.\n",
      "[I 2023-10-28 15:10:07,257] Trial 94 finished with value: 0.9407845068110947 and parameters: {'max_depth': 9, 'eta': 0.2866373554744623, 'subsample': 0.6137244852248852, 'colsample_bytree': 0.8323406960716054}. Best is trial 82 with value: 0.9411784014442803.\n",
      "[I 2023-10-28 15:10:07,629] Trial 95 finished with value: 0.9408173313638601 and parameters: {'max_depth': 9, 'eta': 0.299851797862541, 'subsample': 0.6143083946172393, 'colsample_bytree': 0.8703844962340951}. Best is trial 82 with value: 0.9411784014442803.\n",
      "[I 2023-10-28 15:10:08,018] Trial 96 finished with value: 0.9401280157557853 and parameters: {'max_depth': 9, 'eta': 0.2998303911496128, 'subsample': 0.6366202903087288, 'colsample_bytree': 0.8607979510257308}. Best is trial 82 with value: 0.9411784014442803.\n",
      "[I 2023-10-28 15:10:08,369] Trial 97 finished with value: 0.9399967175447235 and parameters: {'max_depth': 8, 'eta': 0.28522242933418285, 'subsample': 0.6134956585573044, 'colsample_bytree': 0.8711871105507916}. Best is trial 82 with value: 0.9411784014442803.\n",
      "[I 2023-10-28 15:10:08,730] Trial 98 finished with value: 0.9404562612834401 and parameters: {'max_depth': 9, 'eta': 0.27163015273373003, 'subsample': 0.6170763230595288, 'colsample_bytree': 0.8370471115827651}. Best is trial 82 with value: 0.9411784014442803.\n",
      "[I 2023-10-28 15:10:09,069] Trial 99 finished with value: 0.9388806827506975 and parameters: {'max_depth': 8, 'eta': 0.2797973696223349, 'subsample': 0.605418095189646, 'colsample_bytree': 0.8239568964436554}. Best is trial 82 with value: 0.9411784014442803.\n"
     ]
    }
   ],
   "source": [
    "#create an optuna study and specifcy the the direction of the optimization\n",
    "study = optuna.create_study(direction='maximize')\n",
    "study.optimize(objectives, n_trials=100)"
   ]
  },
  {
   "cell_type": "code",
   "execution_count": null,
   "metadata": {},
   "outputs": [
    {
     "name": "stdout",
     "output_type": "stream",
     "text": [
      "Best trial:\n",
      "Accuracy: 0.9411784014442803\n",
      "Best hyperparameters: {'max_depth': 9, 'eta': 0.29086504518827216, 'subsample': 0.609950626814756, 'colsample_bytree': 0.8105463899683927}\n"
     ]
    }
   ],
   "source": [
    "print('Best trial:')\n",
    "trial = study.best_trial\n",
    "print(f'Accuracy: {trial.value}')\n",
    "print('Best hyperparameters: {}'.format(trial.params))"
   ]
  },
  {
   "cell_type": "code",
   "execution_count": null,
   "metadata": {},
   "outputs": [],
   "source": [
    "# Ensure trial is the best trial from the study\n",
    "best_trial1 = study.best_trial\n",
    "\n",
    "# Set parameters\n",
    "final_parameters1 = {\n",
    "    'max_depth': best_trial.params['max_depth'],\n",
    "    'eta': best_trial.params['eta'],\n",
    "    'objective': 'binary:logistic',\n",
    "    'eval_metric': 'logloss',\n",
    "    'subsample': best_trial.params['subsample'],\n",
    "    'colsample_bytree': best_trial.params['colsample_bytree'],\n",
    "}\n",
    "\n",
    "# Prepare the data\n",
    "dtrain = xgb.DMatrix(x_train1, label=y_train1)\n",
    "# Optionally, prepare a validation set\n",
    "#dval = xgb.DMatrix(x_val, label=y_val)\n",
    "\n",
    "# Train the final model\n",
    "# Optionally, include early stopping\n",
    "# final_model = xgb.train(final_parameters, dtrain, early_stopping_rounds=10, evals=[(dval, 'eval')])\n",
    "final_model1 = xgb.train(final_parameters1, dtrain1)"
   ]
  },
  {
   "cell_type": "code",
   "execution_count": null,
   "metadata": {},
   "outputs": [
    {
     "name": "stdout",
     "output_type": "stream",
     "text": [
      "Accuracy: 0.9393730510421795\n",
      "Log Loss: 0.15511361543363011\n"
     ]
    }
   ],
   "source": [
    "# Generate predictions\n",
    "y_pred1 = final_model1.predict(dtest1)\n",
    "y_pred_binary1 = [1 if p >= 0.5 else 0 for p in y_pred1]\n",
    "\n",
    "# Calculate Accuracy\n",
    "accuracy = accuracy_score(y_test1, y_pred_binary1)\n",
    "print(f\"Accuracy: {accuracy}\")\n",
    "\n",
    "# Calculate Log Loss\n",
    "logloss = log_loss(y_test1, y_pred1)\n",
    "print(f\"Log Loss: {logloss}\")"
   ]
  },
  {
   "cell_type": "code",
   "execution_count": null,
   "metadata": {},
   "outputs": [
    {
     "data": {
      "image/png": "[encoded data removed]",
      "text/plain": [
       "<Figure size 640x480 with 1 Axes>"
      ]
     },
     "metadata": {},
     "output_type": "display_data"
    }
   ],
   "source": [
    "importance1 = final_model1.get_score(importance_type='gain')\n",
    "# Visualizing the feature importances\n",
    "xgb.plot_importance(importance1)\n",
    "plt.show()"
   ]
  },
  {
   "cell_type": "markdown",
   "metadata": {},
   "source": [
    "# Predict 2023 data"
   ]
  },
  {
   "cell_type": "code",
   "execution_count": null,
   "metadata": {},
   "outputs": [],
   "source": [
    "heaters_2023 = df[df['pitch_type_dict'] == 1].copy()\n",
    "offspeed_2023 = df[df['pitch_type_dict'] == 2].copy()"
   ]
  },
  {
   "cell_type": "code",
   "execution_count": null,
   "metadata": {},
   "outputs": [],
   "source": [
    "# Select only the features you used for training the models\n",
    "features = ['zone', 'stand', 'strikes', 'plate_x', 'plate_z',  'likely_strike']  # Replace these with your actual features\n",
    "\n",
    "# Convert DataFrame to DMatrix\n",
    "dmatrix_heaters_2023 = xgb.DMatrix(heaters_2023[features])\n",
    "dmatrix_offspeed_2023 = xgb.DMatrix(offspeed_2023[features])\n",
    "\n",
    "# Make predictions\n",
    "heaters_2023['prediction'] = final_model.predict(dmatrix_heaters_2023)\n",
    "offspeed_2023['prediction'] = final_model1.predict(dmatrix_offspeed_2023)"
   ]
  },
  {
   "cell_type": "code",
   "execution_count": null,
   "metadata": {},
   "outputs": [],
   "source": [
    "complete = pd.concat([heaters_2023, offspeed_2023], axis=0)\n",
    "complete['probability_added'] = 0"
   ]
  },
  {
   "cell_type": "code",
   "execution_count": null,
   "metadata": {},
   "outputs": [],
   "source": [
    "# Correct the conditions and assignment for 'probability_added'\n",
    "condition1 = (complete['likely_strike'] == 0) & (complete['is_strike'] == 1)\n",
    "complete.loc[condition1, 'probability_added'] = 1 - complete.loc[condition1, 'prediction']\n",
    "\n",
    "condition2 = (complete['likely_strike'] == 1) & (complete['is_strike'] == 0)\n",
    "complete.loc[condition2, 'probability_added'] = -0 + complete.loc[condition2, 'prediction']\n"
   ]
  },
  {
   "cell_type": "code",
   "execution_count": null,
   "metadata": {},
   "outputs": [
    {
     "data": {
      "text/plain": [
       "362561"
      ]
     },
     "execution_count": 82,
     "metadata": {},
     "output_type": "execute_result"
    }
   ],
   "source": [
    "len(condition2)"
   ]
  },
  {
   "cell_type": "code",
   "execution_count": null,
   "metadata": {},
   "outputs": [],
   "source": [
    "players = pd.read_csv('players_query.csv')"
   ]
  },
  {
   "cell_type": "code",
   "execution_count": null,
   "metadata": {},
   "outputs": [],
   "source": [
    "completed = complete.merge(players, left_on='fielder_2', right_on='mlb_id', how='left')"
   ]
  },
  {
   "cell_type": "code",
   "execution_count": null,
   "metadata": {},
   "outputs": [],
   "source": [
    "strike_probs = completed.loc[completed['probability_added'] != 0].copy()"
   ]
  },
  {
   "cell_type": "code",
   "execution_count": null,
   "metadata": {},
   "outputs": [
    {
     "data": {
      "text/html": [
       "<div>\n",
       "<style scoped>\n",
       "    .dataframe tbody tr th:only-of-type {\n",
       "        vertical-align: middle;\n",
       "    }\n",
       "\n",
       "    .dataframe tbody tr th {\n",
       "        vertical-align: top;\n",
       "    }\n",
       "\n",
       "    .dataframe thead th {\n",
       "        text-align: right;\n",
       "    }\n",
       "</style>\n",
       "<table border=\"1\" class=\"dataframe\">\n",
       "  <thead>\n",
       "    <tr style=\"text-align: right;\">\n",
       "      <th></th>\n",
       "      <th>half_inning</th>\n",
       "      <th>Unnamed: 1</th>\n",
       "      <th>pitch_type</th>\n",
       "      <th>game_date</th>\n",
       "      <th>release_speed</th>\n",
       "      <th>release_pos_x</th>\n",
       "      <th>release_pos_z</th>\n",
       "      <th>player_name</th>\n",
       "      <th>batter</th>\n",
       "      <th>pitcher</th>\n",
       "      <th>...</th>\n",
       "      <th>deltaRE</th>\n",
       "      <th>is_strike</th>\n",
       "      <th>pitch_type_dict</th>\n",
       "      <th>likely_strike</th>\n",
       "      <th>prediction</th>\n",
       "      <th>probability_added</th>\n",
       "      <th>Unnamed: 0</th>\n",
       "      <th>mlb_id</th>\n",
       "      <th>mlb_name</th>\n",
       "      <th>team_name</th>\n",
       "    </tr>\n",
       "  </thead>\n",
       "  <tbody>\n",
       "    <tr>\n",
       "      <th>1</th>\n",
       "      <td>716352_1_Bot</td>\n",
       "      <td>8</td>\n",
       "      <td>SI</td>\n",
       "      <td>2023-10-01</td>\n",
       "      <td>93.5</td>\n",
       "      <td>-2.60</td>\n",
       "      <td>5.68</td>\n",
       "      <td>King, Michael</td>\n",
       "      <td>677951</td>\n",
       "      <td>650633</td>\n",
       "      <td>...</td>\n",
       "      <td>-0.028510</td>\n",
       "      <td>1</td>\n",
       "      <td>1.0</td>\n",
       "      <td>0</td>\n",
       "      <td>0.781290</td>\n",
       "      <td>0.218710</td>\n",
       "      <td>4412</td>\n",
       "      <td>669224</td>\n",
       "      <td>Austin Wells</td>\n",
       "      <td>yankees</td>\n",
       "    </tr>\n",
       "    <tr>\n",
       "      <th>11</th>\n",
       "      <td>716352_2_Bot</td>\n",
       "      <td>46</td>\n",
       "      <td>FF</td>\n",
       "      <td>2023-10-01</td>\n",
       "      <td>93.5</td>\n",
       "      <td>-2.82</td>\n",
       "      <td>5.71</td>\n",
       "      <td>King, Michael</td>\n",
       "      <td>669004</td>\n",
       "      <td>650633</td>\n",
       "      <td>...</td>\n",
       "      <td>-0.038179</td>\n",
       "      <td>1</td>\n",
       "      <td>1.0</td>\n",
       "      <td>0</td>\n",
       "      <td>0.495411</td>\n",
       "      <td>0.504589</td>\n",
       "      <td>4412</td>\n",
       "      <td>669224</td>\n",
       "      <td>Austin Wells</td>\n",
       "      <td>yankees</td>\n",
       "    </tr>\n",
       "    <tr>\n",
       "      <th>28</th>\n",
       "      <td>716352_4_Bot</td>\n",
       "      <td>111</td>\n",
       "      <td>FF</td>\n",
       "      <td>2023-10-01</td>\n",
       "      <td>92.9</td>\n",
       "      <td>-2.66</td>\n",
       "      <td>5.89</td>\n",
       "      <td>King, Michael</td>\n",
       "      <td>669004</td>\n",
       "      <td>650633</td>\n",
       "      <td>...</td>\n",
       "      <td>-0.038179</td>\n",
       "      <td>1</td>\n",
       "      <td>1.0</td>\n",
       "      <td>0</td>\n",
       "      <td>0.782323</td>\n",
       "      <td>0.217677</td>\n",
       "      <td>4412</td>\n",
       "      <td>669224</td>\n",
       "      <td>Austin Wells</td>\n",
       "      <td>yankees</td>\n",
       "    </tr>\n",
       "    <tr>\n",
       "      <th>37</th>\n",
       "      <td>716352_4_Bot</td>\n",
       "      <td>87</td>\n",
       "      <td>SI</td>\n",
       "      <td>2023-10-01</td>\n",
       "      <td>92.2</td>\n",
       "      <td>-2.76</td>\n",
       "      <td>5.67</td>\n",
       "      <td>King, Michael</td>\n",
       "      <td>672580</td>\n",
       "      <td>650633</td>\n",
       "      <td>...</td>\n",
       "      <td>-0.111258</td>\n",
       "      <td>1</td>\n",
       "      <td>1.0</td>\n",
       "      <td>0</td>\n",
       "      <td>0.813712</td>\n",
       "      <td>0.186288</td>\n",
       "      <td>4412</td>\n",
       "      <td>669224</td>\n",
       "      <td>Austin Wells</td>\n",
       "      <td>yankees</td>\n",
       "    </tr>\n",
       "    <tr>\n",
       "      <th>39</th>\n",
       "      <td>716352_4_Top</td>\n",
       "      <td>115</td>\n",
       "      <td>SI</td>\n",
       "      <td>2023-10-01</td>\n",
       "      <td>90.1</td>\n",
       "      <td>-1.27</td>\n",
       "      <td>6.14</td>\n",
       "      <td>Greinke, Zack</td>\n",
       "      <td>643396</td>\n",
       "      <td>425844</td>\n",
       "      <td>...</td>\n",
       "      <td>-0.043952</td>\n",
       "      <td>1</td>\n",
       "      <td>1.0</td>\n",
       "      <td>0</td>\n",
       "      <td>0.584764</td>\n",
       "      <td>0.415236</td>\n",
       "      <td>1898</td>\n",
       "      <td>521692</td>\n",
       "      <td>Salvador Perez</td>\n",
       "      <td>royals</td>\n",
       "    </tr>\n",
       "  </tbody>\n",
       "</table>\n",
       "<p>5 rows × 113 columns</p>\n",
       "</div>"
      ],
      "text/plain": [
       "     half_inning  Unnamed: 1 pitch_type   game_date  release_speed  \\\n",
       "1   716352_1_Bot           8         SI  2023-10-01           93.5   \n",
       "11  716352_2_Bot          46         FF  2023-10-01           93.5   \n",
       "28  716352_4_Bot         111         FF  2023-10-01           92.9   \n",
       "37  716352_4_Bot          87         SI  2023-10-01           92.2   \n",
       "39  716352_4_Top         115         SI  2023-10-01           90.1   \n",
       "\n",
       "    release_pos_x  release_pos_z    player_name  batter  pitcher  ...  \\\n",
       "1           -2.60           5.68  King, Michael  677951   650633  ...   \n",
       "11          -2.82           5.71  King, Michael  669004   650633  ...   \n",
       "28          -2.66           5.89  King, Michael  669004   650633  ...   \n",
       "37          -2.76           5.67  King, Michael  672580   650633  ...   \n",
       "39          -1.27           6.14  Greinke, Zack  643396   425844  ...   \n",
       "\n",
       "     deltaRE is_strike  pitch_type_dict  likely_strike  prediction  \\\n",
       "1  -0.028510         1              1.0              0    0.781290   \n",
       "11 -0.038179         1              1.0              0    0.495411   \n",
       "28 -0.038179         1              1.0              0    0.782323   \n",
       "37 -0.111258         1              1.0              0    0.813712   \n",
       "39 -0.043952         1              1.0              0    0.584764   \n",
       "\n",
       "    probability_added  Unnamed: 0  mlb_id        mlb_name  team_name  \n",
       "1            0.218710        4412  669224    Austin Wells    yankees  \n",
       "11           0.504589        4412  669224    Austin Wells    yankees  \n",
       "28           0.217677        4412  669224    Austin Wells    yankees  \n",
       "37           0.186288        4412  669224    Austin Wells    yankees  \n",
       "39           0.415236        1898  521692  Salvador Perez     royals  \n",
       "\n",
       "[5 rows x 113 columns]"
      ]
     },
     "execution_count": 87,
     "metadata": {},
     "output_type": "execute_result"
    }
   ],
   "source": [
    "strike_probs.head()"
   ]
  },
  {
   "cell_type": "markdown",
   "metadata": {},
   "source": [
    "### Catcher Evaluation"
   ]
  },
  {
   "cell_type": "code",
   "execution_count": null,
   "metadata": {},
   "outputs": [
    {
     "name": "stdout",
     "output_type": "stream",
     "text": [
      "                       probability_added\n",
      "mlb_name                                \n",
      "Jonah Heim                    369.409200\n",
      "William Contreras             357.175406\n",
      "Francisco Alvarez             343.816237\n",
      "Cal Raleigh                   325.117514\n",
      "Patrick Bailey                322.223661\n",
      "J.T. Realmuto                 306.765881\n",
      "Adley Rutschman               304.310884\n",
      "Keibert Ruiz                  300.757002\n",
      "Elias Diaz                    291.464170\n",
      "Will Smith                    289.637044\n",
      "Shea Langeliers               285.841658\n",
      "Sean Murphy                   285.280986\n",
      "Alejandro Kirk                274.881437\n",
      "Jake Rogers                   270.437452\n",
      "Connor Wong                   263.304882\n",
      "Nick Fortes                   261.444752\n",
      "Austin Hedges                 252.923828\n",
      "Yasmani Grandal               249.119006\n",
      "Christian Vazquez             245.539206\n",
      "Willson Contreras             243.042565\n",
      "Gabriel Moreno                240.534485\n",
      "Kyle Higashioka               236.375578\n",
      "Martin Maldonado              233.634220\n",
      "Yan Gomes                     223.647053\n",
      "Christian Bethancourt         217.200487\n",
      "Victor Caratini               202.981318\n",
      "Salvador Perez                198.880835\n",
      "Gary Sanchez                  187.600539\n",
      "Tyler Stephenson              186.044531\n",
      "Ryan Jeffers                  182.954297\n",
      "Travis dArnaud                182.265208\n",
      "Jason Delay                   177.958703\n",
      "Seby Zavala                   177.389429\n",
      "Jacob Stallings               170.308860\n",
      "Matt Thaiss                   164.830709\n",
      "Andrew Knizner                161.297665\n",
      "Freddy Fermin                 160.841996\n",
      "Danny Jansen                  160.043801\n",
      "Bo Naylor                     159.929756\n",
      "Jose Trevino                  155.548060\n",
      "Cam Gallagher                 152.797911\n",
      "Austin Wynns                  149.684821\n",
      "Eric Haase                    146.311355\n",
      "Austin Barnes                 140.389719\n",
      "Luke Maile                    134.763125\n",
      "James McCann                  129.414991\n",
      "Reese McGuire                 129.035607\n",
      "Endy Rodriguez                122.480326\n",
      "Blake Sabol                   121.175941\n",
      "Omar Narvaez                  120.403829\n",
      "Tucker Barnhart               114.550917\n",
      "Austin Nola                   104.229602\n",
      "Chad Wallach                  103.946192\n",
      "Carlos Perez                  102.157799\n",
      "Logan OHoppe                  102.001450\n",
      "Miguel Amaya                  101.898697\n",
      "Mike Zunino                   101.699116\n",
      "Luis Campusano                100.082916\n",
      "Carson Kelly                   95.463654\n",
      "Yainer Diaz                    93.413568\n",
      "Joey Bart                      91.228416\n",
      "Rene Pinto                     89.012307\n",
      "Jose Herrera                   87.050781\n",
      "Francisco Mejia                82.191940\n",
      "Riley Adams                    81.895124\n",
      "Tom Murphy                     77.114551\n",
      "Garrett Stubbs                 69.429676\n",
      "Curt Casali                    67.987640\n",
      "Mitch Garver                   66.956384\n",
      "Ben Rortvedt                   66.215566\n",
      "Korey Lee                      54.791267\n",
      "Brett Sullivan                 53.625081\n",
      "Tomas Nido                     53.272842\n",
      "Austin Wells                   50.399360\n",
      "Tyler Heineman                 42.402251\n",
      "Tyler Soderstrom               39.040360\n",
      "Brian Serven                   30.986264\n",
      "MJ Melendez                    28.120065\n",
      "Sandy Leon                     27.825253\n",
      "Ivan Herrera                   27.179254\n",
      "Logan Porter                   25.094172\n",
      "David Fry                      24.214699\n",
      "Roberto Perez                  21.858604\n",
      "Drew Millas                    17.325508\n",
      "Jorge Alfaro                   13.550076\n",
      "Anthony Bemboom                13.306042\n",
      "Brian OKeefe                   10.764024\n",
      "Chadwick Tromp                 10.550280\n",
      "Cesar Salazar                  10.218463\n",
      "Tyler Cropley                   7.613024\n",
      "Sam Huff                        6.964744\n",
      "Caleb Hamilton                  6.397906\n",
      "Meibrys Viloria                 4.002420\n",
      "Manny Pina                      2.671888\n",
      "Tres Barrera                    2.661215\n",
      "Zack Collins                    2.114320\n",
      "Luis Torrens                    1.869370\n",
      "Michael Perez                   1.610612\n",
      "Chris Okey                      1.255187\n",
      "Mark Kolozsvary                 0.652883\n",
      "Henry Davis                     0.342988\n"
     ]
    }
   ],
   "source": [
    "# Set the display options to show all rows\n",
    "pd.set_option('display.max_rows', None)\n",
    "\n",
    "result = strike_probs.groupby('mlb_name').agg({'probability_added': 'sum'}).sort_values(by='probability_added', ascending=False)\n",
    "print(result)\n",
    "\n",
    "# Reset the display options to default\n",
    "pd.reset_option('display.max_rows')"
   ]
  },
  {
   "cell_type": "code",
   "execution_count": null,
   "metadata": {},
   "outputs": [],
   "source": [
    "strike_probs['framing_runs'] = (strike_probs['deltaRE'] * -1) * strike_probs['probability_added'].abs()"
   ]
  },
  {
   "cell_type": "markdown",
   "metadata": {},
   "source": [
    "## Initial Situational Framing Runs Leaderboard"
   ]
  },
  {
   "cell_type": "code",
   "execution_count": null,
   "metadata": {},
   "outputs": [
    {
     "name": "stdout",
     "output_type": "stream",
     "text": [
      "                       framing_runs\n",
      "mlb_name                           \n",
      "Jonah Heim                28.298897\n",
      "William Contreras         27.314465\n",
      "Francisco Alvarez         26.280338\n",
      "Cal Raleigh               24.428360\n",
      "J.T. Realmuto             23.217440\n",
      "Will Smith                23.151280\n",
      "Adley Rutschman           22.850475\n",
      "Austin Hedges             22.659703\n",
      "Shea Langeliers           22.651095\n",
      "Elias Diaz                22.566548\n",
      "Patrick Bailey            22.507789\n",
      "Keibert Ruiz              22.178750\n",
      "Alejandro Kirk            21.671238\n",
      "Kyle Higashioka           20.388670\n",
      "Nick Fortes               20.349055\n",
      "Willson Contreras         20.085103\n",
      "Sean Murphy               20.071047\n",
      "Connor Wong               20.061680\n",
      "Jake Rogers               19.988771\n",
      "Christian Vazquez         19.943172\n",
      "Martin Maldonado          19.101232\n",
      "Yasmani Grandal           18.546439\n",
      "Gabriel Moreno            18.169561\n",
      "Yan Gomes                 16.646696\n",
      "Gary Sanchez              15.508716\n",
      "Salvador Perez            15.387348\n",
      "Travis dArnaud            15.272180\n",
      "Victor Caratini           15.215463\n",
      "Christian Bethancourt     14.525039\n",
      "Seby Zavala               14.131556\n",
      "Freddy Fermin             13.893742\n",
      "Tyler Stephenson          13.606106\n",
      "Andrew Knizner            12.908731\n",
      "Jacob Stallings           12.632931\n",
      "Ryan Jeffers              12.337801\n",
      "Jason Delay               11.831066\n",
      "Danny Jansen              11.781061\n",
      "Matt Thaiss               11.750302\n",
      "Austin Wynns              11.633404\n",
      "Jose Trevino              11.124658\n",
      "Bo Naylor                 10.884325\n",
      "Cam Gallagher             10.796378\n",
      "Austin Barnes             10.404742\n",
      "Eric Haase                10.141436\n",
      "James McCann               9.564117\n",
      "Reese McGuire              9.204179\n",
      "Endy Rodriguez             8.896747\n",
      "Omar Narvaez               8.865608\n",
      "Luke Maile                 8.687757\n",
      "Carson Kelly               8.479923\n",
      "Tucker Barnhart            8.451247\n",
      "Blake Sabol                8.409364\n",
      "Logan OHoppe               8.252418\n",
      "Miguel Amaya               7.811900\n",
      "Chad Wallach               7.801230\n",
      "Yainer Diaz                7.340878\n",
      "Carlos Perez               7.279032\n",
      "Austin Nola                7.249566\n",
      "Luis Campusano             6.607672\n",
      "Joey Bart                  6.571412\n",
      "Mike Zunino                6.484864\n",
      "Rene Pinto                 6.318198\n",
      "Riley Adams                6.238204\n",
      "Francisco Mejia            6.217100\n",
      "Mitch Garver               6.211520\n",
      "Jose Herrera               6.008103\n",
      "Ben Rortvedt               5.715617\n",
      "Curt Casali                5.288584\n",
      "Garrett Stubbs             5.207475\n",
      "Austin Wells               4.629760\n",
      "Brett Sullivan             4.272517\n",
      "Tom Murphy                 4.187579\n",
      "Tomas Nido                 3.727809\n",
      "Tyler Soderstrom           2.987901\n",
      "Korey Lee                  2.921188\n",
      "Tyler Heineman             2.903281\n",
      "MJ Melendez                2.562842\n",
      "Roberto Perez              2.443847\n",
      "Sandy Leon                 2.402031\n",
      "Ivan Herrera               2.293427\n",
      "Brian Serven               1.961225\n",
      "Logan Porter               1.594907\n",
      "Drew Millas                1.344400\n",
      "David Fry                  1.245558\n",
      "Chadwick Tromp             1.236150\n",
      "Jorge Alfaro               1.085348\n",
      "Anthony Bemboom            0.986710\n",
      "Brian OKeefe               0.865590\n",
      "Cesar Salazar              0.826772\n",
      "Tyler Cropley              0.781015\n",
      "Sam Huff                   0.428458\n",
      "Mark Kolozsvary            0.408052\n",
      "Caleb Hamilton             0.296978\n",
      "Tres Barrera               0.243519\n",
      "Meibrys Viloria            0.194336\n",
      "Zack Collins               0.155059\n",
      "Manny Pina                 0.100429\n",
      "Luis Torrens               0.098570\n",
      "Michael Perez              0.068307\n",
      "Chris Okey                 0.036454\n",
      "Henry Davis               -0.009263\n"
     ]
    }
   ],
   "source": [
    "# Set the display options to show all rows\n",
    "pd.set_option('display.max_rows', None)\n",
    "\n",
    "result = strike_probs.groupby('mlb_name').agg({'framing_runs': 'sum'}).sort_values(by='framing_runs', ascending=False)\n",
    "print(result)\n",
    "\n",
    "# Reset the display options to default\n",
    "pd.reset_option('display.max_rows')"
   ]
  },
  {
   "cell_type": "code",
   "execution_count": null,
   "metadata": {},
   "outputs": [],
   "source": [
    "strike_probs.drop(['Unnamed: 0', 'Unnamed: 1'], axis=1, inplace=True)"
   ]
  },
  {
   "cell_type": "code",
   "execution_count": null,
   "metadata": {},
   "outputs": [],
   "source": [
    "strike_probs.to_csv('strike_probs.csv')"
   ]
  },
  {
   "cell_type": "markdown",
   "metadata": {},
   "source": [
    "### Get out meaningless strikes that have nothing to do with framing"
   ]
  },
  {
   "cell_type": "code",
   "execution_count": null,
   "metadata": {},
   "outputs": [],
   "source": [
    "likely = strike_probs.query('(prediction < .85)')"
   ]
  },
  {
   "cell_type": "code",
   "execution_count": null,
   "metadata": {},
   "outputs": [
    {
     "name": "stdout",
     "output_type": "stream",
     "text": [
      "                       framing_runs\n",
      "mlb_name                           \n",
      "Jonah Heim                27.265644\n",
      "William Contreras         26.675339\n",
      "Francisco Alvarez         25.509967\n",
      "Cal Raleigh               23.705518\n",
      "Will Smith                22.504385\n",
      "J.T. Realmuto             22.293919\n",
      "Adley Rutschman           22.158913\n",
      "Austin Hedges             22.132027\n",
      "Patrick Bailey            22.033697\n",
      "Shea Langeliers           21.670207\n",
      "Elias Diaz                21.585984\n",
      "Keibert Ruiz              21.388849\n",
      "Alejandro Kirk            20.937702\n",
      "Kyle Higashioka           19.911051\n",
      "Nick Fortes               19.775314\n",
      "Sean Murphy               19.402830\n",
      "Willson Contreras         19.372176\n",
      "Christian Vazquez         19.285147\n",
      "Connor Wong               19.231894\n",
      "Jake Rogers               19.224211\n",
      "Martin Maldonado          18.579309\n",
      "Yasmani Grandal           17.983997\n",
      "Gabriel Moreno            17.519849\n",
      "Yan Gomes                 16.075565\n",
      "Gary Sanchez              14.937981\n",
      "Salvador Perez            14.864532\n",
      "Victor Caratini           14.690599\n",
      "Travis dArnaud            14.657792\n",
      "Christian Bethancourt     13.976851\n",
      "Seby Zavala               13.713562\n",
      "Freddy Fermin             13.404909\n",
      "Tyler Stephenson          13.058131\n",
      "Andrew Knizner            12.405473\n",
      "Jacob Stallings           12.178970\n",
      "Ryan Jeffers              12.018544\n",
      "Jason Delay               11.452447\n",
      "Danny Jansen              11.351429\n",
      "Austin Wynns              11.272865\n",
      "Matt Thaiss               11.094028\n",
      "Jose Trevino              10.714527\n",
      "Bo Naylor                 10.533802\n",
      "Cam Gallagher             10.386371\n",
      "Austin Barnes             10.089033\n",
      "Eric Haase                 9.817936\n",
      "James McCann               9.196352\n",
      "Reese McGuire              8.827905\n",
      "Endy Rodriguez             8.661281\n",
      "Omar Narvaez               8.588735\n",
      "Luke Maile                 8.280975\n",
      "Carson Kelly               8.183073\n",
      "Tucker Barnhart            8.151284\n",
      "Blake Sabol                8.026572\n",
      "Logan OHoppe               7.864169\n",
      "Miguel Amaya               7.507457\n",
      "Chad Wallach               7.346709\n",
      "Austin Nola                7.072423\n",
      "Carlos Perez               7.030188\n",
      "Yainer Diaz                7.011665\n",
      "Luis Campusano             6.452653\n",
      "Joey Bart                  6.207706\n",
      "Mike Zunino                6.201760\n",
      "Riley Adams                6.102148\n",
      "Francisco Mejia            6.101216\n",
      "Mitch Garver               6.075554\n",
      "Rene Pinto                 5.952451\n",
      "Jose Herrera               5.830555\n",
      "Ben Rortvedt               5.592925\n",
      "Curt Casali                5.001053\n",
      "Garrett Stubbs             4.993659\n",
      "Austin Wells               4.572331\n",
      "Brett Sullivan             4.185245\n",
      "Tom Murphy                 4.016519\n",
      "Tomas Nido                 3.543272\n",
      "Tyler Soderstrom           2.867868\n",
      "Tyler Heineman             2.819239\n",
      "Korey Lee                  2.766409\n",
      "MJ Melendez                2.508190\n",
      "Roberto Perez              2.417505\n",
      "Sandy Leon                 2.336881\n",
      "Ivan Herrera               2.188382\n",
      "Brian Serven               1.929014\n",
      "Logan Porter               1.488007\n",
      "Drew Millas                1.289061\n",
      "David Fry                  1.277035\n",
      "Chadwick Tromp             1.191023\n",
      "Jorge Alfaro               1.047466\n",
      "Anthony Bemboom            0.949006\n",
      "Brian OKeefe               0.848204\n",
      "Cesar Salazar              0.796508\n",
      "Tyler Cropley              0.782148\n",
      "Mark Kolozsvary            0.408052\n",
      "Sam Huff                   0.386369\n",
      "Caleb Hamilton             0.284482\n",
      "Tres Barrera               0.231619\n",
      "Meibrys Viloria            0.173842\n",
      "Zack Collins               0.155059\n",
      "Manny Pina                 0.105246\n",
      "Luis Torrens               0.094949\n",
      "Michael Perez              0.049507\n",
      "Chris Okey                 0.025399\n",
      "Henry Davis               -0.009263\n"
     ]
    }
   ],
   "source": [
    "# Set the display options to show all rows\n",
    "pd.set_option('display.max_rows', None)\n",
    "\n",
    "result = likely.groupby('mlb_name').agg({'framing_runs': 'sum'}).sort_values(by='framing_runs', ascending=False)\n",
    "print(result)"
   ]
  },
  {
   "cell_type": "markdown",
   "metadata": {},
   "source": [
    "###  I think that this is the best leaderboard. Filters out the gimme pitches"
   ]
  }
 ],
 "metadata": {
  "kernelspec": {
   "display_name": "Python 3",
   "language": "python",
   "name": "python3"
  },
  "language_info": {
   "codemirror_mode": {
    "name": "ipython",
    "version": 3
   },
   "file_extension": ".py",
   "mimetype": "text/x-python",
   "name": "python",
   "nbconvert_exporter": "python",
   "pygments_lexer": "ipython3",
   "version": "3.11.5"
  },
  "orig_nbformat": 4
 },
 "nbformat": 4,
 "nbformat_minor": 2
}
