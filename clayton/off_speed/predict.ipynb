{
 "cells": [
  {
   "cell_type": "code",
   "execution_count": 1,
   "metadata": {},
   "outputs": [],
   "source": [
    "import pandas as pd\n",
    "from sklearn.model_selection import train_test_split\n",
    "import numpy as np\n",
    "import xgboost as xgb"
   ]
  },
  {
   "cell_type": "code",
   "execution_count": 2,
   "metadata": {},
   "outputs": [],
   "source": [
    "data = pd.read_csv(\"Y:/departments/research_and_development/baseball_operations/clayton_goodiez/csv/off_speed/2021_off_processed.csv\", low_memory=False)\n",
    "data_2022 = pd.read_csv(\"Y:/departments/research_and_development/baseball_operations/clayton_goodiez/csv/off_speed/2022_off_processed.csv\", low_memory=False)\n",
    "data_2023 = pd.read_csv(\"Y:/departments/research_and_development/baseball_operations/clayton_goodiez/csv/off_speed/2023_off_processed.csv\", low_memory=False)"
   ]
  },
  {
   "cell_type": "code",
   "execution_count": 3,
   "metadata": {},
   "outputs": [],
   "source": [
    "testing_data = pd.concat([data_2022, data_2023], axis=0)"
   ]
  },
  {
   "cell_type": "code",
   "execution_count": 4,
   "metadata": {},
   "outputs": [],
   "source": [
    "breaking_ball = data.query('pitch_type_condensed in (\"CH\") & contact == 1')\n",
    "breaking_ball_testing = testing_data.query('pitch_type_condensed in (\"CH\")')"
   ]
  },
  {
   "cell_type": "code",
   "execution_count": 7,
   "metadata": {},
   "outputs": [],
   "source": [
    "# Now, separate features and identifiers\n",
    "training_identifiers = breaking_ball[['pitch_id_raw']].copy()\n",
    "testing_identifiers = breaking_ball_testing[['pitch_id_raw']].copy()\n",
    "training_features = breaking_ball.drop(columns=[\n",
    "    'description', 'events', 'game_pk', 'game_date', 'des', 'zone', 'stand', 'p_throws',\n",
    "    'spin_rate_deprecated', 'break_angle_deprecated', 'break_length_deprecated', \n",
    "    'game_type', 'home_team', 'away_team', 'type', 'bb_type', 'inning_topbot', \n",
    "    'hc_x', 'hc_y', 'tfs_deprecated', 'tfs_zulu_deprecated', 'hit_distance_sc', \n",
    "    'launch_speed', 'launch_angle', 'estimated_ba_using_speedangle', 'strike',\n",
    "    'estimated_woba_using_speedangle', 'woba_value', 'woba_denom', 'babip_value', \n",
    "    'iso_value', 'launch_speed_angle', 'pitch_name', 'home_score', 'away_score', \n",
    "    'bat_score', 'fld_score', 'post_away_score', 'post_home_score', 'post_bat_score', \n",
    "    'post_fld_score', 'if_fielding_alignment', 'of_fielding_alignment', \n",
    "    'delta_home_win_exp', 'delta_run_exp', 'player_name', 'hit_location', 'umpire', \n",
    "    'sv_id', 'spin_dir', 'pitch_type', 'fielder_2.1', 'pitcher.1', 'fielder_3', \n",
    "    'fielder_4', 'fielder_5', 'fielder_6', 'fielder_7', 'fielder_8', 'fielder_9', \n",
    "    'batter', 'pitcher', 'on_3b', 'on_2b', 'on_1b', 'game_year', 'outs_when_up', \n",
    "    'pitch_number', 'at_bat_number', 'inning', 'fielder_2', 'sz_top', 'sz_bot',\n",
    "    'pitch_id_raw', 'effective_speed', 'p_throws', 'id', 'pitch_type_condensed',\n",
    "    'plate_x', 'plate_z', 'height_numeric', 'balls', 'strikes', 'strike',\n",
    "    'whiff', 'contact', 'foul', 'swing', 'ground_ball','last_spin_axis',\n",
    "    'last_pfx_x', 'last_pfx_z', 'last_release_pos_z', 'last_release_speed',\n",
    "    'total_movement', 'seasonal_avg_velo'\n",
    "], axis=1)\n",
    "testing_features = breaking_ball_testing.drop(columns=[\n",
    "    'description', 'events', 'game_pk', 'game_date', 'des', 'zone', 'stand', 'p_throws',\n",
    "    'spin_rate_deprecated', 'break_angle_deprecated', 'break_length_deprecated', \n",
    "    'game_type', 'home_team', 'away_team', 'type', 'bb_type', 'inning_topbot', \n",
    "    'hc_x', 'hc_y', 'tfs_deprecated', 'tfs_zulu_deprecated', 'hit_distance_sc', \n",
    "    'launch_speed', 'launch_angle', 'estimated_ba_using_speedangle', 'strike',\n",
    "    'estimated_woba_using_speedangle', 'woba_value', 'woba_denom', 'babip_value', \n",
    "    'iso_value', 'launch_speed_angle', 'pitch_name', 'home_score', 'away_score', \n",
    "    'bat_score', 'fld_score', 'post_away_score', 'post_home_score', 'post_bat_score', \n",
    "    'post_fld_score', 'if_fielding_alignment', 'of_fielding_alignment', \n",
    "    'delta_home_win_exp', 'delta_run_exp', 'player_name', 'hit_location', 'umpire', \n",
    "    'sv_id', 'spin_dir', 'pitch_type', 'fielder_2.1', 'pitcher.1', 'fielder_3', \n",
    "    'fielder_4', 'fielder_5', 'fielder_6', 'fielder_7', 'fielder_8', 'fielder_9', \n",
    "    'batter', 'pitcher', 'on_3b', 'on_2b', 'on_1b', 'game_year', 'outs_when_up', \n",
    "    'pitch_number', 'at_bat_number', 'inning', 'fielder_2', 'sz_top', 'sz_bot',\n",
    "    'pitch_id_raw', 'effective_speed', 'p_throws', 'id', 'pitch_type_condensed',\n",
    "    'plate_x', 'plate_z', 'height_numeric', 'balls', 'strikes', 'strike',\n",
    "    'whiff', 'contact', 'foul', 'swing', 'ground_ball','last_spin_axis',\n",
    "    'last_pfx_x', 'last_pfx_z', 'last_release_pos_z', 'last_release_speed',\n",
    "    'total_movement', 'Unnamed: 0', 'seasonal_avg_velo'\n",
    "], axis=1)   # Exclude the identifier from the features"
   ]
  },
  {
   "cell_type": "code",
   "execution_count": 8,
   "metadata": {},
   "outputs": [],
   "source": [
    "train_data = training_features.drop(['fly_ball'], axis=1).copy()\n",
    "train_label = training_features['fly_ball'].copy()\n",
    "testing_data = testing_features.drop(['fly_ball'], axis=1).copy()\n",
    "testing_label = testing_features['fly_ball'].copy()"
   ]
  },
  {
   "cell_type": "code",
   "execution_count": 9,
   "metadata": {},
   "outputs": [
    {
     "data": {
      "text/plain": [
       "Index(['release_speed', 'release_pos_x', 'release_pos_z', 'pfx_x', 'pfx_z',\n",
       "       'vx0', 'vy0', 'vz0', 'ax', 'ay', 'az', 'release_spin_rate',\n",
       "       'release_extension', 'release_pos_y', 'spin_axis', 'height_ratio',\n",
       "       'rolling_avg_velo', 'line_drive', 'diff_spin_axis', 'diff_pfx_x',\n",
       "       'diff_pfx_z', 'diff_release_pos_z', 'diff_release_speed'],\n",
       "      dtype='object')"
      ]
     },
     "execution_count": 9,
     "metadata": {},
     "output_type": "execute_result"
    }
   ],
   "source": [
    "train_data.columns"
   ]
  },
  {
   "cell_type": "code",
   "execution_count": 10,
   "metadata": {},
   "outputs": [],
   "source": [
    "# First split: Separate out a portion of the data as a temporary test set\n",
    "x_temp, x_test, y_temp, y_test = train_test_split(\n",
    "    train_data, \n",
    "    train_label, \n",
    "    test_size=0.2, \n",
    "    random_state=42\n",
    ")\n",
    "\n",
    "# Second split: Split the temporary test set into validation and test sets\n",
    "x_train, x_valid, y_train, y_valid = train_test_split(\n",
    "    x_temp, \n",
    "    y_temp, \n",
    "    test_size=0.25,\n",
    "    random_state=42\n",
    ")"
   ]
  },
  {
   "cell_type": "code",
   "execution_count": 11,
   "metadata": {},
   "outputs": [],
   "source": [
    "# Prepare the data\n",
    "dtrain = xgb.DMatrix(x_train, label=y_train)\n",
    "predictions = xgb.DMatrix(testing_data, label=testing_label)"
   ]
  },
  {
   "cell_type": "code",
   "execution_count": 12,
   "metadata": {},
   "outputs": [],
   "source": [
    "class_ratio = y_train.value_counts()[0] / y_train.value_counts()[1]\n",
    "params =  {'max_depth': 9, 'eta': 0.2829932878798215, 'subsample': 0.8993396872676559, 'colsample_bytree': 0.5405725046330021,\n",
    "    'scale_pos_weight': class_ratio, 'objective': 'binary:logistic',\n",
    "    'eval_metric': 'logloss',\n",
    "}\n",
    "\n",
    "# Initial Model\n",
    "model = xgb.train(params, dtrain)\n"
   ]
  },
  {
   "cell_type": "code",
   "execution_count": 13,
   "metadata": {},
   "outputs": [],
   "source": [
    "y_pred = model.predict(predictions)"
   ]
  },
  {
   "cell_type": "code",
   "execution_count": 16,
   "metadata": {},
   "outputs": [],
   "source": [
    "testing_identifiers['xfb'] = y_pred"
   ]
  },
  {
   "cell_type": "code",
   "execution_count": 18,
   "metadata": {},
   "outputs": [
    {
     "data": {
      "text/plain": [
       "1117690"
      ]
     },
     "execution_count": 18,
     "metadata": {},
     "output_type": "execute_result"
    }
   ],
   "source": [
    "len(y_pred)"
   ]
  },
  {
   "cell_type": "code",
   "execution_count": 17,
   "metadata": {},
   "outputs": [],
   "source": [
    "testing_identifiers.to_csv(\"Y:/departments/research_and_development/baseball_operations/clayton_goodiez/csv/off_speed/fb_2022&3_xfb.csv\")"
   ]
  }
 ],
 "metadata": {
  "kernelspec": {
   "display_name": "base",
   "language": "python",
   "name": "python3"
  },
  "language_info": {
   "codemirror_mode": {
    "name": "ipython",
    "version": 3
   },
   "file_extension": ".py",
   "mimetype": "text/x-python",
   "name": "python",
   "nbconvert_exporter": "python",
   "pygments_lexer": "ipython3",
   "version": "3.11.5"
  }
 },
 "nbformat": 4,
 "nbformat_minor": 2
}
