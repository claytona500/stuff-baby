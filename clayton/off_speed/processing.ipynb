{
 "cells": [
  {
   "cell_type": "code",
   "execution_count": 1,
   "metadata": {},
   "outputs": [
    {
     "name": "stderr",
     "output_type": "stream",
     "text": [
      "C:\\Users\\clayton\\AppData\\Local\\Packages\\PythonSoftwareFoundation.Python.3.11_qbz5n2kfra8p0\\LocalCache\\local-packages\\Python311\\site-packages\\tqdm\\auto.py:21: TqdmWarning: IProgress not found. Please update jupyter and ipywidgets. See https://ipywidgets.readthedocs.io/en/stable/user_install.html\n",
      "  from .autonotebook import tqdm as notebook_tqdm\n"
     ]
    }
   ],
   "source": [
    "import pandas as pd\n",
    "from sklearn.model_selection import train_test_split\n",
    "import optuna\n",
    "import matplotlib.pyplot as plt\n",
    "import numpy as np\n",
    "from sklearn.metrics import accuracy_score, mean_squared_error\n",
    "import xgboost as xgb\n",
    "#import pybaseball as pyb\n",
    "import seaborn as sns"
   ]
  },
  {
   "cell_type": "code",
   "execution_count": 2,
   "metadata": {},
   "outputs": [],
   "source": [
    "data = pd.read_csv(\"Y:/departments/research_and_development/baseball_operations/clayton_goodiez/csv/2021_processed.csv\")\n",
    "data_2022 = pd.read_csv(\"Y:/departments/research_and_development/baseball_operations/clayton_goodiez/csv/2022_processed.csv\")\n",
    "data_2023 = pd.read_csv(\"Y:/departments/research_and_development/baseball_operations/clayton_goodiez/csv/2023_processed.csv\")"
   ]
  },
  {
   "cell_type": "code",
   "execution_count": 3,
   "metadata": {},
   "outputs": [],
   "source": [
    "def compute_differences_with_ff_si_comparison(df):\n",
    "    # Filter for relevant pitch types (fastball and sinker)\n",
    "    relevant_pitch_types = ['FF', 'SI']\n",
    "    \n",
    "    # Columns for which to compute differences\n",
    "    cols_to_diff = ['spin_axis', 'pfx_x', 'pfx_z', 'release_pos_z', 'release_speed']\n",
    "    \n",
    "    # Initialize new columns for the last values of the relevant pitches\n",
    "    for col in cols_to_diff:\n",
    "        df[f'last_{col}'] = None\n",
    "    \n",
    "    # Iterate through each row to compute differences\n",
    "    last_values = {col: None for col in cols_to_diff}\n",
    "    \n",
    "    last_pitch_type = None\n",
    "    \n",
    "    for index, row in df.iterrows():\n",
    "        \n",
    "        if row['pitch_type'] in relevant_pitch_types:\n",
    "            \n",
    "            # Calculate differences if the last pitch was also a fastball or sinker\n",
    "            if last_pitch_type in relevant_pitch_types:\n",
    "                \n",
    "                for col in cols_to_diff:\n",
    "                    \n",
    "                    if last_values[col] is not None:\n",
    "                        df.at[index, f'diff_{col}'] = row[col] - last_values[col]\n",
    "            \n",
    "            # Update last values and last pitch type\n",
    "            for col in cols_to_diff:\n",
    "            \n",
    "                last_values[col] = row[col]\n",
    "            \n",
    "            last_pitch_type = row['pitch_type']\n",
    "        \n",
    "        else:\n",
    "\n",
    "            # Assign the last values to the new columns and compute differences\n",
    "            for col in cols_to_diff:\n",
    "                \n",
    "                df.at[index, f'last_{col}'] = last_values[col]\n",
    "                \n",
    "                # Compute the differences if last value is not None\n",
    "                if last_values[col] is not None:\n",
    "                    \n",
    "                    df.at[index, f'diff_{col}'] = row[col] - last_values[col]\n",
    "    \n",
    "    # Convert data types for optimization\n",
    "    int_cols = df.select_dtypes(include=['int64']).columns\n",
    "    float_cols = df.select_dtypes(include=['float64']).columns\n",
    "    df[int_cols] = df[int_cols].astype('int32')\n",
    "    df[float_cols] = df[float_cols].astype('float32')\n",
    "    \n",
    "    return df"
   ]
  },
  {
   "cell_type": "code",
   "execution_count": 4,
   "metadata": {},
   "outputs": [],
   "source": [
    "# Apply the function to the 'pitch_type' column\n",
    "breaking_ball = compute_differences_with_ff_si_comparison(data)"
   ]
  },
  {
   "cell_type": "code",
   "execution_count": 5,
   "metadata": {},
   "outputs": [],
   "source": [
    "breaking_ball.to_csv(\"Y:/departments/research_and_development/baseball_operations/clayton_goodiez/csv/off_speed/2021_off_processed.csv\", index=False)"
   ]
  },
  {
   "cell_type": "code",
   "execution_count": 6,
   "metadata": {},
   "outputs": [],
   "source": [
    "breaking_ball = compute_differences_with_ff_si_comparison(data_2022)"
   ]
  },
  {
   "cell_type": "code",
   "execution_count": 7,
   "metadata": {},
   "outputs": [],
   "source": [
    "breaking_ball.to_csv(\"Y:/departments/research_and_development/baseball_operations/clayton_goodiez/csv/off_speed/2022_off_processed.csv\", index=False)"
   ]
  },
  {
   "cell_type": "code",
   "execution_count": 8,
   "metadata": {},
   "outputs": [],
   "source": [
    "breaking_ball = compute_differences_with_ff_si_comparison(data_2023)"
   ]
  },
  {
   "cell_type": "code",
   "execution_count": 9,
   "metadata": {},
   "outputs": [],
   "source": [
    "breaking_ball.to_csv(\"Y:/departments/research_and_development/baseball_operations/clayton_goodiez/csv/off_speed/2023_off_processed.csv\", index=False)"
   ]
  }
 ],
 "metadata": {
  "kernelspec": {
   "display_name": "Python 3 (ipykernel)",
   "language": "python",
   "name": "python3"
  },
  "language_info": {
   "codemirror_mode": {
    "name": "ipython",
    "version": 3
   },
   "file_extension": ".py",
   "mimetype": "text/x-python",
   "name": "python",
   "nbconvert_exporter": "python",
   "pygments_lexer": "ipython3",
   "version": "3.11.6"
  }
 },
 "nbformat": 4,
 "nbformat_minor": 4
}
