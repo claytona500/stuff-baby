{
 "cells": [
  {
   "cell_type": "code",
   "execution_count": 1,
   "metadata": {},
   "outputs": [],
   "source": [
    "import pandas as pd\n",
    "from sklearn.model_selection import train_test_split\n",
    "import optuna\n",
    "import matplotlib.pyplot as plt\n",
    "import numpy as np\n",
    "from sklearn.metrics import accuracy_score, mean_squared_error\n",
    "import xgboost as xgb\n",
    "import pybaseball as pyb\n",
    "import seaborn as sns"
   ]
  },
  {
   "cell_type": "code",
   "execution_count": 2,
   "metadata": {},
   "outputs": [],
   "source": [
    "data = pd.read_csv(\"Y:/departments/research_and_development/baseball_operations/clayton_goodiez/csv/2021_processed.csv\")\n",
    "data_2022 = pd.read_csv(\"Y:/departments/research_and_development/baseball_operations/clayton_goodiez/csv/2022_processed.csv\")\n",
    "data_2023 = pd.read_csv(\"Y:/departments/research_and_development/baseball_operations/clayton_goodiez/csv/2023_processed.csv\")"
   ]
  },
  {
   "cell_type": "code",
   "execution_count": 3,
   "metadata": {},
   "outputs": [],
   "source": [
    "testing_data = pd.concat([data_2022, data_2023], axis=0)"
   ]
  },
  {
   "cell_type": "code",
   "execution_count": 4,
   "metadata": {},
   "outputs": [],
   "source": [
    "def compute_differences(df):\n",
    "    # Filter for relevant pitch types\n",
    "    relevant_pitch_types = ['FF', 'SI', 'CT']\n",
    "    relevant_df = df[df['pitch_type_condensed'].isin(relevant_pitch_types)].copy()\n",
    "\n",
    "    # Columns for which to compute differences\n",
    "    cols_to_diff = ['spin_axis', 'pfx_x', 'pfx_z', 'release_pos_z', 'release_speed']\n",
    "\n",
    "    # Shift the columns in the relevant subset\n",
    "    shifted_df = relevant_df.groupby('pitcher')[cols_to_diff].shift()\n",
    "\n",
    "    # Merge the shifted values back into the relevant subset\n",
    "    for col in cols_to_diff:\n",
    "        relevant_df[f'last_{col}'] = shifted_df[col]\n",
    "\n",
    "    # Merge the relevant subset back into the original dataframe on pitcher and pitch number\n",
    "    df = df.merge(relevant_df[['game_pk', 'pitcher', 'pitch_number'] + [f'last_{col}' for col in cols_to_diff]], \n",
    "                  on=['game_pk', 'pitcher', 'pitch_number'], \n",
    "                  how='left')\n",
    "\n",
    "    # Compute the differences for all pitches\n",
    "    for col in cols_to_diff:\n",
    "        df[f'diff_{col}'] = df[col] - df[f'last_{col}']\n",
    "\n",
    "    int_cols = df.select_dtypes(include=['int64']).columns\n",
    "    float_cols = df.select_dtypes(include=['float64']).columns\n",
    "    df[int_cols] = df[int_cols].astype('int32')\n",
    "    df[float_cols] = df[float_cols].astype('float32')\n",
    " \n",
    "    return df\n"
   ]
  },
  {
   "cell_type": "code",
   "execution_count": 5,
   "metadata": {},
   "outputs": [],
   "source": [
    "# Apply the function to the 'pitch_type' column\n",
    "breaking_ball = compute_differences(data)"
   ]
  },
  {
   "cell_type": "code",
   "execution_count": 6,
   "metadata": {},
   "outputs": [],
   "source": [
    "breaking_ball.to_csv(\"Y:/departments/research_and_development/baseball_operations/clayton_goodiez/csv/off_speed/2021_off_processed.csv\", index=False)"
   ]
  },
  {
   "cell_type": "code",
   "execution_count": 9,
   "metadata": {},
   "outputs": [],
   "source": [
    "breaking_ball = compute_differences(data_2022)"
   ]
  },
  {
   "cell_type": "code",
   "execution_count": 10,
   "metadata": {},
   "outputs": [],
   "source": [
    "breaking_ball.to_csv(\"Y:/departments/research_and_development/baseball_operations/clayton_goodiez/csv/off_speed/2022_off_processed.csv\", index=False)"
   ]
  },
  {
   "cell_type": "code",
   "execution_count": null,
   "metadata": {},
   "outputs": [],
   "source": [
    "breaking_ball = compute_differences(data_2023)"
   ]
  },
  {
   "cell_type": "code",
   "execution_count": null,
   "metadata": {},
   "outputs": [],
   "source": [
    "breaking_ball.to_csv(\"Y:/departments/research_and_development/baseball_operations/clayton_goodiez/csv/off_speed/2023_off_processed.csv\", index=False)"
   ]
  }
 ],
 "metadata": {
  "kernelspec": {
   "display_name": "Python 3 (ipykernel)",
   "language": "python",
   "name": "python3"
  },
  "language_info": {
   "codemirror_mode": {
    "name": "ipython",
    "version": 3
   },
   "file_extension": ".py",
   "mimetype": "text/x-python",
   "name": "python",
   "nbconvert_exporter": "python",
   "pygments_lexer": "ipython3",
   "version": "3.11.5"
  }
 },
 "nbformat": 4,
 "nbformat_minor": 4
}
