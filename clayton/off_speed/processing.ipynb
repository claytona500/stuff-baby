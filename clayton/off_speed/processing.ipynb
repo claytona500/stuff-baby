{
 "cells": [
  {
   "cell_type": "code",
   "execution_count": 1,
   "metadata": {},
   "outputs": [
    {
     "ename": "ModuleNotFoundError",
     "evalue": "No module named 'sklearn'",
     "output_type": "error",
     "traceback": [
      "\u001b[1;31m---------------------------------------------------------------------------\u001b[0m",
      "\u001b[1;31mModuleNotFoundError\u001b[0m                       Traceback (most recent call last)",
      "\u001b[1;32mc:\\Users\\clayton\\Documents\\GitHub\\stuff-baby\\clayton\\off_speed\\processing.ipynb Cell 1\u001b[0m line \u001b[0;36m2\n\u001b[0;32m      <a href='vscode-notebook-cell:/c%3A/Users/clayton/Documents/GitHub/stuff-baby/clayton/off_speed/processing.ipynb#W0sZmlsZQ%3D%3D?line=0'>1</a>\u001b[0m \u001b[39mimport\u001b[39;00m \u001b[39mpandas\u001b[39;00m \u001b[39mas\u001b[39;00m \u001b[39mpd\u001b[39;00m\n\u001b[1;32m----> <a href='vscode-notebook-cell:/c%3A/Users/clayton/Documents/GitHub/stuff-baby/clayton/off_speed/processing.ipynb#W0sZmlsZQ%3D%3D?line=1'>2</a>\u001b[0m \u001b[39mfrom\u001b[39;00m \u001b[39msklearn\u001b[39;00m\u001b[39m.\u001b[39;00m\u001b[39mmodel_selection\u001b[39;00m \u001b[39mimport\u001b[39;00m train_test_split\n\u001b[0;32m      <a href='vscode-notebook-cell:/c%3A/Users/clayton/Documents/GitHub/stuff-baby/clayton/off_speed/processing.ipynb#W0sZmlsZQ%3D%3D?line=2'>3</a>\u001b[0m \u001b[39mimport\u001b[39;00m \u001b[39moptuna\u001b[39;00m\n\u001b[0;32m      <a href='vscode-notebook-cell:/c%3A/Users/clayton/Documents/GitHub/stuff-baby/clayton/off_speed/processing.ipynb#W0sZmlsZQ%3D%3D?line=3'>4</a>\u001b[0m \u001b[39mimport\u001b[39;00m \u001b[39mmatplotlib\u001b[39;00m\u001b[39m.\u001b[39;00m\u001b[39mpyplot\u001b[39;00m \u001b[39mas\u001b[39;00m \u001b[39mplt\u001b[39;00m\n",
      "\u001b[1;31mModuleNotFoundError\u001b[0m: No module named 'sklearn'"
     ]
    }
   ],
   "source": [
    "import pandas as pd\n",
    "from sklearn.model_selection import train_test_split\n",
    "import optuna\n",
    "import matplotlib.pyplot as plt\n",
    "import numpy as np\n",
    "from sklearn.metrics import accuracy_score, mean_squared_error\n",
    "import xgboost as xgb\n",
    "#import pybaseball as pyb\n",
    "import seaborn as sns"
   ]
  },
  {
   "cell_type": "code",
   "execution_count": null,
   "metadata": {},
   "outputs": [],
   "source": [
    "data = pd.read_csv(\"Y:/departments/research_and_development/baseball_operations/clayton_goodiez/csv/2021_processed.csv\")\n",
    "data_2022 = pd.read_csv(\"Y:/departments/research_and_development/baseball_operations/clayton_goodiez/csv/2022_processed.csv\")\n",
    "data_2023 = pd.read_csv(\"Y:/departments/research_and_development/baseball_operations/clayton_goodiez/csv/2023_processed.csv\")"
   ]
  },
  {
   "cell_type": "code",
   "execution_count": null,
   "metadata": {},
   "outputs": [],
   "source": [
    "def compute_differences(df):\n",
    "    # Filter for relevant pitch types\n",
    "    relevant_pitch_types = ['FF', 'SI', 'CT']\n",
    "    relevant_df = df[df['pitch_type_condensed'].isin(relevant_pitch_types)].copy()\n",
    "\n",
    "    # Columns for which to compute differences\n",
    "    cols_to_diff = ['spin_axis', 'pfx_x', 'pfx_z', 'release_pos_z', 'release_speed']\n",
    "\n",
    "    # Shift the columns in the relevant subset\n",
    "    shifted_df = relevant_df.groupby('pitcher')[cols_to_diff].shift()\n",
    "\n",
    "    # Merge the shifted values back into the relevant subset\n",
    "    for col in cols_to_diff:\n",
    "        relevant_df[f'last_{col}'] = shifted_df[col]\n",
    "\n",
    "    # Merge the relevant subset back into the original dataframe on pitcher and pitch number\n",
    "    df = df.merge(relevant_df[['pitch_id_raw'] + [f'last_{col}' for col in cols_to_diff]], \n",
    "              on='pitch_id_raw', \n",
    "              how='left')\n",
    "\n",
    "    # Compute the differences for all pitches\n",
    "    for col in cols_to_diff:\n",
    "        df[f'diff_{col}'] = df[col] - df[f'last_{col}']\n",
    "\n",
    "    int_cols = df.select_dtypes(include=['int64']).columns\n",
    "    float_cols = df.select_dtypes(include=['float64']).columns\n",
    "    df[int_cols] = df[int_cols].astype('int32')\n",
    "    df[float_cols] = df[float_cols].astype('float32')\n",
    " \n",
    "    return df\n"
   ]
  },
  {
   "cell_type": "code",
   "execution_count": null,
   "metadata": {},
   "outputs": [],
   "source": [
    "# Apply the function to the 'pitch_type' column\n",
    "breaking_ball = compute_differences(data)"
   ]
  },
  {
   "cell_type": "code",
   "execution_count": null,
   "metadata": {},
   "outputs": [],
   "source": [
    "breaking_ball.to_csv(\"Y:/departments/research_and_development/baseball_operations/clayton_goodiez/csv/off_speed/2021_off_processed.csv\", index=False)"
   ]
  },
  {
   "cell_type": "code",
   "execution_count": null,
   "metadata": {},
   "outputs": [],
   "source": [
    "breaking_ball = compute_differences(data_2022)"
   ]
  },
  {
   "cell_type": "code",
   "execution_count": null,
   "metadata": {},
   "outputs": [],
   "source": [
    "breaking_ball.to_csv(\"Y:/departments/research_and_development/baseball_operations/clayton_goodiez/csv/off_speed/2022_off_processed.csv\", index=False)"
   ]
  },
  {
   "cell_type": "code",
   "execution_count": null,
   "metadata": {},
   "outputs": [],
   "source": [
    "breaking_ball = compute_differences(data_2023)"
   ]
  },
  {
   "cell_type": "code",
   "execution_count": null,
   "metadata": {},
   "outputs": [],
   "source": [
    "breaking_ball.to_csv(\"Y:/departments/research_and_development/baseball_operations/clayton_goodiez/csv/off_speed/2023_off_processed.csv\", index=False)"
   ]
  }
 ],
 "metadata": {
  "kernelspec": {
   "display_name": "Python 3 (ipykernel)",
   "language": "python",
   "name": "python3"
  },
  "language_info": {
   "codemirror_mode": {
    "name": "ipython",
    "version": 3
   },
   "file_extension": ".py",
   "mimetype": "text/x-python",
   "name": "python",
   "nbconvert_exporter": "python",
   "pygments_lexer": "ipython3",
   "version": "3.11.6"
  }
 },
 "nbformat": 4,
 "nbformat_minor": 4
}
