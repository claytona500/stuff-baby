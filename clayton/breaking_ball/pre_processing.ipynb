{
 "cells": [
  {
   "cell_type": "code",
   "execution_count": 1,
   "metadata": {},
   "outputs": [],
   "source": [
    "import pandas as pd\n",
    "from sklearn.model_selection import train_test_split\n",
    "import optuna\n",
    "import matplotlib.pyplot as plt\n",
    "import numpy as np\n",
    "from sklearn.metrics import accuracy_score, mean_squared_error\n",
    "import xgboost as xgb\n",
    "import pybaseball as pyb\n",
    "import seaborn as sns"
   ]
  },
  {
   "cell_type": "code",
   "execution_count": 2,
   "metadata": {},
   "outputs": [],
   "source": [
    "data = pd.read_csv(\"Y:/departments/research_and_development/baseball_operations/clayton_goodiez/csv/2021_data.csv\")\n",
    "data_2022 = pd.read_csv(\"Y:/departments/research_and_development/baseball_operations/clayton_goodiez/csv/2022_data.csv\")\n",
    "data_2023 = pd.read_csv(\"Y:/departments/research_and_development/baseball_operations/clayton_goodiez/csv/2023_MLB_Seaspm.csv\")"
   ]
  },
  {
   "cell_type": "code",
   "execution_count": 3,
   "metadata": {},
   "outputs": [],
   "source": [
    "testing_data = pd.concat([data_2022, data_2023], axis=0)"
   ]
  },
  {
   "cell_type": "code",
   "execution_count": 26,
   "metadata": {},
   "outputs": [],
   "source": [
    "def preprocess_data(df):\n",
    "    # Optimize data types for memory efficiency\n",
    "    df = df.loc[df['release_speed'].notnull()].copy()\n",
    "    int_cols = df.select_dtypes(include=['int64']).columns\n",
    "    float_cols = df.select_dtypes(include=['float64']).columns\n",
    "    df[int_cols] = df[int_cols].astype('int32')\n",
    "    df[float_cols] = df[float_cols].astype('float32')\n",
    "\n",
    "    # Condense pitch types using a mapping dictionary\n",
    "    pitch_type_map = {\n",
    "        \"FF\": \"FF\", \"FT\": \"SI\", \"FC\": \"CT\",\n",
    "        \"SL\": \"SL\", \"ST\": \"SL\", \"SV\": \"SL\",\n",
    "        \"CH\": \"CH\", \"FS\": \"CH\",\n",
    "        \"CU\": \"CB\", \"KC\": \"CB\", \"CS\": \"CB\", \"CB\": \"CB\",\n",
    "        \"SI\": \"SI\", \"KN\": \"KN\"\n",
    "    }\n",
    "    df['pitch_type_condensed'] = df['pitch_type'].map(pitch_type_map).fillna(\"FAHCK\")\n",
    "\n",
    "    # Calculate pitcher stats\n",
    "    df.sort_values(by=['game_pk', 'pitcher', 'pitch_type_condensed', 'pitch_number'], inplace=True)\n",
    "    df['rolling_avg_velo'] = df.groupby(['game_pk', 'pitcher', 'pitch_type_condensed'])['release_speed'].transform(lambda x: x.rolling(5, min_periods=1).mean())\n",
    "    seasonal_avg = df.groupby(['pitcher', 'pitch_type_condensed'])['release_speed'].mean().rename('seasonal_avg_velo')\n",
    "    df = df.join(seasonal_avg, on=['pitcher', 'pitch_type_condensed'])\n",
    "    df['rolling_avg_velo'].fillna(df['seasonal_avg_velo'], inplace=True)\n",
    "\n",
    "    # Define multiple conditions\n",
    "    contact_conditions = [\"foul_tip\", \"foul_bunt\", \"foul\", \"foul_pitchout\", \"hit_into_play\", \"hit_into_play_no_out\", \"hit_into_play_score\", \"pitchout_hit_into_play_score\"]\n",
    "    swing_conditions = [\"swinging_strike\", \"swinging_strike_blocked\", \"missed_bunt\", \"swinging_pitchout\"] + contact_conditions\n",
    "    whiff_conditions = [\"swinging_strike\", \"swinging_strike_blocked\", \"missed_bunt\", \"swinging_pitchout\"]\n",
    "    foul_conditions = [\"foul_tip\", \"foul_pitchout\", \"foul\", \"foul_pitchout\"]\n",
    "    strike_conditions = [\"called_strike\", \"swinging_strike\", \"swinging_strike_blocked\", \"foul_tip\", \"foul\", \"foul_bunt\", \"foul_pitchout\"]\n",
    "\n",
    "    # Apply conditions\n",
    "    df['swing'] = df['description'].isin(swing_conditions).astype(int)\n",
    "    df['whiff'] = df['description'].isin(whiff_conditions).astype(int)\n",
    "    df['contact'] = df['description'].isin(contact_conditions).astype(int)\n",
    "    df['strike'] = df['description'].isin(strike_conditions).astype(int)\n",
    "    df['foul'] = df['description'].isin(foul_conditions).astype(int)\n",
    "    df['fly_ball'] = df['bb_type'].isin([\"fly_ball\", \"popup\"]).astype(int)\n",
    "    df['ground_ball'] = (df['bb_type'] == \"ground_ball\").astype(int)\n",
    "    df['line_drive'] = (df['bb_type'] == \"line_drive\").astype(int)\n",
    "\n",
    "    # Calculate additional metrics\n",
    "    df['total_movement'] = np.sqrt(df['pfx_x']**2 + df['pfx_z']**2)\n",
    "    df['release_pos_y'] = 60.5 - df['release_extension']\n",
    "    df['height_ratio'] = df['release_pos_z'] / df['height_numeric']\n",
    "    # Create 'pitch_id_raw'\n",
    "    df['pitch_id_raw'] = df['game_pk'].astype(str) + \"_\" + df['batter'].astype(str) + \"_\" + df['pitcher'].astype(str) + \"_\" + df['pitch_number'].astype(str) + \"_\" + df['at_bat_number'].astype(str) + \"_\" + df['inning'].astype(str)\n",
    "\n",
    "    return df"
   ]
  },
  {
   "cell_type": "code",
   "execution_count": 27,
   "metadata": {},
   "outputs": [],
   "source": [
    "# Apply the function to the 'pitch_type' column\n",
    "breaking_ball = preprocess_data(data)"
   ]
  },
  {
   "cell_type": "code",
   "execution_count": 28,
   "metadata": {},
   "outputs": [],
   "source": [
    "breaking_ball.to_csv(\"Y:/departments/research_and_development/baseball_operations/clayton_goodiez/csv/2021_processed.csv\", index=False)"
   ]
  },
  {
   "cell_type": "code",
   "execution_count": 29,
   "metadata": {},
   "outputs": [],
   "source": [
    "breaking_ball = preprocess_data(data_2022)"
   ]
  },
  {
   "cell_type": "code",
   "execution_count": 30,
   "metadata": {},
   "outputs": [],
   "source": [
    "breaking_ball.to_csv(\"Y:/departments/research_and_development/baseball_operations/clayton_goodiez/csv/2022_processed.csv\", index=False)"
   ]
  },
  {
   "cell_type": "code",
   "execution_count": 31,
   "metadata": {},
   "outputs": [],
   "source": [
    "breaking_ball = preprocess_data(data_2023)"
   ]
  },
  {
   "cell_type": "code",
   "execution_count": 32,
   "metadata": {},
   "outputs": [],
   "source": [
    "breaking_ball.to_csv(\"Y:/departments/research_and_development/baseball_operations/clayton_goodiez/csv/2023_processed.csv\", index=False)"
   ]
  },
  {
   "cell_type": "code",
   "execution_count": null,
   "metadata": {},
   "outputs": [],
   "source": []
  }
 ],
 "metadata": {
  "kernelspec": {
   "display_name": "Python 3 (ipykernel)",
   "language": "python",
   "name": "python3"
  },
  "language_info": {
   "codemirror_mode": {
    "name": "ipython",
    "version": 3
   },
   "file_extension": ".py",
   "mimetype": "text/x-python",
   "name": "python",
   "nbconvert_exporter": "python",
   "pygments_lexer": "ipython3",
   "version": "3.11.5"
  }
 },
 "nbformat": 4,
 "nbformat_minor": 4
}
