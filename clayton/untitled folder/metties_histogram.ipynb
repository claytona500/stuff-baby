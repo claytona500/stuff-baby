{
 "cells": [
  {
   "cell_type": "code",
   "execution_count": 1,
   "metadata": {},
   "outputs": [],
   "source": [
    "import matplotlib.pyplot as plt\n",
    "import numpy as np\n",
    "import random\n",
    "from scipy.stats import gaussian_kde\n",
    "import pybaseball as pyb\n",
    "import pandas as pd"
   ]
  },
  {
   "cell_type": "code",
   "execution_count": 2,
   "metadata": {},
   "outputs": [
    {
     "name": "stdout",
     "output_type": "stream",
     "text": [
      "This is a large query, it may take a moment to complete\n"
     ]
    },
    {
     "name": "stderr",
     "output_type": "stream",
     "text": [
      "100%|██████████| 187/187 [00:23<00:00,  8.01it/s]\n"
     ]
    }
   ],
   "source": [
    "data = pyb.statcast(start_dt='2023-03-29', end_dt='2023-10-01')"
   ]
  },
  {
   "cell_type": "code",
   "execution_count": 3,
   "metadata": {},
   "outputs": [],
   "source": [
    "off = pd.read_csv('offspeed_ready.csv')\n",
    "fast = pd.read_csv('fastball_ready.csv')\n",
    "breaking = pd.read_csv('breakingball_ready.csv')\n",
    "\n",
    "stuff = pd.concat([off, fast, breaking])"
   ]
  },
  {
   "cell_type": "code",
   "execution_count": 99,
   "metadata": {},
   "outputs": [],
   "source": [
    "def processing(data):\n",
    "    # Adjusting 'pfx_x' values for left-handed pitchers\n",
    "    data['pfx_x'] = np.where(data['p_throws'] == \"R\", data['pfx_x'], -data['pfx_x'])\n",
    "    data['pfx_x'] = pd.to_numeric(data['pfx_x'], errors='coerce')\n",
    "    data = data.dropna(subset=['pfx_x', 'pfx_z', 'release_speed'])\n",
    "\n",
    "    # Converting 'pfx_z' and 'release_speed' to float and dropping rows with NaN values across the dataframe\n",
    "    data['pfx_z'] = pd.to_numeric(data['pfx_z'], errors='coerce')\n",
    "    data['release_speed'] = pd.to_numeric(data['release_speed'], errors='coerce')\n",
    "    \n",
    "    # Drop rows where any of the three columns have NaN values\n",
    "    data = data.dropna(subset=['pfx_x', 'pfx_z', 'release_speed'])\n",
    "        # Function to reformat a single name\n",
    "    def reformat_single_name(name):\n",
    "        parts = name.split(\", \")\n",
    "        return \" \".join(parts[::-1]) if len(parts) == 2 else name\n",
    "\n",
    "    # Apply the reformatting function to the specified column\n",
    "    data['player_name'] = data['player_name'].apply(reformat_single_name)\n",
    "    \n",
    "    return data\n"
   ]
  },
  {
   "cell_type": "code",
   "execution_count": 100,
   "metadata": {},
   "outputs": [
    {
     "name": "stderr",
     "output_type": "stream",
     "text": [
      "/var/folders/dq/z18cy8rx3v57xzb5w7lsjtg00000gn/T/ipykernel_13540/4126798130.py:8: SettingWithCopyWarning: \n",
      "A value is trying to be set on a copy of a slice from a DataFrame.\n",
      "Try using .loc[row_indexer,col_indexer] = value instead\n",
      "\n",
      "See the caveats in the documentation: https://pandas.pydata.org/pandas-docs/stable/user_guide/indexing.html#returning-a-view-versus-a-copy\n",
      "  data['pfx_z'] = pd.to_numeric(data['pfx_z'], errors='coerce')\n",
      "/var/folders/dq/z18cy8rx3v57xzb5w7lsjtg00000gn/T/ipykernel_13540/4126798130.py:9: SettingWithCopyWarning: \n",
      "A value is trying to be set on a copy of a slice from a DataFrame.\n",
      "Try using .loc[row_indexer,col_indexer] = value instead\n",
      "\n",
      "See the caveats in the documentation: https://pandas.pydata.org/pandas-docs/stable/user_guide/indexing.html#returning-a-view-versus-a-copy\n",
      "  data['release_speed'] = pd.to_numeric(data['release_speed'], errors='coerce')\n"
     ]
    }
   ],
   "source": [
    "df = processing(data)"
   ]
  },
  {
   "cell_type": "code",
   "execution_count": 113,
   "metadata": {},
   "outputs": [],
   "source": [
    "def arsenal_hist(player_name, pitch_type, original_df, stuff_df):\n",
    "    # Ensure that the original DataFrame is being used for the first three metrics\n",
    "    metrics = ['pfx_x', 'pfx_z', 'release_speed']\n",
    "    # Add a subplot for 'stuff_plus'\n",
    "    fig, axes = plt.subplots(nrows=1, ncols=len(metrics) + 1, figsize=(5 * (len(metrics) + 1), 5))  # Adjust the number of subplots\n",
    "\n",
    "    # Function to generate random colors\n",
    "    def get_random_color():\n",
    "        return \"#\" + ''.join([random.choice('0123456789ABCDEF') for j in range(6)])\n",
    "    \n",
    "    # Plotting each of the original metrics\n",
    "    for i, metric in enumerate(metrics):\n",
    "        print(original_df[(original_df['player_name'] == player_name) & (original_df['pitch_type'] == pitch_type)][metric].count())\n",
    "        metric_data = original_df[(original_df['pitch_type'] == pitch_type) & (original_df['player_name'] == player_name)][metric].dropna()\n",
    "        metric_data = metric_data.to_numpy(dtype=float)\n",
    "        \n",
    "        if metric_data.size > 1:\n",
    "            kde = gaussian_kde(metric_data)\n",
    "            x_grid = np.linspace(metric_data.min(), metric_data.max(), 1000)\n",
    "            color = get_random_color()\n",
    "\n",
    "            axes[i].fill_between(x_grid, kde(x_grid), color=color, alpha=0.5)\n",
    "            axes[i].plot(x_grid, kde(x_grid), color=color)\n",
    "\n",
    "            player_mean = metric_data.mean()\n",
    "            axes[i].axvline(player_mean, color='black', linestyle='dashed', linewidth=1.5)\n",
    "        else:\n",
    "            axes[i].text(0.5, 0.5, 'Insufficient data', horizontalalignment='center', verticalalignment='center', transform=axes[i].transAxes)\n",
    "\n",
    "        axes[i].set_title(f'{metric}', loc='left')\n",
    "        axes[i].tick_params(axis='y', which='both', left=False, labelleft=False)\n",
    "        axes[i].spines['top'].set_visible(False)\n",
    "        axes[i].spines['right'].set_visible(False)\n",
    "        axes[i].spines['left'].set_visible(True)\n",
    "    \n",
    "    # Plot 'stuff_plus' in the last subplot\n",
    "    i = len(metrics)  # Index for the last subplot\n",
    "    player_data = stuff_df[(stuff_df['player_name'] == player_name) & (stuff_df['pitch_type'] == pitch_type)]\n",
    "    if not player_data.empty:\n",
    "        player_stuff_plus = player_data.iloc[0]['stuff_plus']\n",
    "        all_stuff_plus = stuff_df[stuff_df['pitch_type'] == pitch_type]['stuff_plus'].dropna().to_numpy(dtype=float)\n",
    "        if all_stuff_plus.size > 1:\n",
    "            kde = gaussian_kde(all_stuff_plus)\n",
    "            x_grid = np.linspace(all_stuff_plus.min(), all_stuff_plus.max(), 1000)\n",
    "            color = get_random_color()\n",
    "\n",
    "            axes[i].fill_between(x_grid, kde(x_grid), color=color, alpha=0.5)\n",
    "            axes[i].plot(x_grid, kde(x_grid), color=color)\n",
    "\n",
    "            axes[i].axvline(player_stuff_plus, color='black', linestyle='dashed', linewidth=2, label=f'{player_name} Stuff+')\n",
    "            axes[i].legend()\n",
    "        else:\n",
    "            axes[i].text(0.5, 0.5, 'Insufficient data for stuff_plus', horizontalalignment='center', verticalalignment='center', transform=axes[i].transAxes)\n",
    "    else:\n",
    "        axes[i].text(0.5, 0.5, f'No stuff_plus data for {player_name}', horizontalalignment='center', verticalalignment='center', transform=axes[i].transAxes)\n",
    "    \n",
    "    axes[i].set_title('stuff_plus', loc='left')\n",
    "    axes[i].tick_params(axis='y', which='both', left=False, labelleft=False)\n",
    "    axes[i].spines['top'].set_visible(False)\n",
    "    axes[i].spines['right'].set_visible(False)\n",
    "    axes[i].spines['left'].set_visible(True)\n",
    "    \n",
    "    plt.suptitle(f\"{player_name} - {pitch_type} Metrics\", fontsize=16, y=1.02)\n",
    "    plt.tight_layout()\n",
    "    plt.savefig(f'{player_name}_{pitch_type}_histogram.png')"
   ]
  },
  {
   "cell_type": "code",
   "execution_count": 114,
   "metadata": {},
   "outputs": [
    {
     "name": "stdout",
     "output_type": "stream",
     "text": [
      "0\n",
      "0\n",
      "0\n"
     ]
    },
    {
     "data": {
      "image/png": "[encoded data removed]",
      "text/plain": [
       "<Figure size 2000x500 with 4 Axes>"
      ]
     },
     "metadata": {},
     "output_type": "display_data"
    }
   ],
   "source": [
    "arsenal_hist('Félix Bautista', 'SP', df, stuff)"
   ]
  },
  {
   "cell_type": "code",
   "execution_count": 79,
   "metadata": {},
   "outputs": [
    {
     "name": "stdout",
     "output_type": "stream",
     "text": [
      "0\n",
      "0\n",
      "0\n",
      "Float64\n",
      "float64\n",
      "Float64\n"
     ]
    }
   ],
   "source": [
    "print(df['pfx_z'].isnull().sum())\n",
    "print(df['pfx_x'].isnull().sum())\n",
    "\n",
    "print(df['release_speed'].isnull().sum())\n",
    "print(df['release_speed'].dtype)\n",
    "print(df['pfx_x'].dtype)\n",
    "print(df['pfx_z'].dtype)\n"
   ]
  },
  {
   "cell_type": "code",
   "execution_count": 80,
   "metadata": {},
   "outputs": [
    {
     "name": "stdout",
     "output_type": "stream",
     "text": [
      "430\n",
      "683\n"
     ]
    }
   ],
   "source": [
    "print(df['pfx_z'].nunique())\n",
    "print(df['release_speed'].nunique())"
   ]
  },
  {
   "cell_type": "code",
   "execution_count": 81,
   "metadata": {},
   "outputs": [
    {
     "data": {
      "text/plain": [
       "717653"
      ]
     },
     "execution_count": 81,
     "metadata": {},
     "output_type": "execute_result"
    }
   ],
   "source": [
    "len(df)"
   ]
  },
  {
   "cell_type": "code",
   "execution_count": 82,
   "metadata": {},
   "outputs": [
    {
     "name": "stdout",
     "output_type": "stream",
     "text": [
      "<FloatingArray>\n",
      "[89.0, 96.9, 90.0, 82.2, 89.2, 96.2, 88.2, 95.7, 79.4, 82.9,\n",
      " ...\n",
      " 35.8, 33.4, 59.2, 55.4, 55.0, 45.0, 59.7, 51.2, 49.2, 60.5]\n",
      "Length: 683, dtype: Float64\n"
     ]
    }
   ],
   "source": [
    "print(df['release_speed'].unique())"
   ]
  },
  {
   "cell_type": "code",
   "execution_count": 83,
   "metadata": {},
   "outputs": [
    {
     "name": "stdout",
     "output_type": "stream",
     "text": [
      "<FloatingArray>\n",
      "[ 0.33,  1.36,  0.36,  0.28,  0.31,   1.4,  0.43,   1.3,  -0.2,  0.01,\n",
      " ...\n",
      "  2.11,   2.1,  2.14,  2.17,  2.84,  2.16,  2.46,  2.45,   2.5, -1.98]\n",
      "Length: 430, dtype: Float64\n"
     ]
    }
   ],
   "source": [
    "print(df['pfx_z'].unique())"
   ]
  },
  {
   "cell_type": "code",
   "execution_count": 94,
   "metadata": {},
   "outputs": [
    {
     "data": {
      "text/html": [
       "<div>\n",
       "<style scoped>\n",
       "    .dataframe tbody tr th:only-of-type {\n",
       "        vertical-align: middle;\n",
       "    }\n",
       "\n",
       "    .dataframe tbody tr th {\n",
       "        vertical-align: top;\n",
       "    }\n",
       "\n",
       "    .dataframe thead th {\n",
       "        text-align: right;\n",
       "    }\n",
       "</style>\n",
       "<table border=\"1\" class=\"dataframe\">\n",
       "  <thead>\n",
       "    <tr style=\"text-align: right;\">\n",
       "      <th></th>\n",
       "      <th>Unnamed: 0</th>\n",
       "      <th>player_name</th>\n",
       "      <th>pitch_type</th>\n",
       "      <th>stuff_plus</th>\n",
       "      <th>count</th>\n",
       "    </tr>\n",
       "  </thead>\n",
       "  <tbody>\n",
       "    <tr>\n",
       "      <th>0</th>\n",
       "      <td>1</td>\n",
       "      <td>Félix Bautista</td>\n",
       "      <td>SP</td>\n",
       "      <td>219</td>\n",
       "      <td>244</td>\n",
       "    </tr>\n",
       "    <tr>\n",
       "      <th>1</th>\n",
       "      <td>2</td>\n",
       "      <td>Jhoan Duran</td>\n",
       "      <td>SP</td>\n",
       "      <td>211</td>\n",
       "      <td>292</td>\n",
       "    </tr>\n",
       "    <tr>\n",
       "      <th>2</th>\n",
       "      <td>3</td>\n",
       "      <td>Shintaro Fujinami</td>\n",
       "      <td>SP</td>\n",
       "      <td>210</td>\n",
       "      <td>280</td>\n",
       "    </tr>\n",
       "    <tr>\n",
       "      <th>3</th>\n",
       "      <td>4</td>\n",
       "      <td>Kyle Finnegan</td>\n",
       "      <td>SP</td>\n",
       "      <td>207</td>\n",
       "      <td>272</td>\n",
       "    </tr>\n",
       "    <tr>\n",
       "      <th>4</th>\n",
       "      <td>5</td>\n",
       "      <td>Framber Valdez</td>\n",
       "      <td>CH</td>\n",
       "      <td>173</td>\n",
       "      <td>513</td>\n",
       "    </tr>\n",
       "  </tbody>\n",
       "</table>\n",
       "</div>"
      ],
      "text/plain": [
       "   Unnamed: 0        player_name pitch_type  stuff_plus  count\n",
       "0           1     Félix Bautista         SP         219    244\n",
       "1           2        Jhoan Duran         SP         211    292\n",
       "2           3  Shintaro Fujinami         SP         210    280\n",
       "3           4      Kyle Finnegan         SP         207    272\n",
       "4           5     Framber Valdez         CH         173    513"
      ]
     },
     "execution_count": 94,
     "metadata": {},
     "output_type": "execute_result"
    }
   ],
   "source": [
    "stuff.head()"
   ]
  },
  {
   "cell_type": "code",
   "execution_count": 98,
   "metadata": {},
   "outputs": [
    {
     "name": "stdout",
     "output_type": "stream",
     "text": [
      "Index(['Unnamed: 0', 'player_name', 'pitch_type', 'stuff_plus', 'count'], dtype='object')\n",
      "Félix Bautista's stuff_plus for SP: 219\n"
     ]
    },
    {
     "data": {
      "image/png": "[encoded data removed]",
      "text/plain": [
       "<Figure size 1000x600 with 1 Axes>"
      ]
     },
     "metadata": {},
     "output_type": "display_data"
    }
   ],
   "source": [
    "def plot_stuff_plus(player_name, pitch_type, original_df, stuff_df):\n",
    "    print(stuff_df.columns)  # Diagnostic print\n",
    "    \n",
    "    # Filter the new DataFrame for the specific player and pitch type\n",
    "    player_data = stuff_df[(stuff_df['player_name'] == player_name) & (stuff_df['pitch_type'] == pitch_type)]\n",
    "    \n",
    "    # Get the stuff_plus value for the given player\n",
    "    if not player_data.empty:\n",
    "        player_stuff_plus = player_data['stuff_plus'].iloc[0]\n",
    "        print(f\"{player_name}'s stuff_plus for {pitch_type}: {player_stuff_plus}\")  # Diagnostic print\n",
    "    else:\n",
    "        print(f\"No data for player {player_name} with pitch type {pitch_type} found.\")\n",
    "        return\n",
    "    \n",
    "    # Create histogram for stuff_plus across all players for the pitch type\n",
    "    plt.figure(figsize=(10, 6))\n",
    "    \n",
    "    # Plot the distribution of stuff_plus\n",
    "    all_stuff_plus = stuff_df['stuff_plus'].dropna().to_numpy(dtype=float)\n",
    "    if all_stuff_plus.size > 1:\n",
    "        kde = gaussian_kde(all_stuff_plus)\n",
    "        x_grid = np.linspace(all_stuff_plus.min(), all_stuff_plus.max(), 1000)\n",
    "        plt.fill_between(x_grid, kde(x_grid), alpha=0.5)\n",
    "        plt.plot(x_grid, kde(x_grid), label='All Pitchers')\n",
    "    \n",
    "        # Highlight the given player's stuff_plus value\n",
    "        plt.axvline(player_stuff_plus, color='black', linestyle='dashed', linewidth=2, label=f'{player_name} Stuff+')\n",
    "        plt.legend()\n",
    "    \n",
    "        plt.title(f'Stuff+ Distribution for {pitch_type} Pitch Type')\n",
    "        plt.xlabel('Stuff+')\n",
    "        plt.ylabel('Density')\n",
    "        plt.show()\n",
    "    else:\n",
    "        print(\"Insufficient data to plot KDE for stuff_plus.\")\n",
    "\n",
    "# Assuming you have the original DataFrame loaded as `df`\n",
    "plot_stuff_plus('Félix Bautista', 'SP', df, stuff)\n"
   ]
  },
  {
   "cell_type": "code",
   "execution_count": 115,
   "metadata": {},
   "outputs": [
    {
     "data": {
      "text/html": [
       "<div>\n",
       "<style scoped>\n",
       "    .dataframe tbody tr th:only-of-type {\n",
       "        vertical-align: middle;\n",
       "    }\n",
       "\n",
       "    .dataframe tbody tr th {\n",
       "        vertical-align: top;\n",
       "    }\n",
       "\n",
       "    .dataframe thead th {\n",
       "        text-align: right;\n",
       "    }\n",
       "</style>\n",
       "<table border=\"1\" class=\"dataframe\">\n",
       "  <thead>\n",
       "    <tr style=\"text-align: right;\">\n",
       "      <th></th>\n",
       "      <th>pitch_type</th>\n",
       "      <th>game_date</th>\n",
       "      <th>release_speed</th>\n",
       "      <th>release_pos_x</th>\n",
       "      <th>release_pos_z</th>\n",
       "      <th>player_name</th>\n",
       "      <th>batter</th>\n",
       "      <th>pitcher</th>\n",
       "      <th>events</th>\n",
       "      <th>description</th>\n",
       "      <th>...</th>\n",
       "      <th>fld_score</th>\n",
       "      <th>post_away_score</th>\n",
       "      <th>post_home_score</th>\n",
       "      <th>post_bat_score</th>\n",
       "      <th>post_fld_score</th>\n",
       "      <th>if_fielding_alignment</th>\n",
       "      <th>of_fielding_alignment</th>\n",
       "      <th>spin_axis</th>\n",
       "      <th>delta_home_win_exp</th>\n",
       "      <th>delta_run_exp</th>\n",
       "    </tr>\n",
       "  </thead>\n",
       "  <tbody>\n",
       "    <tr>\n",
       "      <th>3108</th>\n",
       "      <td>FF</td>\n",
       "      <td>2023-08-25</td>\n",
       "      <td>102.3</td>\n",
       "      <td>0.54</td>\n",
       "      <td>6.89</td>\n",
       "      <td>Félix Bautista</td>\n",
       "      <td>669911</td>\n",
       "      <td>642585</td>\n",
       "      <td>None</td>\n",
       "      <td>ball</td>\n",
       "      <td>...</td>\n",
       "      <td>5</td>\n",
       "      <td>4</td>\n",
       "      <td>5</td>\n",
       "      <td>4</td>\n",
       "      <td>5</td>\n",
       "      <td>Infield shade</td>\n",
       "      <td>Standard</td>\n",
       "      <td>186</td>\n",
       "      <td>0.0</td>\n",
       "      <td>0.016</td>\n",
       "    </tr>\n",
       "    <tr>\n",
       "      <th>3227</th>\n",
       "      <td>FF</td>\n",
       "      <td>2023-08-25</td>\n",
       "      <td>100.6</td>\n",
       "      <td>0.21</td>\n",
       "      <td>6.87</td>\n",
       "      <td>Félix Bautista</td>\n",
       "      <td>669911</td>\n",
       "      <td>642585</td>\n",
       "      <td>None</td>\n",
       "      <td>swinging_strike</td>\n",
       "      <td>...</td>\n",
       "      <td>5</td>\n",
       "      <td>4</td>\n",
       "      <td>5</td>\n",
       "      <td>4</td>\n",
       "      <td>5</td>\n",
       "      <td>Infield shade</td>\n",
       "      <td>Standard</td>\n",
       "      <td>184</td>\n",
       "      <td>0.0</td>\n",
       "      <td>-0.027</td>\n",
       "    </tr>\n",
       "    <tr>\n",
       "      <th>3366</th>\n",
       "      <td>FS</td>\n",
       "      <td>2023-08-25</td>\n",
       "      <td>91.3</td>\n",
       "      <td>-0.07</td>\n",
       "      <td>6.76</td>\n",
       "      <td>Félix Bautista</td>\n",
       "      <td>669911</td>\n",
       "      <td>642585</td>\n",
       "      <td>None</td>\n",
       "      <td>ball</td>\n",
       "      <td>...</td>\n",
       "      <td>5</td>\n",
       "      <td>4</td>\n",
       "      <td>5</td>\n",
       "      <td>4</td>\n",
       "      <td>5</td>\n",
       "      <td>Infield shade</td>\n",
       "      <td>Standard</td>\n",
       "      <td>220</td>\n",
       "      <td>0.0</td>\n",
       "      <td>0.012</td>\n",
       "    </tr>\n",
       "    <tr>\n",
       "      <th>3460</th>\n",
       "      <td>FF</td>\n",
       "      <td>2023-08-25</td>\n",
       "      <td>101.5</td>\n",
       "      <td>0.33</td>\n",
       "      <td>6.86</td>\n",
       "      <td>Félix Bautista</td>\n",
       "      <td>669911</td>\n",
       "      <td>642585</td>\n",
       "      <td>None</td>\n",
       "      <td>called_strike</td>\n",
       "      <td>...</td>\n",
       "      <td>5</td>\n",
       "      <td>4</td>\n",
       "      <td>5</td>\n",
       "      <td>4</td>\n",
       "      <td>5</td>\n",
       "      <td>Infield shade</td>\n",
       "      <td>Standard</td>\n",
       "      <td>187</td>\n",
       "      <td>0.0</td>\n",
       "      <td>-0.017</td>\n",
       "    </tr>\n",
       "    <tr>\n",
       "      <th>3577</th>\n",
       "      <td>FF</td>\n",
       "      <td>2023-08-25</td>\n",
       "      <td>101.3</td>\n",
       "      <td>0.06</td>\n",
       "      <td>6.81</td>\n",
       "      <td>Félix Bautista</td>\n",
       "      <td>605612</td>\n",
       "      <td>642585</td>\n",
       "      <td>field_out</td>\n",
       "      <td>hit_into_play</td>\n",
       "      <td>...</td>\n",
       "      <td>5</td>\n",
       "      <td>4</td>\n",
       "      <td>5</td>\n",
       "      <td>4</td>\n",
       "      <td>5</td>\n",
       "      <td>Standard</td>\n",
       "      <td>Standard</td>\n",
       "      <td>192</td>\n",
       "      <td>0.052</td>\n",
       "      <td>-0.194</td>\n",
       "    </tr>\n",
       "  </tbody>\n",
       "</table>\n",
       "<p>5 rows × 92 columns</p>\n",
       "</div>"
      ],
      "text/plain": [
       "     pitch_type  game_date  release_speed  release_pos_x  release_pos_z  \\\n",
       "3108         FF 2023-08-25          102.3           0.54           6.89   \n",
       "3227         FF 2023-08-25          100.6           0.21           6.87   \n",
       "3366         FS 2023-08-25           91.3          -0.07           6.76   \n",
       "3460         FF 2023-08-25          101.5           0.33           6.86   \n",
       "3577         FF 2023-08-25          101.3           0.06           6.81   \n",
       "\n",
       "         player_name  batter  pitcher     events      description  ...  \\\n",
       "3108  Félix Bautista  669911   642585       None             ball  ...   \n",
       "3227  Félix Bautista  669911   642585       None  swinging_strike  ...   \n",
       "3366  Félix Bautista  669911   642585       None             ball  ...   \n",
       "3460  Félix Bautista  669911   642585       None    called_strike  ...   \n",
       "3577  Félix Bautista  605612   642585  field_out    hit_into_play  ...   \n",
       "\n",
       "      fld_score  post_away_score  post_home_score  post_bat_score  \\\n",
       "3108          5                4                5               4   \n",
       "3227          5                4                5               4   \n",
       "3366          5                4                5               4   \n",
       "3460          5                4                5               4   \n",
       "3577          5                4                5               4   \n",
       "\n",
       "      post_fld_score if_fielding_alignment of_fielding_alignment spin_axis  \\\n",
       "3108               5         Infield shade              Standard       186   \n",
       "3227               5         Infield shade              Standard       184   \n",
       "3366               5         Infield shade              Standard       220   \n",
       "3460               5         Infield shade              Standard       187   \n",
       "3577               5              Standard              Standard       192   \n",
       "\n",
       "     delta_home_win_exp delta_run_exp  \n",
       "3108                0.0         0.016  \n",
       "3227                0.0        -0.027  \n",
       "3366                0.0         0.012  \n",
       "3460                0.0        -0.017  \n",
       "3577              0.052        -0.194  \n",
       "\n",
       "[5 rows x 92 columns]"
      ]
     },
     "execution_count": 115,
     "metadata": {},
     "output_type": "execute_result"
    }
   ],
   "source": [
    "df.loc[df['player_name'] == 'Félix Bautista'].head()"
   ]
  },
  {
   "cell_type": "code",
   "execution_count": null,
   "metadata": {},
   "outputs": [],
   "source": []
  }
 ],
 "metadata": {
  "kernelspec": {
   "display_name": "Python 3",
   "language": "python",
   "name": "python3"
  },
  "language_info": {
   "codemirror_mode": {
    "name": "ipython",
    "version": 3
   },
   "file_extension": ".py",
   "mimetype": "text/x-python",
   "name": "python",
   "nbconvert_exporter": "python",
   "pygments_lexer": "ipython3",
   "version": "3.11.1"
  }
 },
 "nbformat": 4,
 "nbformat_minor": 2
}
